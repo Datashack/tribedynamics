{
 "cells": [
  {
   "cell_type": "markdown",
   "metadata": {},
   "source": [
    "# Brief TribeDynamics data exploration"
   ]
  },
  {
   "cell_type": "code",
   "execution_count": 1,
   "metadata": {
    "collapsed": true
   },
   "outputs": [],
   "source": [
    "import pandas as pd\n",
    "import numpy as np\n",
    "\n",
    "from collections import Counter\n",
    "from sklearn.metrics import accuracy_score"
   ]
  },
  {
   "cell_type": "markdown",
   "metadata": {},
   "source": [
    "# Load data"
   ]
  },
  {
   "cell_type": "code",
   "execution_count": 2,
   "metadata": {},
   "outputs": [
    {
     "data": {
      "text/html": [
       "<div>\n",
       "<style>\n",
       "    .dataframe thead tr:only-child th {\n",
       "        text-align: right;\n",
       "    }\n",
       "\n",
       "    .dataframe thead th {\n",
       "        text-align: left;\n",
       "    }\n",
       "\n",
       "    .dataframe tbody tr th {\n",
       "        vertical-align: top;\n",
       "    }\n",
       "</style>\n",
       "<table border=\"1\" class=\"dataframe\">\n",
       "  <thead>\n",
       "    <tr style=\"text-align: right;\">\n",
       "      <th></th>\n",
       "      <th>Unnamed: 0</th>\n",
       "      <th>Unnamed: 0.1</th>\n",
       "      <th>brand_id</th>\n",
       "      <th>worker_id</th>\n",
       "      <th>mturker</th>\n",
       "      <th>post_hash</th>\n",
       "      <th>answer</th>\n",
       "      <th>date</th>\n",
       "      <th>duration_seconds</th>\n",
       "      <th>text</th>\n",
       "      <th>model_decision</th>\n",
       "      <th>timestamped_model</th>\n",
       "      <th>lang</th>\n",
       "    </tr>\n",
       "  </thead>\n",
       "  <tbody>\n",
       "    <tr>\n",
       "      <th>0</th>\n",
       "      <td>0</td>\n",
       "      <td>0</td>\n",
       "      <td>18792</td>\n",
       "      <td>TRIBE_103_allayne.low@gmail.com</td>\n",
       "      <td>False</td>\n",
       "      <td>3ca62dcea583b7aa204fc52fe6b2826c</td>\n",
       "      <td>False</td>\n",
       "      <td>2017-07-16</td>\n",
       "      <td>NaN</td>\n",
       "      <td>・\\r\\nケイト スペード ニューヨークの\\r\\n2017Fall Collectionに招...</td>\n",
       "      <td>False</td>\n",
       "      <td>NaN</td>\n",
       "      <td>ja</td>\n",
       "    </tr>\n",
       "  </tbody>\n",
       "</table>\n",
       "</div>"
      ],
      "text/plain": [
       "   Unnamed: 0  Unnamed: 0.1  brand_id                        worker_id  \\\n",
       "0           0             0     18792  TRIBE_103_allayne.low@gmail.com   \n",
       "\n",
       "   mturker                         post_hash  answer        date  \\\n",
       "0    False  3ca62dcea583b7aa204fc52fe6b2826c   False  2017-07-16   \n",
       "\n",
       "   duration_seconds                                               text  \\\n",
       "0               NaN  ・\\r\\nケイト スペード ニューヨークの\\r\\n2017Fall Collectionに招...   \n",
       "\n",
       "   model_decision timestamped_model lang  \n",
       "0           False               NaN   ja  "
      ]
     },
     "execution_count": 2,
     "metadata": {},
     "output_type": "execute_result"
    }
   ],
   "source": [
    "df = pd.read_csv('tribe_dynamics_data.csv')\n",
    "df.head(1)"
   ]
  },
  {
   "cell_type": "markdown",
   "metadata": {},
   "source": [
    "##### Drop first two columns (unnecessary row identifiers)"
   ]
  },
  {
   "cell_type": "code",
   "execution_count": 3,
   "metadata": {},
   "outputs": [
    {
     "data": {
      "text/html": [
       "<div>\n",
       "<style>\n",
       "    .dataframe thead tr:only-child th {\n",
       "        text-align: right;\n",
       "    }\n",
       "\n",
       "    .dataframe thead th {\n",
       "        text-align: left;\n",
       "    }\n",
       "\n",
       "    .dataframe tbody tr th {\n",
       "        vertical-align: top;\n",
       "    }\n",
       "</style>\n",
       "<table border=\"1\" class=\"dataframe\">\n",
       "  <thead>\n",
       "    <tr style=\"text-align: right;\">\n",
       "      <th></th>\n",
       "      <th>brand_id</th>\n",
       "      <th>worker_id</th>\n",
       "      <th>mturker</th>\n",
       "      <th>post_hash</th>\n",
       "      <th>answer</th>\n",
       "      <th>date</th>\n",
       "      <th>duration_seconds</th>\n",
       "      <th>text</th>\n",
       "      <th>model_decision</th>\n",
       "      <th>timestamped_model</th>\n",
       "      <th>lang</th>\n",
       "    </tr>\n",
       "  </thead>\n",
       "  <tbody>\n",
       "    <tr>\n",
       "      <th>0</th>\n",
       "      <td>18792</td>\n",
       "      <td>TRIBE_103_allayne.low@gmail.com</td>\n",
       "      <td>False</td>\n",
       "      <td>3ca62dcea583b7aa204fc52fe6b2826c</td>\n",
       "      <td>False</td>\n",
       "      <td>2017-07-16</td>\n",
       "      <td>NaN</td>\n",
       "      <td>・\\r\\nケイト スペード ニューヨークの\\r\\n2017Fall Collectionに招...</td>\n",
       "      <td>False</td>\n",
       "      <td>NaN</td>\n",
       "      <td>ja</td>\n",
       "    </tr>\n",
       "  </tbody>\n",
       "</table>\n",
       "</div>"
      ],
      "text/plain": [
       "   brand_id                        worker_id  mturker  \\\n",
       "0     18792  TRIBE_103_allayne.low@gmail.com    False   \n",
       "\n",
       "                          post_hash  answer        date  duration_seconds  \\\n",
       "0  3ca62dcea583b7aa204fc52fe6b2826c   False  2017-07-16               NaN   \n",
       "\n",
       "                                                text  model_decision  \\\n",
       "0  ・\\r\\nケイト スペード ニューヨークの\\r\\n2017Fall Collectionに招...           False   \n",
       "\n",
       "  timestamped_model lang  \n",
       "0               NaN   ja  "
      ]
     },
     "execution_count": 3,
     "metadata": {},
     "output_type": "execute_result"
    }
   ],
   "source": [
    "df.drop(['Unnamed: 0', 'Unnamed: 0.1'], axis=1, inplace=True)\n",
    "df.head(1)"
   ]
  },
  {
   "cell_type": "markdown",
   "metadata": {},
   "source": [
    "### Check for duplicated rows"
   ]
  },
  {
   "cell_type": "markdown",
   "metadata": {},
   "source": [
    "Perfect duplicated rows (when True, the row is completely duplicated)\n",
    "https://pandas.pydata.org/pandas-docs/stable/generated/pandas.DataFrame.duplicated.html"
   ]
  },
  {
   "cell_type": "code",
   "execution_count": 4,
   "metadata": {
    "scrolled": true
   },
   "outputs": [
    {
     "data": {
      "text/plain": [
       "Counter({False: 16142, True: 607})"
      ]
     },
     "execution_count": 4,
     "metadata": {},
     "output_type": "execute_result"
    }
   ],
   "source": [
    "Counter(df.duplicated())"
   ]
  },
  {
   "cell_type": "markdown",
   "metadata": {},
   "source": [
    "## Accuracy analysis"
   ]
  },
  {
   "cell_type": "markdown",
   "metadata": {},
   "source": [
    "##### Keep only relevant columns for the accuracy analysis"
   ]
  },
  {
   "cell_type": "code",
   "execution_count": 5,
   "metadata": {},
   "outputs": [
    {
     "data": {
      "text/html": [
       "<div>\n",
       "<style>\n",
       "    .dataframe thead tr:only-child th {\n",
       "        text-align: right;\n",
       "    }\n",
       "\n",
       "    .dataframe thead th {\n",
       "        text-align: left;\n",
       "    }\n",
       "\n",
       "    .dataframe tbody tr th {\n",
       "        vertical-align: top;\n",
       "    }\n",
       "</style>\n",
       "<table border=\"1\" class=\"dataframe\">\n",
       "  <thead>\n",
       "    <tr style=\"text-align: right;\">\n",
       "      <th></th>\n",
       "      <th>answer</th>\n",
       "      <th>model_decision</th>\n",
       "      <th>lang</th>\n",
       "      <th>mturker</th>\n",
       "    </tr>\n",
       "  </thead>\n",
       "  <tbody>\n",
       "    <tr>\n",
       "      <th>0</th>\n",
       "      <td>False</td>\n",
       "      <td>False</td>\n",
       "      <td>ja</td>\n",
       "      <td>False</td>\n",
       "    </tr>\n",
       "    <tr>\n",
       "      <th>1</th>\n",
       "      <td>False</td>\n",
       "      <td>False</td>\n",
       "      <td>ja</td>\n",
       "      <td>False</td>\n",
       "    </tr>\n",
       "    <tr>\n",
       "      <th>2</th>\n",
       "      <td>False</td>\n",
       "      <td>False</td>\n",
       "      <td>ja</td>\n",
       "      <td>False</td>\n",
       "    </tr>\n",
       "  </tbody>\n",
       "</table>\n",
       "</div>"
      ],
      "text/plain": [
       "   answer  model_decision lang  mturker\n",
       "0   False           False   ja    False\n",
       "1   False           False   ja    False\n",
       "2   False           False   ja    False"
      ]
     },
     "execution_count": 5,
     "metadata": {},
     "output_type": "execute_result"
    }
   ],
   "source": [
    "df_reduced = df[['answer', 'model_decision', 'lang', 'mturker']]\n",
    "df_reduced.head(3)"
   ]
  },
  {
   "cell_type": "markdown",
   "metadata": {},
   "source": [
    "###### Check for null values \n",
    "There are null values in the languages column"
   ]
  },
  {
   "cell_type": "code",
   "execution_count": 6,
   "metadata": {},
   "outputs": [
    {
     "data": {
      "text/plain": [
       "False"
      ]
     },
     "execution_count": 6,
     "metadata": {},
     "output_type": "execute_result"
    }
   ],
   "source": [
    "df_reduced.answer.isnull().values.any()"
   ]
  },
  {
   "cell_type": "code",
   "execution_count": 7,
   "metadata": {},
   "outputs": [
    {
     "data": {
      "text/plain": [
       "False"
      ]
     },
     "execution_count": 7,
     "metadata": {},
     "output_type": "execute_result"
    }
   ],
   "source": [
    "df_reduced.model_decision.isnull().values.any()"
   ]
  },
  {
   "cell_type": "code",
   "execution_count": 8,
   "metadata": {},
   "outputs": [
    {
     "data": {
      "text/plain": [
       "True"
      ]
     },
     "execution_count": 8,
     "metadata": {},
     "output_type": "execute_result"
    }
   ],
   "source": [
    "df_reduced.lang.isnull().values.any()"
   ]
  },
  {
   "cell_type": "markdown",
   "metadata": {},
   "source": [
    "Replace null values in 'lang' field with NaN_lang"
   ]
  },
  {
   "cell_type": "code",
   "execution_count": 9,
   "metadata": {
    "collapsed": true
   },
   "outputs": [],
   "source": [
    "df_filled = df_reduced.fillna('NaN_lang')"
   ]
  },
  {
   "cell_type": "markdown",
   "metadata": {},
   "source": [
    "### Present languages"
   ]
  },
  {
   "cell_type": "code",
   "execution_count": 10,
   "metadata": {
    "scrolled": true
   },
   "outputs": [
    {
     "data": {
      "text/plain": [
       "Counter({'NaN_lang': 24,\n",
       "         'ar': 151,\n",
       "         'ca': 3,\n",
       "         'de': 521,\n",
       "         'en': 9426,\n",
       "         'es': 1137,\n",
       "         'fr': 615,\n",
       "         'id': 3,\n",
       "         'it': 469,\n",
       "         'ja': 2480,\n",
       "         'ko': 246,\n",
       "         'nl': 18,\n",
       "         'pl': 4,\n",
       "         'pt': 579,\n",
       "         'ro': 10,\n",
       "         'ru': 251,\n",
       "         'sv': 4,\n",
       "         'th': 202,\n",
       "         'tr': 152,\n",
       "         'vi': 3,\n",
       "         'zh': 451})"
      ]
     },
     "execution_count": 10,
     "metadata": {},
     "output_type": "execute_result"
    }
   ],
   "source": [
    "Counter(df_filled['lang'].values)"
   ]
  },
  {
   "cell_type": "code",
   "execution_count": 11,
   "metadata": {
    "collapsed": true
   },
   "outputs": [],
   "source": [
    "languages_dict = {'NaN_lang': 'NaN_language',\n",
    "                  'ar': 'Arabic',\n",
    "                  'ca': 'Catalan/Valencian',\n",
    "                  'de': 'German',\n",
    "                  'en': 'English',\n",
    "                  'es': 'Spanish/Castilian',\n",
    "                  'fr': 'French',\n",
    "                  'id': 'Indonesian',\n",
    "                  'it': 'Italian',\n",
    "                  'ja': 'Japanese',\n",
    "                  'ko': 'Korean',\n",
    "                  'nl': 'Dutch/Flemish',\n",
    "                  'pl': 'Polish',\n",
    "                  'pt': 'Portuguese',\n",
    "                  'ro': 'Romanian/Moldavian/Moldovan',\n",
    "                  'ru': 'Russian',\n",
    "                  'sv': 'Swedish',\n",
    "                  'th': 'Thai',\n",
    "                  'tr': 'Turkish',\n",
    "                  'vi': 'Vietnamese',\n",
    "                  'zh': 'Chinese'}"
   ]
  },
  {
   "cell_type": "markdown",
   "metadata": {},
   "source": [
    "### Overall accuracy"
   ]
  },
  {
   "cell_type": "code",
   "execution_count": 12,
   "metadata": {},
   "outputs": [
    {
     "name": "stdout",
     "output_type": "stream",
     "text": [
      "Number of instances: 16749\t\tOverall accuracy=0.935\n"
     ]
    }
   ],
   "source": [
    "arr = df_filled.values\n",
    "y_true = arr[:,0].astype(np.bool)\n",
    "y_pred = arr[:,1].astype(np.bool)\n",
    "print(\"Number of instances: %d\\t\\tOverall accuracy=%.3f\" % (len(y_true), accuracy_score(y_true, y_pred)))"
   ]
  },
  {
   "cell_type": "markdown",
   "metadata": {},
   "source": [
    "### Per language accuracy"
   ]
  },
  {
   "cell_type": "code",
   "execution_count": 13,
   "metadata": {},
   "outputs": [
    {
     "name": "stdout",
     "output_type": "stream",
     "text": [
      "Number of distinct languages in the dataset (including Nan_lang): 21\n"
     ]
    }
   ],
   "source": [
    "languages = np.unique(df_filled['lang'].values)\n",
    "print(\"Number of distinct languages in the dataset (including Nan_lang): %d\" % (len(languages)))"
   ]
  },
  {
   "cell_type": "code",
   "execution_count": 14,
   "metadata": {
    "collapsed": true
   },
   "outputs": [],
   "source": [
    "def language_accuracy(df, language):\n",
    "    language_df = df[df.lang == language]\n",
    "    arr = language_df.values\n",
    "    y_true = arr[:,0].astype(np.bool)\n",
    "    y_pred = arr[:,1].astype(np.bool)\n",
    "    print(\"Language: %s\\t\\tNumber of instances: %d\\t\\tAccuracy=%.3f\" % (language, len(y_true), accuracy_score(y_true, y_pred)))"
   ]
  },
  {
   "cell_type": "code",
   "execution_count": 15,
   "metadata": {},
   "outputs": [
    {
     "name": "stdout",
     "output_type": "stream",
     "text": [
      "Language: NaN_lang\t\tNumber of instances: 24\t\tAccuracy=0.917\n",
      "Language: ar\t\tNumber of instances: 151\t\tAccuracy=0.987\n",
      "Language: ca\t\tNumber of instances: 3\t\tAccuracy=1.000\n",
      "Language: de\t\tNumber of instances: 521\t\tAccuracy=0.944\n",
      "Language: en\t\tNumber of instances: 9426\t\tAccuracy=0.959\n",
      "Language: es\t\tNumber of instances: 1137\t\tAccuracy=0.966\n",
      "Language: fr\t\tNumber of instances: 615\t\tAccuracy=0.977\n",
      "Language: id\t\tNumber of instances: 3\t\tAccuracy=1.000\n",
      "Language: it\t\tNumber of instances: 469\t\tAccuracy=0.983\n",
      "Language: ja\t\tNumber of instances: 2480\t\tAccuracy=0.834\n",
      "Language: ko\t\tNumber of instances: 246\t\tAccuracy=0.801\n",
      "Language: nl\t\tNumber of instances: 18\t\tAccuracy=1.000\n",
      "Language: pl\t\tNumber of instances: 4\t\tAccuracy=1.000\n",
      "Language: pt\t\tNumber of instances: 579\t\tAccuracy=0.981\n",
      "Language: ro\t\tNumber of instances: 10\t\tAccuracy=0.700\n",
      "Language: ru\t\tNumber of instances: 251\t\tAccuracy=0.884\n",
      "Language: sv\t\tNumber of instances: 4\t\tAccuracy=1.000\n",
      "Language: th\t\tNumber of instances: 202\t\tAccuracy=0.837\n",
      "Language: tr\t\tNumber of instances: 152\t\tAccuracy=0.980\n",
      "Language: vi\t\tNumber of instances: 3\t\tAccuracy=1.000\n",
      "Language: zh\t\tNumber of instances: 451\t\tAccuracy=0.863\n"
     ]
    }
   ],
   "source": [
    "for lang in languages:\n",
    "    language_accuracy(df_filled, lang)"
   ]
  },
  {
   "cell_type": "markdown",
   "metadata": {},
   "source": [
    "## MTurk vs TribeDynamics labeling"
   ]
  },
  {
   "cell_type": "code",
   "execution_count": 16,
   "metadata": {},
   "outputs": [
    {
     "name": "stdout",
     "output_type": "stream",
     "text": [
      "Instances labeled by MTurkers: 16208\n"
     ]
    }
   ],
   "source": [
    "print(\"Instances labeled by MTurkers: %d\" % (len(df[df.mturker == True])))"
   ]
  },
  {
   "cell_type": "code",
   "execution_count": 17,
   "metadata": {},
   "outputs": [
    {
     "name": "stdout",
     "output_type": "stream",
     "text": [
      "Instances labeled by Tribe's employee: 541\n"
     ]
    }
   ],
   "source": [
    "print(\"Instances labeled by Tribe's employee: %d\" % (len(df[df.mturker == False])))"
   ]
  },
  {
   "cell_type": "code",
   "execution_count": 18,
   "metadata": {},
   "outputs": [
    {
     "name": "stdout",
     "output_type": "stream",
     "text": [
      "Number of unique MTurk individuals: 404\n"
     ]
    }
   ],
   "source": [
    "df_amazon = df[df.mturker == True]\n",
    "unique_amazon_workers = np.unique(df_amazon.worker_id.values)\n",
    "print(\"Number of unique MTurk individuals: %d\" % (len(unique_amazon_workers)))"
   ]
  },
  {
   "cell_type": "code",
   "execution_count": 19,
   "metadata": {},
   "outputs": [
    {
     "name": "stdout",
     "output_type": "stream",
     "text": [
      "Number of unique Tribe's empolyees: 3\n"
     ]
    }
   ],
   "source": [
    "df_tribe = df[df.mturker == False]\n",
    "unique_tribe_workers = np.unique(df_tribe.worker_id.values)\n",
    "print(\"Number of unique Tribe's empolyees: %d\" % (len(unique_tribe_workers)))"
   ]
  },
  {
   "cell_type": "code",
   "execution_count": 20,
   "metadata": {
    "collapsed": true
   },
   "outputs": [],
   "source": [
    "def accuracy_per_labeler(df, language, isAmazon):\n",
    "    language_df = df[(df.lang == language) & (df.mturker == isAmazon)]\n",
    "    if language_df.shape[0]>0:\n",
    "        arr = language_df.values\n",
    "        y_true = arr[:,0].astype(np.bool)\n",
    "        y_pred = arr[:,1].astype(np.bool)\n",
    "        print(\"Language: %s\\t\\tNumber of instances: %d\\t\\tAccuracy=%.3f\" % (language, len(y_true), accuracy_score(y_true, y_pred)))\n",
    "    else:\n",
    "        print(\"Language %s has no instances for this case\" % (language))"
   ]
  },
  {
   "cell_type": "code",
   "execution_count": 21,
   "metadata": {},
   "outputs": [
    {
     "name": "stdout",
     "output_type": "stream",
     "text": [
      "Accuracy per language when labelers are from Amazon MTurk:\n",
      "Language: NaN_lang\t\tNumber of instances: 24\t\tAccuracy=0.917\n",
      "Language: ar\t\tNumber of instances: 151\t\tAccuracy=0.987\n",
      "Language: ca\t\tNumber of instances: 3\t\tAccuracy=1.000\n",
      "Language: de\t\tNumber of instances: 521\t\tAccuracy=0.944\n",
      "Language: en\t\tNumber of instances: 9288\t\tAccuracy=0.959\n",
      "Language: es\t\tNumber of instances: 1133\t\tAccuracy=0.966\n",
      "Language: fr\t\tNumber of instances: 614\t\tAccuracy=0.977\n",
      "Language: id\t\tNumber of instances: 3\t\tAccuracy=1.000\n",
      "Language: it\t\tNumber of instances: 469\t\tAccuracy=0.983\n",
      "Language: ja\t\tNumber of instances: 2191\t\tAccuracy=0.812\n",
      "Language: ko\t\tNumber of instances: 226\t\tAccuracy=0.783\n",
      "Language: nl\t\tNumber of instances: 18\t\tAccuracy=1.000\n",
      "Language: pl\t\tNumber of instances: 4\t\tAccuracy=1.000\n",
      "Language: pt\t\tNumber of instances: 579\t\tAccuracy=0.981\n",
      "Language: ro\t\tNumber of instances: 10\t\tAccuracy=0.700\n",
      "Language: ru\t\tNumber of instances: 251\t\tAccuracy=0.884\n",
      "Language: sv\t\tNumber of instances: 4\t\tAccuracy=1.000\n",
      "Language: th\t\tNumber of instances: 190\t\tAccuracy=0.826\n",
      "Language: tr\t\tNumber of instances: 152\t\tAccuracy=0.980\n",
      "Language: vi\t\tNumber of instances: 3\t\tAccuracy=1.000\n",
      "Language: zh\t\tNumber of instances: 374\t\tAccuracy=0.834\n"
     ]
    }
   ],
   "source": [
    "print(\"Accuracy per language when labelers are from Amazon MTurk:\")\n",
    "for lang in languages:    \n",
    "    accuracy_per_labeler(df_filled, lang, isAmazon=True)"
   ]
  },
  {
   "cell_type": "code",
   "execution_count": 22,
   "metadata": {},
   "outputs": [
    {
     "name": "stdout",
     "output_type": "stream",
     "text": [
      "Accuracy per language when labelers are Tribe's employees:\n",
      "Language NaN_lang has no instances for this case\n",
      "Language ar has no instances for this case\n",
      "Language ca has no instances for this case\n",
      "Language de has no instances for this case\n",
      "Language: en\t\tNumber of instances: 138\t\tAccuracy=0.993\n",
      "Language: es\t\tNumber of instances: 4\t\tAccuracy=1.000\n",
      "Language: fr\t\tNumber of instances: 1\t\tAccuracy=1.000\n",
      "Language id has no instances for this case\n",
      "Language it has no instances for this case\n",
      "Language: ja\t\tNumber of instances: 289\t\tAccuracy=1.000\n",
      "Language: ko\t\tNumber of instances: 20\t\tAccuracy=1.000\n",
      "Language nl has no instances for this case\n",
      "Language pl has no instances for this case\n",
      "Language pt has no instances for this case\n",
      "Language ro has no instances for this case\n",
      "Language ru has no instances for this case\n",
      "Language sv has no instances for this case\n",
      "Language: th\t\tNumber of instances: 12\t\tAccuracy=1.000\n",
      "Language tr has no instances for this case\n",
      "Language vi has no instances for this case\n",
      "Language: zh\t\tNumber of instances: 77\t\tAccuracy=1.000\n"
     ]
    }
   ],
   "source": [
    "print(\"Accuracy per language when labelers are Tribe's employees:\")\n",
    "for lang in languages:\n",
    "    accuracy_per_labeler(df_filled, lang, isAmazon=False)"
   ]
  },
  {
   "cell_type": "markdown",
   "metadata": {},
   "source": [
    "# Plots"
   ]
  },
  {
   "cell_type": "code",
   "execution_count": 23,
   "metadata": {
    "collapsed": true
   },
   "outputs": [],
   "source": [
    "accuracy_list = []\n",
    "for lang in languages:\n",
    "    language_df = df_filled[df_filled.lang == lang]\n",
    "    arr = language_df.values\n",
    "    y_true = arr[:,0].astype(np.bool)\n",
    "    y_pred = arr[:,1].astype(np.bool)\n",
    "    accuracy_list.append(accuracy_score(y_true, y_pred) * language_df.shape[0])\n",
    "accuracy_list = np.array(accuracy_list)"
   ]
  },
  {
   "cell_type": "code",
   "execution_count": 24,
   "metadata": {
    "collapsed": true
   },
   "outputs": [],
   "source": [
    "n_instances_list = []\n",
    "for lang in languages:\n",
    "    language_df = df_filled[df_filled.lang == lang]\n",
    "    n_instances_list.append(language_df.shape[0])\n",
    "n_instances_list = np.array(n_instances_list)"
   ]
  },
  {
   "cell_type": "raw",
   "metadata": {},
   "source": [
    "import matplotlib.pyplot as plt\n",
    "\n",
    "from sklearn.preprocessing import normalize\n",
    "\n",
    "\n",
    "N = len(languages)\n",
    "\n",
    "menMeans = accuracy_list / np.linalg.norm(accuracy_list)\n",
    "#womenMeans = n_instances_list / np.linalg.norm(n_instances_list)\n",
    "womenMeans = n_instances_list\n",
    "ind = np.arange(N)    # the x locations for the groups\n",
    "width = 0.35       # the width of the bars: can also be len(x) sequence\n",
    "\n",
    "p1 = plt.bar(ind, menMeans, width, color='#d62728')\n",
    "p2 = plt.bar(ind, womenMeans, width,\n",
    "             bottom=menMeans)\n",
    "\n",
    "#plt.ylabel('Accuracy on number of samples')\n",
    "#plt.title('Ac')\n",
    "plt.xticks(ind, languages)\n",
    "plt.legend((p1[0], p2[0]), ('Accuracy', 'Number of samples'))\n",
    "\n",
    " \n",
    "# Get current size\n",
    "fig_size = plt.rcParams[\"figure.figsize\"]\n",
    " \n",
    "# Set figure width to 12 and height to 9\n",
    "fig_size[0] = 100\n",
    "fig_size[1] = 80\n",
    "plt.rcParams[\"figure.figsize\"] = fig_size\n",
    "\n",
    "plt.show()"
   ]
  },
  {
   "cell_type": "raw",
   "metadata": {},
   "source": [
    "import matplotlib.pyplot as plt\n",
    "from sklearn.preprocessing import MinMaxScaler\n",
    "\n",
    "N = len(languages)\n",
    "\n",
    "menMeans = MinMaxScaler(feature_range=(0, 10)).fit_transform(accuracy_list.reshape(-1, 1)).flatten()\n",
    "womenMeans = MinMaxScaler(feature_range=(0, 10)).fit_transform(n_instances_list.reshape(-1, 1)).flatten()\n",
    "ind = np.arange(N)    # the x locations for the groups\n",
    "width = 0.35       # the width of the bars: can also be len(x) sequence\n",
    "\n",
    "p1 = plt.bar(ind, menMeans, width, color='#d62728')\n",
    "p2 = plt.bar(ind, womenMeans, width,\n",
    "             bottom=menMeans)\n",
    "\n",
    "#plt.ylabel('Accuracy on number of samples')\n",
    "#plt.title('Ac')\n",
    "plt.xticks(ind, languages)\n",
    "plt.legend((p1[0], p2[0]), ('Accuracy', 'Number of samples'))\n",
    "\n",
    " \n",
    "# Get current size\n",
    "fig_size = plt.rcParams[\"figure.figsize\"]\n",
    " \n",
    "# Set figure width to 12 and height to 9\n",
    "fig_size[0] = 100\n",
    "fig_size[1] = 80\n",
    "plt.rcParams[\"figure.figsize\"] = fig_size\n",
    "\n",
    "plt.show()"
   ]
  }
 ],
 "metadata": {
  "kernelspec": {
   "display_name": "Python 3",
   "language": "python",
   "name": "python3"
  },
  "language_info": {
   "codemirror_mode": {
    "name": "ipython",
    "version": 3
   },
   "file_extension": ".py",
   "mimetype": "text/x-python",
   "name": "python",
   "nbconvert_exporter": "python",
   "pygments_lexer": "ipython3",
   "version": "3.6.3"
  }
 },
 "nbformat": 4,
 "nbformat_minor": 2
}
