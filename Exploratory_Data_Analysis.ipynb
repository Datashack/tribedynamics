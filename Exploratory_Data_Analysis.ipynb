{
 "cells": [
  {
   "cell_type": "code",
   "execution_count": 4,
   "metadata": {},
   "outputs": [],
   "source": [
    "import pandas as pd\n",
    "df = pd.read_csv(\"tribe_dynamics_data.csv\")"
   ]
  },
  {
   "cell_type": "code",
   "execution_count": 5,
   "metadata": {},
   "outputs": [
    {
     "name": "stdout",
     "output_type": "stream",
     "text": [
      "Filtered data size is 7323\n",
      "Different languages 20\n",
      "      Unnamed: 0  Unnamed: 0.1  brand_id  worker_id  mturker  post_hash  \\\n",
      "lang                                                                      \n",
      "ar           151           151       151        151      151        151   \n",
      "ca             3             3         3          3        3          3   \n",
      "de           521           521       521        521      521        521   \n",
      "es          1137          1137      1137       1137     1137       1137   \n",
      "fr           615           615       615        615      615        615   \n",
      "id             3             3         3          3        3          3   \n",
      "it           469           469       469        469      469        469   \n",
      "ja          2480          2480      2480       2480     2480       2480   \n",
      "ko           246           246       246        246      246        246   \n",
      "nl            18            18        18         18       18         18   \n",
      "pl             4             4         4          4        4          4   \n",
      "pt           579           579       579        579      579        579   \n",
      "ro            10            10        10         10       10         10   \n",
      "ru           251           251       251        251      251        251   \n",
      "sv             4             4         4          4        4          4   \n",
      "th           202           202       202        202      202        202   \n",
      "tr           152           152       152        152      152        152   \n",
      "vi             3             3         3          3        3          3   \n",
      "zh           451           451       451        451      451        451   \n",
      "\n",
      "      answer  date  duration_seconds  text  model_decision  timestamped_model  \\\n",
      "lang                                                                            \n",
      "ar       151   151                 0   151             151                151   \n",
      "ca         3     3                 0     3               3                  3   \n",
      "de       521   521                 0   521             521                505   \n",
      "es      1137  1137                 0  1137            1137               1122   \n",
      "fr       615   615                 0   615             615                599   \n",
      "id         3     3                 0     3               3                  3   \n",
      "it       469   469                 0   469             469                463   \n",
      "ja      2480  2480                 0  2480            2480               2142   \n",
      "ko       246   246                 0   246             246                208   \n",
      "nl        18    18                 0    18              18                 18   \n",
      "pl         4     4                 0     4               4                  4   \n",
      "pt       579   579                 0   579             579                576   \n",
      "ro        10    10                 0    10              10                 10   \n",
      "ru       251   251                 0   251             251                251   \n",
      "sv         4     4                 0     4               4                  4   \n",
      "th       202   202                 0   202             202                172   \n",
      "tr       152   152                 0   152             152                149   \n",
      "vi         3     3                 0     3               3                  3   \n",
      "zh       451   451                 0   451             451                351   \n",
      "\n",
      "      pred_right  \n",
      "lang              \n",
      "ar           151  \n",
      "ca             3  \n",
      "de           521  \n",
      "es          1137  \n",
      "fr           615  \n",
      "id             3  \n",
      "it           469  \n",
      "ja          2480  \n",
      "ko           246  \n",
      "nl            18  \n",
      "pl             4  \n",
      "pt           579  \n",
      "ro            10  \n",
      "ru           251  \n",
      "sv             4  \n",
      "th           202  \n",
      "tr           152  \n",
      "vi             3  \n",
      "zh           451  \n",
      "Non-English Model accuracy is 0.904956984842\n",
      "English Model accuracy is 0.959049437725\n",
      "Overall prediction accuracy is 0.935399128306\n"
     ]
    }
   ],
   "source": [
    "df[\"pred_right\"] = (df[\"model_decision\"] == df[\"answer\"])\n",
    "df_filt = df[(df.lang)!= \"en\"]\n",
    "df_en = df[(df.lang) == \"en\"]\n"
   ]
  },
  {
   "cell_type": "markdown",
   "metadata": {},
   "source": [
    "##<b>Basic Summary</b>"
   ]
  },
  {
   "cell_type": "code",
   "execution_count": 12,
   "metadata": {},
   "outputs": [
    {
     "name": "stdout",
     "output_type": "stream",
     "text": [
      "Filtered data size is 7323\n",
      "Different languages Count :  20\n",
      "lang\n",
      "ar     151\n",
      "ca       3\n",
      "de     521\n",
      "es    1137\n",
      "fr     615\n",
      "id       3\n",
      "it     469\n",
      "ja    2480\n",
      "ko     246\n",
      "nl      18\n",
      "pl       4\n",
      "pt     579\n",
      "ro      10\n",
      "ru     251\n",
      "sv       4\n",
      "th     202\n",
      "tr     152\n",
      "vi       3\n",
      "zh     451\n",
      "Name: lang, dtype: int64\n",
      "Non-English Model accuracy is 0.904956984842\n",
      "English Model accuracy is 0.959049437725\n",
      "Overall prediction accuracy is 0.935399128306\n"
     ]
    }
   ],
   "source": [
    "print(\"Filtered data size is\", len(df_filt))\n",
    "print(\"Different languages Count : \" , len(df_filt[\"lang\"].unique()))\n",
    "print(df_filt.groupby(['lang'])[\"lang\"].count())\n",
    "print(\"Non-English Model accuracy is\",(df_filt[\"pred_right\"] == True).sum()/len(df_filt)) \n",
    "print(\"English Model accuracy is\", (df_en[\"pred_right\"] == True).sum() / len(df_en))\n",
    "print(\"Overall prediction accuracy is\",(df[\"pred_right\"] == True).sum() / len(df) )"
   ]
  },
  {
   "cell_type": "markdown",
   "metadata": {},
   "source": [
    "<b>##QUESTIONS</b>\n",
    "\n",
    "1. The current dataset looks like it has binomial classification problem. Will the final data classification be a multinomial or binomial classification i.e. categorizing brands or a true or false question of whether the post pertains to a specific brand or not ?\n",
    "\n",
    "2. Is the current model being trained on each new language separately ?  Or is the post translated and classified based on the trained english model ? Also, it would be great to know if the current model is -> convert posts to bag of words and train a naive bayes/logistic regresion model ?\n",
    "\n",
    "3. What is the downstream goal of this labeling ? This information will help us identify different tradeoffs in our modeling problem such as accuracy of prediction, computational complexity etc.\n",
    "\n",
    "4. Understanding the bigger picture - Say we have lots of training data in English. We intend to explorte Italian. We have little or no training data in Italian. We are looking for a model that learns actively as new data in Italian is obtained with a human(Tribe employee or crowdsourced) being the interpreter initially till sufficient training is obtained.\n",
    "\n",
    "5. Will the eventual model be used only for fashion,cosmetics etc. as is being done presently or is the group looking to scale across industries because we beleive that there may be fundamental differences in the texts in posts for different kinds of products.\n",
    "\n",
    "\n",
    "\n",
    "\n"
   ]
  },
  {
   "cell_type": "markdown",
   "metadata": {},
   "source": [
    "Test for commit"
   ]
  },
  {
   "cell_type": "code",
   "execution_count": null,
   "metadata": {
    "collapsed": true
   },
   "outputs": [],
   "source": []
  }
 ],
 "metadata": {
  "kernelspec": {
   "display_name": "Python 3",
   "language": "python",
   "name": "python3"
  },
  "language_info": {
   "codemirror_mode": {
    "name": "ipython",
    "version": 3
   },
   "file_extension": ".py",
   "mimetype": "text/x-python",
   "name": "python",
   "nbconvert_exporter": "python",
   "pygments_lexer": "ipython3",
   "version": "3.6.1"
  }
 },
 "nbformat": 4,
 "nbformat_minor": 2
}
