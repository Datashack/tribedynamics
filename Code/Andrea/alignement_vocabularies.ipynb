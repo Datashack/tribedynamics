{
 "cells": [
  {
   "cell_type": "markdown",
   "metadata": {},
   "source": [
    "## Languages Alignment"
   ]
  },
  {
   "cell_type": "code",
   "execution_count": 74,
   "metadata": {},
   "outputs": [],
   "source": [
    "#import libraries\n",
    "import numpy as np\n",
    "import pandas as pd\n",
    "import random\n",
    "import gensim\n",
    "from gensim.models import KeyedVectors\n",
    "from sklearn.neighbors import NearestNeighbors\n",
    "import matplotlib.pyplot as plt\n",
    "%matplotlib inline"
   ]
  },
  {
   "cell_type": "markdown",
   "metadata": {},
   "source": [
    "### Read Vocabularies and Subset Bilingual Vocabularies\n",
    "##### Big Files: do not run this it would take a while. "
   ]
  },
  {
   "cell_type": "code",
   "execution_count": 2,
   "metadata": {},
   "outputs": [],
   "source": [
    "#read source vocabulary (English)\n",
    "source_vocabulary = KeyedVectors.load_word2vec_format('fastText/wiki.en.vec')"
   ]
  },
  {
   "cell_type": "code",
   "execution_count": 3,
   "metadata": {},
   "outputs": [],
   "source": [
    "#read additional target vocabularies (Italian)\n",
    "target_vocabulary = KeyedVectors.load_word2vec_format('fastText/wiki.it.vec')"
   ]
  },
  {
   "cell_type": "code",
   "execution_count": 4,
   "metadata": {},
   "outputs": [],
   "source": [
    "#read additional target vocabularies (Portuguese)\n",
    "target_vocabulary_1 = KeyedVectors.load_word2vec_format('fastText/wiki.pt.vec')"
   ]
  },
  {
   "cell_type": "code",
   "execution_count": null,
   "metadata": {},
   "outputs": [],
   "source": [
    "#read additional target vocabularies (Russian)\n",
    "target_vocabulary_2 = KeyedVectors.load_word2vec_format('fastText/wiki.ru.vec')"
   ]
  },
  {
   "cell_type": "code",
   "execution_count": null,
   "metadata": {},
   "outputs": [],
   "source": [
    "#read additional target vocabularies (Japanese)\n",
    "target_vocabulary_3 = KeyedVectors.load_word2vec_format('fastText/wiki.ja.vec')"
   ]
  },
  {
   "cell_type": "code",
   "execution_count": null,
   "metadata": {},
   "outputs": [],
   "source": [
    "#read additional target vocabularies (Chinese)\n",
    "target_vocabulary_4 = KeyedVectors.load_word2vec_format('fastText/wiki.zh.vec')"
   ]
  },
  {
   "cell_type": "code",
   "execution_count": 5,
   "metadata": {},
   "outputs": [],
   "source": [
    "def toy_data(source_vocabulary, target_vocabulary, n_words):\n",
    "    \"\"\"Function to extract bilingual vocabulary from source and target vocabularies. It returns two dictionaries (i.e. source and target languages) with same keys.\"\"\"\n",
    "\n",
    "    #create a dictionary of overlapping words\n",
    "    source_words = set(source_vocabulary.index2word)\n",
    "    target_words = set(target_vocabulary.index2word)\n",
    "    overlap = list(source_words & target_words)\n",
    "    bilingual_vocabulary = [(entry, entry) for entry in overlap]\n",
    "    \n",
    "    #select a random number of words from the bilingual dictionary\n",
    "    pair_words = random.sample(bilingual_vocabulary, n_words)\n",
    "    toy_words = [tup[0] for tup in pair_words]\n",
    "    \n",
    "    #store vector for each word in two dictionaries (source and target)\n",
    "    source_dictionary = dict()\n",
    "    target_dictionary = dict()\n",
    "    for word in toy_words:\n",
    "        source_dictionary[word] = source_vocabulary.get_vector(str(word))\n",
    "        target_dictionary[word] = target_vocabulary.get_vector(str(word))\n",
    "    \n",
    "    return source_dictionary, target_dictionary"
   ]
  },
  {
   "cell_type": "code",
   "execution_count": 16,
   "metadata": {},
   "outputs": [],
   "source": [
    "#generate toy data eng_pt\n",
    "source_dictionary, target_dictionary = toy_data(source_vocabulary, target_vocabulary_1, 100000)"
   ]
  },
  {
   "cell_type": "code",
   "execution_count": 14,
   "metadata": {},
   "outputs": [
    {
     "data": {
      "text/plain": [
       "True"
      ]
     },
     "execution_count": 14,
     "metadata": {},
     "output_type": "execute_result"
    }
   ],
   "source": [
    "# check lenght\n",
    "len(source_dictionary.keys()) == len(target_dictionary.keys())"
   ]
  },
  {
   "cell_type": "markdown",
   "metadata": {},
   "source": [
    "### Save and Load Data"
   ]
  },
  {
   "cell_type": "code",
   "execution_count": 17,
   "metadata": {},
   "outputs": [],
   "source": [
    "# Save to file\n",
    "np.save('toy_data_eng-pt_100000.npy', source_dictionary)\n",
    "np.save('toy_data_pt-eng_100000.npy', target_dictionary)"
   ]
  },
  {
   "cell_type": "code",
   "execution_count": 2,
   "metadata": {},
   "outputs": [
    {
     "data": {
      "text/plain": [
       "True"
      ]
     },
     "execution_count": 2,
     "metadata": {},
     "output_type": "execute_result"
    }
   ],
   "source": [
    "# Read from file\n",
    "dictionary_eng_pt = np.load('toy_data_eng-pt_20000.npy').item()\n",
    "dictionary_pt_eng = np.load('toy_data_pt-eng_20000.npy').item()\n",
    "#check if the words are the same in the two vocabulary\n",
    "dictionary_eng_pt.keys() == dictionary_pt_eng.keys()"
   ]
  },
  {
   "cell_type": "markdown",
   "metadata": {},
   "source": [
    "### Split Train and Test Data"
   ]
  },
  {
   "cell_type": "code",
   "execution_count": 3,
   "metadata": {},
   "outputs": [],
   "source": [
    "def split_toy_data_train_test(source_dictionary, target_dictionary, ratio_train_test):\n",
    "    \"\"\"Function to split source and target dictionaries in train and test. It returns train and test matrices for both source and target languages.\"\"\"\n",
    "    #prepare the matrix\n",
    "    source_matrix = list(source_dictionary.values())\n",
    "    target_matrix = list(target_dictionary.values())\n",
    "    \n",
    "    #select split ratio and random indices\n",
    "    indices = np.random.permutation(len(source_matrix))\n",
    "    ratio_train_test = ratio_train_test\n",
    "    split_range = int(len(source_matrix) * ratio_train_test)\n",
    "    training_idx, test_idx = indices[:split_range], indices[split_range :]\n",
    "\n",
    "    #select by indices train and test for source and target dictionaries\n",
    "    source_train = np.array([source_matrix [i] for i in training_idx])\n",
    "    source_test = np.array([source_matrix[i] for i in test_idx])\n",
    "    target_train = np.array([target_matrix[i] for i in training_idx])\n",
    "    target_test = np.array([target_matrix[i] for i in test_idx])\n",
    "    \n",
    "    return source_train, source_test, target_train, target_test"
   ]
  },
  {
   "cell_type": "code",
   "execution_count": 79,
   "metadata": {},
   "outputs": [],
   "source": [
    "source_train, source_test, target_train, target_test = split_toy_data_train_test(dictionary_pt_eng, dictionary_eng_pt, 0.7)"
   ]
  },
  {
   "cell_type": "code",
   "execution_count": 80,
   "metadata": {},
   "outputs": [
    {
     "name": "stdout",
     "output_type": "stream",
     "text": [
      "(14000, 300) (6000, 300) (14000, 300) (6000, 300)\n"
     ]
    }
   ],
   "source": [
    "print(source_train.shape, source_test.shape, target_train.shape, target_test.shape)"
   ]
  },
  {
   "cell_type": "markdown",
   "metadata": {},
   "source": [
    "### Learn Transformation to Align Languages"
   ]
  },
  {
   "cell_type": "code",
   "execution_count": 8,
   "metadata": {},
   "outputs": [],
   "source": [
    "def normalized(a, axis=-1, order=2):\n",
    "    \"\"\"Utility function to normalize the rows of a numpy array.\"\"\"\n",
    "    l2 = np.atleast_1d(np.linalg.norm(a, order, axis))\n",
    "    l2[l2==0] = 1\n",
    "    return a / np.expand_dims(l2, axis)"
   ]
  },
  {
   "cell_type": "code",
   "execution_count": 6,
   "metadata": {},
   "outputs": [],
   "source": [
    "def learn_transformation(source_matrix, target_matrix, normalize_vectors=True):\n",
    "    \"\"\"\n",
    "    Source and target matrices are numpy arrays, shape\n",
    "    (dictionary_length, embedding_dimension). These contain paired\n",
    "    word vectors from the bilingual dictionary.\n",
    "    \"\"\"\n",
    "    # optionally normalize the training vectors\n",
    "    if normalize_vectors:\n",
    "        source_matrix = normalized(source_matrix)\n",
    "        target_matrix = normalized(target_matrix)\n",
    "\n",
    "    # perform the SVD\n",
    "    product = np.matmul(source_matrix.transpose(), target_matrix)\n",
    "    U, s, V = np.linalg.svd(product)\n",
    "\n",
    "    # return orthogonal transformation which aligns source language to the target\n",
    "    return np.matmul(U, V)"
   ]
  },
  {
   "cell_type": "code",
   "execution_count": 7,
   "metadata": {},
   "outputs": [],
   "source": [
    "def apply_transform(transformation, source_test):\n",
    "    \"\"\" Apply the given transformation to the vector space. \n",
    "    It returns predictions given transformations with embeddings E: E = E * transform \"\"\"\n",
    "    return np.matmul(source_test, transformation)"
   ]
  },
  {
   "cell_type": "code",
   "execution_count": 81,
   "metadata": {},
   "outputs": [],
   "source": [
    "# learn the transformation\n",
    "transformation = learn_transformation(source_train, target_train, normalize_vectors = False)\n",
    "# apply transformation on the test of the source language\n",
    "source_transformed = apply_transform(transformation, source_test)"
   ]
  },
  {
   "cell_type": "markdown",
   "metadata": {},
   "source": [
    "### Evaluate Transformation"
   ]
  },
  {
   "cell_type": "code",
   "execution_count": 82,
   "metadata": {},
   "outputs": [
    {
     "data": {
      "text/plain": [
       "6000"
      ]
     },
     "execution_count": 82,
     "metadata": {},
     "output_type": "execute_result"
    }
   ],
   "source": [
    "source_transformed.shape[0]"
   ]
  },
  {
   "cell_type": "code",
   "execution_count": 83,
   "metadata": {},
   "outputs": [],
   "source": [
    "def cosine_similarity(vec_a, vec_b):\n",
    "    \"\"\"Compute cosine similarity between vec_a and vec_b\"\"\"\n",
    "    return np.dot(vec_a, vec_b) / \\\n",
    "        (np.linalg.norm(vec_a) * np.linalg.norm(vec_b))"
   ]
  },
  {
   "cell_type": "code",
   "execution_count": 11,
   "metadata": {},
   "outputs": [],
   "source": [
    "def evaluate_proximity(source_transformed, target_test, close_neighbors, metric):\n",
    "    \"\"\"Compute accuracy, cosine similarity and euclidian distance between the closest transformed vectors.\n",
    "    INPUT:\n",
    "    close_neighbors: choose number of neighbors\n",
    "    metric: 'euclidian' or 'cosine' to compute kNN neighbors\n",
    "    source_tranformed: test set of the source language after transformation\n",
    "    target_test: test set of the target language\n",
    "    \n",
    "    OUTPUT:\n",
    "    accuracy: percentage of matching words, within k neighbors, between source and target language after the alignment\n",
    "    cosine_similarity: angolar distance among matching words\n",
    "    l2_norm_distance: euclidian distance among matching words\"\"\"\n",
    "\n",
    "    distance_embeddings = []\n",
    "    accuracy = []\n",
    "    similarity = []\n",
    "    distance = []\n",
    "\n",
    "    #fit model to find the closest vectors to tranformed one\n",
    "    neighbors = NearestNeighbors(n_neighbors = close_neighbors, metric = metric)\n",
    "    neighbors.fit(target_test)\n",
    "\n",
    "    for i in range(0,source_transformed.shape[0]):\n",
    "        index_transformed = i\n",
    "        #distance between two vocabularies\n",
    "        distance_embeddings.append(np.linalg.norm(source_transformed[i] - target_test[i]))\n",
    "        #find vectors in the target vocabulary\n",
    "        idx_neighbors_target = ((neighbors.kneighbors(source_transformed[index_transformed,:].reshape(1, -1)))[1][0]).tolist()\n",
    "        #evaluate proximity among target and transformed vectors\n",
    "        if index_transformed in idx_neighbors_target:\n",
    "            accuracy.append('True')\n",
    "            similarity.append(cosine_similarity(source_transformed[index_transformed], target_test[index_transformed]))\n",
    "            distance.append(np.linalg.norm(source_transformed[index_transformed] - target_test[index_transformed]))\n",
    "        else:\n",
    "            accuracy.append('False')\n",
    "\n",
    "    return [np.mean(distance_embeddings), round(accuracy.count('True')/len(accuracy)*100,2), np.mean(similarity), np.mean(distance)]"
   ]
  },
  {
   "cell_type": "code",
   "execution_count": 12,
   "metadata": {},
   "outputs": [],
   "source": [
    "def evaluate(source_test, source_transformed, target_test):\n",
    "    \"\"\"Evalaute alignment comparing the source vocabulary and its transformed version with the target vocabulary.\n",
    "    INPUT:\n",
    "    source_test: vocabulary of the source language\n",
    "    source_transformed: test set of the source language after transformation\n",
    "    target_test: test set of the target language\n",
    "    \n",
    "    OUTPUT:\n",
    "    dictionaries evaluating the alignment with different metrics\"\"\"\n",
    "    \n",
    "    sources = [source_test, source_transformed]\n",
    "    metrics = ['cosine', 'euclidean']\n",
    "    neighbors = [1,5,10]\n",
    "    evaluation_before_cosine = dict()\n",
    "    evaluation_before_euclidean = dict()\n",
    "    evaluation_after_cosine = dict()\n",
    "    evaluation_after_euclidean = dict()\n",
    "\n",
    "    for source in sources:\n",
    "        if source[0][0] == source_test[0][0]:\n",
    "            for metric in metrics:\n",
    "                if metric == 'cosine':\n",
    "                    for neighbor in neighbors:\n",
    "                        evaluation_before_cosine[neighbor] = evaluate_proximity(source_test, target_test, neighbor, 'cosine')\n",
    "\n",
    "                else:\n",
    "                    for neighbor in neighbors:\n",
    "                        evaluation_before_euclidean[neighbor] = evaluate_proximity(source_test, target_test, neighbor, 'euclidean')\n",
    "\n",
    "        else:\n",
    "            for metric in metrics:\n",
    "                if metric == 'cosine':\n",
    "                    for neighbor in neighbors:\n",
    "                        evaluation_after_cosine[neighbor] = evaluate_proximity(source_transformed, target_test, neighbor, 'cosine')\n",
    "\n",
    "                else:\n",
    "                    for neighbor in neighbors:\n",
    "                        evaluation_after_euclidean[neighbor] = evaluate_proximity(source_transformed, target_test, neighbor, 'euclidean') \n",
    "\n",
    "    return evaluation_before_cosine, evaluation_before_euclidean, evaluation_after_cosine, evaluation_after_euclidean"
   ]
  },
  {
   "cell_type": "code",
   "execution_count": 84,
   "metadata": {},
   "outputs": [
    {
     "name": "stderr",
     "output_type": "stream",
     "text": [
      "C:\\Users\\popor\\AppData\\Local\\Continuum\\anaconda3\\envs\\python3\\lib\\site-packages\\numpy\\core\\fromnumeric.py:2957: RuntimeWarning: Mean of empty slice.\n",
      "  out=out, **kwargs)\n",
      "C:\\Users\\popor\\AppData\\Local\\Continuum\\anaconda3\\envs\\python3\\lib\\site-packages\\numpy\\core\\_methods.py:80: RuntimeWarning: invalid value encountered in double_scalars\n",
      "  ret = ret.dtype.type(ret / rcount)\n"
     ]
    }
   ],
   "source": [
    "#evaluate alignment source target\n",
    "evaluation_before_cosine, evaluation_before_euclidean, evaluation_after_cosine, evaluation_after_euclidean = evaluate(source_test, source_transformed, target_test)"
   ]
  },
  {
   "cell_type": "code",
   "execution_count": 85,
   "metadata": {},
   "outputs": [
    {
     "data": {
      "text/html": [
       "<div>\n",
       "<style scoped>\n",
       "    .dataframe tbody tr th:only-of-type {\n",
       "        vertical-align: middle;\n",
       "    }\n",
       "\n",
       "    .dataframe tbody tr th {\n",
       "        vertical-align: top;\n",
       "    }\n",
       "\n",
       "    .dataframe thead tr th {\n",
       "        text-align: left;\n",
       "    }\n",
       "</style>\n",
       "<table border=\"1\" class=\"dataframe\">\n",
       "  <thead>\n",
       "    <tr>\n",
       "      <th></th>\n",
       "      <th colspan=\"4\" halign=\"left\">K@1</th>\n",
       "      <th colspan=\"4\" halign=\"left\">K@5</th>\n",
       "      <th colspan=\"4\" halign=\"left\">K@10</th>\n",
       "    </tr>\n",
       "    <tr>\n",
       "      <th></th>\n",
       "      <th colspan=\"2\" halign=\"left\">COSINE</th>\n",
       "      <th colspan=\"2\" halign=\"left\">EUCLIDEAN</th>\n",
       "      <th colspan=\"2\" halign=\"left\">COSINE</th>\n",
       "      <th colspan=\"2\" halign=\"left\">EUCLIDEAN</th>\n",
       "      <th colspan=\"2\" halign=\"left\">COSINE</th>\n",
       "      <th colspan=\"2\" halign=\"left\">EUCLIDEAN</th>\n",
       "    </tr>\n",
       "    <tr>\n",
       "      <th></th>\n",
       "      <th>non_tranformed</th>\n",
       "      <th>tranformed</th>\n",
       "      <th>non_tranformed</th>\n",
       "      <th>tranformed</th>\n",
       "      <th>non_tranformed</th>\n",
       "      <th>tranformed</th>\n",
       "      <th>non_tranformed</th>\n",
       "      <th>tranformed</th>\n",
       "      <th>non_tranformed</th>\n",
       "      <th>tranformed</th>\n",
       "      <th>non_tranformed</th>\n",
       "      <th>tranformed</th>\n",
       "    </tr>\n",
       "  </thead>\n",
       "  <tbody>\n",
       "    <tr>\n",
       "      <th>distance_embeddings</th>\n",
       "      <td>6.97935</td>\n",
       "      <td>4.486204</td>\n",
       "      <td>6.979350</td>\n",
       "      <td>4.486204</td>\n",
       "      <td>6.979350</td>\n",
       "      <td>4.486204</td>\n",
       "      <td>6.979350</td>\n",
       "      <td>4.486204</td>\n",
       "      <td>6.979350</td>\n",
       "      <td>4.486204</td>\n",
       "      <td>6.979350</td>\n",
       "      <td>4.486204</td>\n",
       "    </tr>\n",
       "    <tr>\n",
       "      <th>accuracy</th>\n",
       "      <td>0.00000</td>\n",
       "      <td>61.730000</td>\n",
       "      <td>0.020000</td>\n",
       "      <td>35.630000</td>\n",
       "      <td>0.030000</td>\n",
       "      <td>79.500000</td>\n",
       "      <td>0.100000</td>\n",
       "      <td>53.420000</td>\n",
       "      <td>0.100000</td>\n",
       "      <td>84.850000</td>\n",
       "      <td>0.180000</td>\n",
       "      <td>60.280000</td>\n",
       "    </tr>\n",
       "    <tr>\n",
       "      <th>cosine_similarity</th>\n",
       "      <td>NaN</td>\n",
       "      <td>0.620870</td>\n",
       "      <td>-0.048624</td>\n",
       "      <td>0.652534</td>\n",
       "      <td>0.175199</td>\n",
       "      <td>0.607791</td>\n",
       "      <td>0.007897</td>\n",
       "      <td>0.635990</td>\n",
       "      <td>0.163672</td>\n",
       "      <td>0.602409</td>\n",
       "      <td>0.022337</td>\n",
       "      <td>0.628767</td>\n",
       "    </tr>\n",
       "    <tr>\n",
       "      <th>euclidean_distance</th>\n",
       "      <td>NaN</td>\n",
       "      <td>4.266411</td>\n",
       "      <td>3.258704</td>\n",
       "      <td>3.996814</td>\n",
       "      <td>5.847142</td>\n",
       "      <td>4.346250</td>\n",
       "      <td>4.990319</td>\n",
       "      <td>4.085749</td>\n",
       "      <td>6.344755</td>\n",
       "      <td>4.372633</td>\n",
       "      <td>5.186204</td>\n",
       "      <td>4.127683</td>\n",
       "    </tr>\n",
       "  </tbody>\n",
       "</table>\n",
       "</div>"
      ],
      "text/plain": [
       "                               K@1                                       \\\n",
       "                            COSINE                 EUCLIDEAN              \n",
       "                    non_tranformed tranformed non_tranformed tranformed   \n",
       "distance_embeddings        6.97935   4.486204       6.979350   4.486204   \n",
       "accuracy                   0.00000  61.730000       0.020000  35.630000   \n",
       "cosine_similarity              NaN   0.620870      -0.048624   0.652534   \n",
       "euclidean_distance             NaN   4.266411       3.258704   3.996814   \n",
       "\n",
       "                               K@5                                       \\\n",
       "                            COSINE                 EUCLIDEAN              \n",
       "                    non_tranformed tranformed non_tranformed tranformed   \n",
       "distance_embeddings       6.979350   4.486204       6.979350   4.486204   \n",
       "accuracy                  0.030000  79.500000       0.100000  53.420000   \n",
       "cosine_similarity         0.175199   0.607791       0.007897   0.635990   \n",
       "euclidean_distance        5.847142   4.346250       4.990319   4.085749   \n",
       "\n",
       "                              K@10                                       \n",
       "                            COSINE                 EUCLIDEAN             \n",
       "                    non_tranformed tranformed non_tranformed tranformed  \n",
       "distance_embeddings       6.979350   4.486204       6.979350   4.486204  \n",
       "accuracy                  0.100000  84.850000       0.180000  60.280000  \n",
       "cosine_similarity         0.163672   0.602409       0.022337   0.628767  \n",
       "euclidean_distance        6.344755   4.372633       5.186204   4.127683  "
      ]
     },
     "execution_count": 85,
     "metadata": {},
     "output_type": "execute_result"
    }
   ],
   "source": [
    "#set alignment evaluation table\n",
    "index = ['distance_embeddings', 'accuracy', 'cosine_similarity', 'euclidean_distance']\n",
    "\n",
    "#dump evaluation within dataframe\n",
    "df_pt_eng = pd.DataFrame({'a': list(evaluation_before_cosine[1]),\n",
    "                          'b': list(evaluation_after_cosine[1]),\n",
    "                          'c': list(evaluation_before_euclidean[1]),\n",
    "                          'd': list(evaluation_after_euclidean[1]),\n",
    "                          \n",
    "                          'e': list(evaluation_before_cosine[5]),\n",
    "                          'f': list(evaluation_after_cosine[5]),\n",
    "                          'g': list(evaluation_before_euclidean[5]),\n",
    "                          'h': list(evaluation_after_euclidean[5]),\n",
    "          \n",
    "                          'i': list(evaluation_before_cosine[10]),\n",
    "                          'l': list(evaluation_after_cosine[10]),\n",
    "                          'm': list(evaluation_before_euclidean[10]),\n",
    "                          'n': list(evaluation_after_euclidean[10])}, index=index)\n",
    "\n",
    "#assign multilevel temporary columns name\n",
    "columns=[('K@1','COSINE', 'a'),  ('K@1','COSINE', 'b'), ('K@1','EUCLIDEAN', 'c'),  ('K@1','EUCLIDEAN', 'd'),\n",
    "   ('K@5','COSINE', 'e'),  ('K@5','COSINE', 'f'), ('K@5','EUCLIDEAN', 'g'),  ('K@5','EUCLIDEAN', 'h'),\n",
    "    ('K@10','COSINE', 'i'),  ('K@10','COSINE', 'l'), ('K@10','EUCLIDEAN', 'm'),  ('K@10','EUCLIDEAN', 'n')]\n",
    "\n",
    "#make multindex\n",
    "df_pt_eng.columns= pd.MultiIndex.from_tuples(columns)\n",
    "\n",
    "#change columns names\n",
    "change_columns_name = ['non_tranformed','tranformed','non_tranformed','tranformed', 'non_tranformed','tranformed','non_tranformed','tranformed', 'non_tranformed','tranformed','non_tranformed','tranformed']\n",
    "df_pt_eng.columns.set_levels(change_columns_name,level=2,inplace=True)\n",
    "df_pt_eng"
   ]
  },
  {
   "cell_type": "code",
   "execution_count": 30,
   "metadata": {},
   "outputs": [
    {
     "data": {
      "text/html": [
       "<div>\n",
       "<style scoped>\n",
       "    .dataframe tbody tr th:only-of-type {\n",
       "        vertical-align: middle;\n",
       "    }\n",
       "\n",
       "    .dataframe tbody tr th {\n",
       "        vertical-align: top;\n",
       "    }\n",
       "\n",
       "    .dataframe thead tr th {\n",
       "        text-align: left;\n",
       "    }\n",
       "</style>\n",
       "<table border=\"1\" class=\"dataframe\">\n",
       "  <thead>\n",
       "    <tr>\n",
       "      <th></th>\n",
       "      <th colspan=\"4\" halign=\"left\">K@1</th>\n",
       "      <th colspan=\"4\" halign=\"left\">K@5</th>\n",
       "      <th colspan=\"4\" halign=\"left\">K@10</th>\n",
       "    </tr>\n",
       "    <tr>\n",
       "      <th></th>\n",
       "      <th colspan=\"2\" halign=\"left\">COSINE</th>\n",
       "      <th colspan=\"2\" halign=\"left\">EUCLIDEAN</th>\n",
       "      <th colspan=\"2\" halign=\"left\">COSINE</th>\n",
       "      <th colspan=\"2\" halign=\"left\">EUCLIDEAN</th>\n",
       "      <th colspan=\"2\" halign=\"left\">COSINE</th>\n",
       "      <th colspan=\"2\" halign=\"left\">EUCLIDEAN</th>\n",
       "    </tr>\n",
       "    <tr>\n",
       "      <th></th>\n",
       "      <th>non_tranformed</th>\n",
       "      <th>tranformed</th>\n",
       "      <th>non_tranformed</th>\n",
       "      <th>tranformed</th>\n",
       "      <th>non_tranformed</th>\n",
       "      <th>tranformed</th>\n",
       "      <th>non_tranformed</th>\n",
       "      <th>tranformed</th>\n",
       "      <th>non_tranformed</th>\n",
       "      <th>tranformed</th>\n",
       "      <th>non_tranformed</th>\n",
       "      <th>tranformed</th>\n",
       "    </tr>\n",
       "  </thead>\n",
       "  <tbody>\n",
       "    <tr>\n",
       "      <th>distance_embeddings</th>\n",
       "      <td>6.960269</td>\n",
       "      <td>4.465349</td>\n",
       "      <td>6.960269</td>\n",
       "      <td>4.465349</td>\n",
       "      <td>6.960269</td>\n",
       "      <td>4.465349</td>\n",
       "      <td>6.960269</td>\n",
       "      <td>4.465349</td>\n",
       "      <td>6.960269</td>\n",
       "      <td>4.465349</td>\n",
       "      <td>6.960269</td>\n",
       "      <td>4.465349</td>\n",
       "    </tr>\n",
       "    <tr>\n",
       "      <th>accuracy</th>\n",
       "      <td>0.030000</td>\n",
       "      <td>60.530000</td>\n",
       "      <td>0.020000</td>\n",
       "      <td>47.520000</td>\n",
       "      <td>0.120000</td>\n",
       "      <td>79.030000</td>\n",
       "      <td>0.120000</td>\n",
       "      <td>65.220000</td>\n",
       "      <td>0.130000</td>\n",
       "      <td>84.550000</td>\n",
       "      <td>0.180000</td>\n",
       "      <td>71.100000</td>\n",
       "    </tr>\n",
       "    <tr>\n",
       "      <th>cosine_similarity</th>\n",
       "      <td>0.192468</td>\n",
       "      <td>0.624186</td>\n",
       "      <td>0.030515</td>\n",
       "      <td>0.646520</td>\n",
       "      <td>0.171238</td>\n",
       "      <td>0.610093</td>\n",
       "      <td>0.040887</td>\n",
       "      <td>0.631336</td>\n",
       "      <td>0.162262</td>\n",
       "      <td>0.604449</td>\n",
       "      <td>0.038368</td>\n",
       "      <td>0.624230</td>\n",
       "    </tr>\n",
       "    <tr>\n",
       "      <th>euclidean_distance</th>\n",
       "      <td>6.542164</td>\n",
       "      <td>4.264180</td>\n",
       "      <td>4.454175</td>\n",
       "      <td>4.115014</td>\n",
       "      <td>6.249800</td>\n",
       "      <td>4.330600</td>\n",
       "      <td>5.378512</td>\n",
       "      <td>4.198347</td>\n",
       "      <td>6.335183</td>\n",
       "      <td>4.354204</td>\n",
       "      <td>5.200187</td>\n",
       "      <td>4.235862</td>\n",
       "    </tr>\n",
       "  </tbody>\n",
       "</table>\n",
       "</div>"
      ],
      "text/plain": [
       "                               K@1                                       \\\n",
       "                            COSINE                 EUCLIDEAN              \n",
       "                    non_tranformed tranformed non_tranformed tranformed   \n",
       "distance_embeddings       6.960269   4.465349       6.960269   4.465349   \n",
       "accuracy                  0.030000  60.530000       0.020000  47.520000   \n",
       "cosine_similarity         0.192468   0.624186       0.030515   0.646520   \n",
       "euclidean_distance        6.542164   4.264180       4.454175   4.115014   \n",
       "\n",
       "                               K@5                                       \\\n",
       "                            COSINE                 EUCLIDEAN              \n",
       "                    non_tranformed tranformed non_tranformed tranformed   \n",
       "distance_embeddings       6.960269   4.465349       6.960269   4.465349   \n",
       "accuracy                  0.120000  79.030000       0.120000  65.220000   \n",
       "cosine_similarity         0.171238   0.610093       0.040887   0.631336   \n",
       "euclidean_distance        6.249800   4.330600       5.378512   4.198347   \n",
       "\n",
       "                              K@10                                       \n",
       "                            COSINE                 EUCLIDEAN             \n",
       "                    non_tranformed tranformed non_tranformed tranformed  \n",
       "distance_embeddings       6.960269   4.465349       6.960269   4.465349  \n",
       "accuracy                  0.130000  84.550000       0.180000  71.100000  \n",
       "cosine_similarity         0.162262   0.604449       0.038368   0.624230  \n",
       "euclidean_distance        6.335183   4.354204       5.200187   4.235862  "
      ]
     },
     "execution_count": 30,
     "metadata": {},
     "output_type": "execute_result"
    }
   ],
   "source": [
    "#output evaluation table\n",
    "df_pt_eng"
   ]
  },
  {
   "cell_type": "code",
   "execution_count": 86,
   "metadata": {},
   "outputs": [],
   "source": [
    "#save evaluation table to csv\n",
    "df_pt_eng.to_csv('evaluation_pt_eng_20k.csv')"
   ]
  },
  {
   "cell_type": "code",
   "execution_count": 32,
   "metadata": {},
   "outputs": [
    {
     "name": "stderr",
     "output_type": "stream",
     "text": [
      "C:\\Users\\popor\\AppData\\Local\\Continuum\\anaconda3\\envs\\python3\\lib\\site-packages\\pandas\\io\\parsers.py:813: FutureWarning: The 'tupleize_cols' argument has been deprecated and will be removed in a future version. Column tuples will then always be converted to MultiIndex.\n",
      "\n",
      "\n",
      "  self.options, self.engine = self._clean_options(options, engine)\n"
     ]
    },
    {
     "data": {
      "text/html": [
       "<div>\n",
       "<style scoped>\n",
       "    .dataframe tbody tr th:only-of-type {\n",
       "        vertical-align: middle;\n",
       "    }\n",
       "\n",
       "    .dataframe tbody tr th {\n",
       "        vertical-align: top;\n",
       "    }\n",
       "\n",
       "    .dataframe thead tr th {\n",
       "        text-align: left;\n",
       "    }\n",
       "</style>\n",
       "<table border=\"1\" class=\"dataframe\">\n",
       "  <thead>\n",
       "    <tr>\n",
       "      <th></th>\n",
       "      <th>Unnamed: 0_level_0</th>\n",
       "      <th colspan=\"4\" halign=\"left\">K@1</th>\n",
       "      <th colspan=\"4\" halign=\"left\">K@5</th>\n",
       "      <th colspan=\"4\" halign=\"left\">K@10</th>\n",
       "    </tr>\n",
       "    <tr>\n",
       "      <th></th>\n",
       "      <th>Unnamed: 0_level_1</th>\n",
       "      <th colspan=\"2\" halign=\"left\">COSINE</th>\n",
       "      <th colspan=\"2\" halign=\"left\">EUCLIDEAN</th>\n",
       "      <th colspan=\"2\" halign=\"left\">COSINE</th>\n",
       "      <th colspan=\"2\" halign=\"left\">EUCLIDEAN</th>\n",
       "      <th colspan=\"2\" halign=\"left\">COSINE</th>\n",
       "      <th colspan=\"2\" halign=\"left\">EUCLIDEAN</th>\n",
       "    </tr>\n",
       "    <tr>\n",
       "      <th></th>\n",
       "      <th>Unnamed: 0_level_2</th>\n",
       "      <th>non_tranformed</th>\n",
       "      <th>tranformed</th>\n",
       "      <th>non_tranformed</th>\n",
       "      <th>tranformed</th>\n",
       "      <th>non_tranformed</th>\n",
       "      <th>tranformed</th>\n",
       "      <th>non_tranformed</th>\n",
       "      <th>tranformed</th>\n",
       "      <th>non_tranformed</th>\n",
       "      <th>tranformed</th>\n",
       "      <th>non_tranformed</th>\n",
       "      <th>tranformed</th>\n",
       "    </tr>\n",
       "  </thead>\n",
       "  <tbody>\n",
       "    <tr>\n",
       "      <th>0</th>\n",
       "      <td>distance_embeddings</td>\n",
       "      <td>6.960269</td>\n",
       "      <td>4.465349</td>\n",
       "      <td>6.960269</td>\n",
       "      <td>4.465349</td>\n",
       "      <td>6.960269</td>\n",
       "      <td>4.465349</td>\n",
       "      <td>6.960269</td>\n",
       "      <td>4.465349</td>\n",
       "      <td>6.960269</td>\n",
       "      <td>4.465349</td>\n",
       "      <td>6.960269</td>\n",
       "      <td>4.465349</td>\n",
       "    </tr>\n",
       "    <tr>\n",
       "      <th>1</th>\n",
       "      <td>accuracy</td>\n",
       "      <td>0.030000</td>\n",
       "      <td>60.530000</td>\n",
       "      <td>0.020000</td>\n",
       "      <td>47.520000</td>\n",
       "      <td>0.120000</td>\n",
       "      <td>79.030000</td>\n",
       "      <td>0.120000</td>\n",
       "      <td>65.220000</td>\n",
       "      <td>0.130000</td>\n",
       "      <td>84.550000</td>\n",
       "      <td>0.180000</td>\n",
       "      <td>71.100000</td>\n",
       "    </tr>\n",
       "    <tr>\n",
       "      <th>2</th>\n",
       "      <td>cosine_similarity</td>\n",
       "      <td>0.192468</td>\n",
       "      <td>0.624186</td>\n",
       "      <td>0.030515</td>\n",
       "      <td>0.646520</td>\n",
       "      <td>0.171238</td>\n",
       "      <td>0.610093</td>\n",
       "      <td>0.040887</td>\n",
       "      <td>0.631336</td>\n",
       "      <td>0.162262</td>\n",
       "      <td>0.604449</td>\n",
       "      <td>0.038368</td>\n",
       "      <td>0.624230</td>\n",
       "    </tr>\n",
       "    <tr>\n",
       "      <th>3</th>\n",
       "      <td>euclidean_distance</td>\n",
       "      <td>6.542164</td>\n",
       "      <td>4.264180</td>\n",
       "      <td>4.454175</td>\n",
       "      <td>4.115014</td>\n",
       "      <td>6.249800</td>\n",
       "      <td>4.330600</td>\n",
       "      <td>5.378512</td>\n",
       "      <td>4.198347</td>\n",
       "      <td>6.335183</td>\n",
       "      <td>4.354204</td>\n",
       "      <td>5.200187</td>\n",
       "      <td>4.235862</td>\n",
       "    </tr>\n",
       "  </tbody>\n",
       "</table>\n",
       "</div>"
      ],
      "text/plain": [
       "    Unnamed: 0_level_0            K@1                                       \\\n",
       "    Unnamed: 0_level_1         COSINE                 EUCLIDEAN              \n",
       "    Unnamed: 0_level_2 non_tranformed tranformed non_tranformed tranformed   \n",
       "0  distance_embeddings       6.960269   4.465349       6.960269   4.465349   \n",
       "1             accuracy       0.030000  60.530000       0.020000  47.520000   \n",
       "2    cosine_similarity       0.192468   0.624186       0.030515   0.646520   \n",
       "3   euclidean_distance       6.542164   4.264180       4.454175   4.115014   \n",
       "\n",
       "             K@5                                                K@10  \\\n",
       "          COSINE                 EUCLIDEAN                    COSINE   \n",
       "  non_tranformed tranformed non_tranformed tranformed non_tranformed   \n",
       "0       6.960269   4.465349       6.960269   4.465349       6.960269   \n",
       "1       0.120000  79.030000       0.120000  65.220000       0.130000   \n",
       "2       0.171238   0.610093       0.040887   0.631336       0.162262   \n",
       "3       6.249800   4.330600       5.378512   4.198347       6.335183   \n",
       "\n",
       "                                        \n",
       "                  EUCLIDEAN             \n",
       "  tranformed non_tranformed tranformed  \n",
       "0   4.465349       6.960269   4.465349  \n",
       "1  84.550000       0.180000  71.100000  \n",
       "2   0.604449       0.038368   0.624230  \n",
       "3   4.354204       5.200187   4.235862  "
      ]
     },
     "execution_count": 32,
     "metadata": {},
     "output_type": "execute_result"
    }
   ],
   "source": [
    "#read evaluation\n",
    "df = pd.read_csv('evaluation_eng_pt_20k.csv', header=[0,1,2], tupleize_cols=True)\n",
    "df.columns = pd.MultiIndex.from_tuples(df.columns)\n",
    "df.reset_index(drop=True)"
   ]
  },
  {
   "cell_type": "code",
   "execution_count": 67,
   "metadata": {},
   "outputs": [],
   "source": [
    "def evaluate_rotation(source_test, source_transformed, target_test):\n",
    "    \"\"\"Evalaute rotation comparing: 1) the source vocabulary and its transformed version;\n",
    "                                    2) source vocabulary transformed and the target vocabulary;\n",
    "                                    3) source and target vocabularies;\n",
    "    INPUT:\n",
    "    source_test: vocabulary of the source language\n",
    "    source_transformed: test set of the source language after transformation\n",
    "    target_test: test set of the target language\n",
    "    \n",
    "    OUTPUT:\n",
    "    euclidian distance and cosine similarity for each rotation comparison\"\"\"\n",
    "\n",
    "    distance_source_target = []\n",
    "    distance_source_transformed = []\n",
    "    distance_transformed_target = []\n",
    "    similarity_source_target = []\n",
    "    similarity_source_transformed = []\n",
    "    similarity_transformed_target = []\n",
    "\n",
    "    for i in range(0,source_test.shape[0]):\n",
    "        distance_source_target.append(np.linalg.norm(source_test[i] - target_test[i]))\n",
    "        distance_source_transformed.append(np.linalg.norm(source_test[i] - source_transformed[i]))\n",
    "        distance_transformed_target.append(np.linalg.norm(source_transformed[i] - target_test[i]))\n",
    "\n",
    "        similarity_source_target.append(cosine_similarity(target_test[i],source_test[i]))\n",
    "        similarity_source_transformed.append(cosine_similarity(source_test[i], source_transformed[i]))\n",
    "        similarity_transformed_target.append(cosine_similarity(source_transformed[i], target_test[i]))\n",
    "\n",
    "    return distance_source_target, distance_source_transformed, distance_transformed_target, similarity_source_target, similarity_source_transformed, similarity_transformed_target"
   ]
  },
  {
   "cell_type": "code",
   "execution_count": 87,
   "metadata": {},
   "outputs": [],
   "source": [
    "# evalutate rotation\n",
    "distance_source_target, distance_source_transformed, distance_transformed_target, similarity_source_target, similarity_source_transformed, similarity_transformed_target = evaluate_rotation(source_test, source_transformed, target_test)"
   ]
  },
  {
   "cell_type": "code",
   "execution_count": 88,
   "metadata": {},
   "outputs": [],
   "source": [
    "# store output evaluation rotation in a dictionary\n",
    "output_evaluation_rotation = {'distance_source_target':distance_source_target, \n",
    "                              'distance_source_transformed': distance_source_transformed, \n",
    "                              'distance_transformed_target': distance_transformed_target, \n",
    "                              'similarity_source_target': similarity_source_target, \n",
    "                              'similarity_source_transformed': similarity_source_transformed, \n",
    "                              'similarity_transformed_target': similarity_transformed_target}"
   ]
  },
  {
   "cell_type": "code",
   "execution_count": 89,
   "metadata": {},
   "outputs": [],
   "source": [
    "#rememeber first language is the target, second the source\n",
    "# save evaluation results \n",
    "import pickle\n",
    "with open('output_evaluation_rotation_pt_eng', 'wb') as f:\n",
    "    pickle.dump(output_evaluation_rotation, f)"
   ]
  },
  {
   "cell_type": "code",
   "execution_count": 70,
   "metadata": {},
   "outputs": [],
   "source": [
    "# load evaluation results\n",
    "with open('output_evaluation_rotation_eng_pt', 'rb') as f:\n",
    "     data = pickle.load(f)"
   ]
  },
  {
   "cell_type": "code",
   "execution_count": 71,
   "metadata": {},
   "outputs": [
    {
     "data": {
      "text/plain": [
       "dict_keys(['distance_source_target', 'distance_source_transformed', 'distance_transformed_target', 'similarity_source_target', 'similarity_source_transformed', 'similarity_transformed_target'])"
      ]
     },
     "execution_count": 71,
     "metadata": {},
     "output_type": "execute_result"
    }
   ],
   "source": [
    "data.keys()"
   ]
  },
  {
   "cell_type": "code",
   "execution_count": 90,
   "metadata": {},
   "outputs": [
    {
     "data": {
      "image/png": "[encoded data removed]",
      "text/plain": [
       "<Figure size 864x720 with 3 Axes>"
      ]
     },
     "metadata": {},
     "output_type": "display_data"
    }
   ],
   "source": [
    "# Plot euclidian distances comparison pt-eng\n",
    "fig = plt.figure(figsize=(12, 10))\n",
    "grid = plt.GridSpec(24, 4, hspace=0.5, wspace=0.5)\n",
    "main_ax = fig.add_subplot(grid[:16, 0:])\n",
    "x1_hist = fig.add_subplot(grid[-7:, :2], sharex=main_ax)\n",
    "x2_hist = fig.add_subplot(grid[-7:, 2:], sharex=main_ax)\n",
    "\n",
    "main_ax.hist(distance_source_target, \n",
    "             color = \"lightcoral\", bins=40, alpha=.5, \n",
    "             edgecolor='black', linewidth=1, label='distance_source_target')\n",
    "main_ax.hist(distance_transformed_target, \n",
    "             color = \"lightskyblue\", bins=40, alpha=0.6, \n",
    "             edgecolor='black', linewidth=1, label='distance_transformed_target')\n",
    "main_ax.axvline(np.mean(distance_source_target)-.05, color='black',alpha=0.7, linestyle='dashed', linewidth=1.5)\n",
    "main_ax.axvline(np.mean(distance_transformed_target), color='black',alpha=0.7, linestyle='dashed', linewidth=1.5)\n",
    "#main_ax.annotate(str(round(np.mean(distance_transformed_target),2)), xy=(2, 820), xytext=(4.55, 815))\n",
    "\n",
    "#ok\n",
    "x1_hist.hist(distance_source_target, \n",
    "             color = \"lightcoral\", bins=40, alpha=0.4, \n",
    "             edgecolor='black', linewidth=.5) #, label='source_target'\n",
    "x1_hist.hist(distance_source_transformed, \n",
    "             color = \"seagreen\", bins=40, alpha=0.5, \n",
    "             edgecolor='black', linewidth=.5, label='distance_source_transformed')\n",
    "x1_hist.axvline(np.mean(distance_source_target), color='black',alpha=0.5, linestyle='dashed', linewidth=1.3)\n",
    "x1_hist.axvline(np.mean(distance_source_transformed), color='black',alpha=0.5, linestyle='dashed', linewidth=1.3)\n",
    "\n",
    "x2_hist.hist(distance_source_transformed, \n",
    "             color = \"seagreen\", bins=40, alpha=0.5,\n",
    "             edgecolor='black', linewidth=.5) #, label='source_transformed'\n",
    "x2_hist.hist(distance_transformed_target, \n",
    "             color = \"lightskyblue\", bins=40, alpha=0.6, \n",
    "             edgecolor='black', linewidth=.5) #, label='transformed_target'\n",
    "x2_hist.axvline(np.mean(distance_source_transformed), color='black',alpha=0.5, linestyle='dashed', linewidth=1.3)\n",
    "x2_hist.axvline(np.mean(distance_transformed_target), color='black',alpha=0.5, linestyle='dashed', linewidth=1.3)\n",
    "\n",
    "plt.figlegend(loc = 'lower center', ncol=3, labelspacing=0.5) #bbox_to_anchor=(1.1, 1.05)\n",
    "plt.suptitle('Euclidean Distance:\\n before and after alignment comparisons\\nPortuguese-English', fontsize=15);"
   ]
  },
  {
   "cell_type": "code",
   "execution_count": 77,
   "metadata": {},
   "outputs": [
    {
     "data": {
      "image/png": "[encoded data removed]",
      "text/plain": [
       "<Figure size 864x720 with 3 Axes>"
      ]
     },
     "metadata": {},
     "output_type": "display_data"
    }
   ],
   "source": [
    "# Plot euclidian distances comparison eng-pt\n",
    "fig = plt.figure(figsize=(12, 10))\n",
    "grid = plt.GridSpec(24, 4, hspace=0.5, wspace=0.5)\n",
    "main_ax = fig.add_subplot(grid[:16, 0:])\n",
    "x1_hist = fig.add_subplot(grid[-7:, :2], sharex=main_ax)\n",
    "x2_hist = fig.add_subplot(grid[-7:, 2:], sharex=main_ax)\n",
    "\n",
    "main_ax.hist(distance_source_target, \n",
    "             color = \"lightcoral\", bins=40, alpha=.5, \n",
    "             edgecolor='black', linewidth=1, label='distance_source_target')\n",
    "main_ax.hist(distance_transformed_target, \n",
    "             color = \"lightskyblue\", bins=40, alpha=0.6, \n",
    "             edgecolor='black', linewidth=1, label='distance_transformed_target')\n",
    "main_ax.axvline(np.mean(distance_source_target)-.05, color='black',alpha=0.7, linestyle='dashed', linewidth=1.5)\n",
    "main_ax.axvline(np.mean(distance_transformed_target), color='black',alpha=0.7, linestyle='dashed', linewidth=1.5)\n",
    "#main_ax.annotate(str(round(np.mean(distance_transformed_target),2)), xy=(2, 820), xytext=(4.55, 815))\n",
    "\n",
    "#ok\n",
    "x1_hist.hist(distance_source_target, \n",
    "             color = \"lightcoral\", bins=40, alpha=0.4, \n",
    "             edgecolor='black', linewidth=.5) #, label='source_target'\n",
    "x1_hist.hist(distance_source_transformed, \n",
    "             color = \"seagreen\", bins=40, alpha=0.5, \n",
    "             edgecolor='black', linewidth=.5, label='distance_source_transformed')\n",
    "x1_hist.axvline(np.mean(distance_source_target), color='black',alpha=0.5, linestyle='dashed', linewidth=1.3)\n",
    "x1_hist.axvline(np.mean(distance_source_transformed), color='black',alpha=0.5, linestyle='dashed', linewidth=1.3)\n",
    "\n",
    "x2_hist.hist(distance_source_transformed, \n",
    "             color = \"seagreen\", bins=40, alpha=0.5,\n",
    "             edgecolor='black', linewidth=.5) #, label='source_transformed'\n",
    "x2_hist.hist(distance_transformed_target, \n",
    "             color = \"lightskyblue\", bins=40, alpha=0.6, \n",
    "             edgecolor='black', linewidth=.5) #, label='transformed_target'\n",
    "x2_hist.axvline(np.mean(distance_source_transformed), color='black',alpha=0.5, linestyle='dashed', linewidth=1.3)\n",
    "x2_hist.axvline(np.mean(distance_transformed_target), color='black',alpha=0.5, linestyle='dashed', linewidth=1.3)\n",
    "\n",
    "plt.figlegend(loc = 'lower center', ncol=3, labelspacing=0.5) #bbox_to_anchor=(1.1, 1.05)\n",
    "plt.suptitle('Euclidean Distance:\\n before and after alignment comparisons\\nEnglish-Portuguese', fontsize=15);"
   ]
  },
  {
   "cell_type": "code",
   "execution_count": 78,
   "metadata": {},
   "outputs": [
    {
     "data": {
      "image/png": "[encoded data removed]",
      "text/plain": [
       "<Figure size 864x720 with 3 Axes>"
      ]
     },
     "metadata": {},
     "output_type": "display_data"
    }
   ],
   "source": [
    "# Plot cosine similarities distances\n",
    "fig = plt.figure(figsize=(12, 10))\n",
    "grid = plt.GridSpec(24, 4, hspace=0.5, wspace=0.5)\n",
    "main_ax = fig.add_subplot(grid[:16, 0:])\n",
    "x1_hist = fig.add_subplot(grid[-7:, :2], sharex=main_ax)\n",
    "x2_hist = fig.add_subplot(grid[-7:, 2:], sharex=main_ax)\n",
    "\n",
    "main_ax.hist(similarity_source_target, \n",
    "             color = \"lightcoral\", bins=40, alpha=.5, \n",
    "             edgecolor='black', linewidth=1, label='similarity_source_target')\n",
    "main_ax.hist(similarity_transformed_target, \n",
    "             color = \"lightskyblue\", bins=40, alpha=0.6, \n",
    "             edgecolor='black', linewidth=1, label='similarity_transformed_target')\n",
    "main_ax.axvline(np.mean(similarity_source_target)-.05, color='black',alpha=0.7, linestyle='dashed', linewidth=1.5)\n",
    "main_ax.axvline(np.mean(similarity_transformed_target), color='black',alpha=0.7, linestyle='dashed', linewidth=1.5)\n",
    "#main_ax.annotate(str(round(np.mean(distance_transformed_target),2)), xy=(2, 820), xytext=(4.55, 815))\n",
    "\n",
    "x1_hist.hist(similarity_source_target, \n",
    "             color = \"lightcoral\", bins=20, alpha=0.4, \n",
    "             edgecolor='black', linewidth=.5) #, label='source_target'\n",
    "x1_hist.hist(similarity_source_transformed, \n",
    "             color = \"seagreen\", bins=20, alpha=0.5, \n",
    "             edgecolor='black', linewidth=.5, label='similarity_source_transformed')\n",
    "x1_hist.axvline(np.mean(similarity_source_target), color='black',alpha=0.5, linestyle='dashed', linewidth=1.3)\n",
    "x1_hist.axvline(np.mean(similarity_source_transformed), color='black',alpha=0.5, linestyle='dashed', linewidth=1.3)\n",
    "\n",
    "x2_hist.hist(similarity_source_transformed, \n",
    "             color = \"seagreen\", bins=20, alpha=0.5,\n",
    "             edgecolor='black', linewidth=.5) #, label='source_transformed'\n",
    "x2_hist.hist(similarity_transformed_target, \n",
    "             color = \"lightskyblue\", bins=20, alpha=0.6, \n",
    "             edgecolor='black', linewidth=.5) #, label='transformed_target'\n",
    "x2_hist.axvline(np.mean(similarity_source_transformed), color='black',alpha=0.5, linestyle='dashed', linewidth=1.3)\n",
    "x2_hist.axvline(np.mean(similarity_transformed_target), color='black',alpha=0.5, linestyle='dashed', linewidth=1.3)\n",
    "\n",
    "plt.figlegend(loc = 'lower center', ncol=3, labelspacing=0.5) #bbox_to_anchor=(1.1, 1.05)\n",
    "plt.suptitle('Cosine Similarity:\\n before and after alignment comparisons\\nEnglish-Portuguese', fontsize=15);"
   ]
  },
  {
   "cell_type": "markdown",
   "metadata": {},
   "source": [
    "### Plot t-sne (2D)"
   ]
  },
  {
   "cell_type": "code",
   "execution_count": null,
   "metadata": {},
   "outputs": [],
   "source": [
    "from sklearn.manifold import TSNE\n",
    "import matplotlib.pyplot as plt\n",
    "%matplotlib inline"
   ]
  },
  {
   "cell_type": "code",
   "execution_count": null,
   "metadata": {},
   "outputs": [],
   "source": [
    "# Limit number of tokens to be visualized\n",
    "limit = 150\n",
    "vector_dim = 300\n",
    "\n",
    "# Getting tokens and vectors\n",
    "words = []\n",
    "embedding = np.array([])\n",
    "i = 0\n",
    "for word in it_dictionary.vocab:\n",
    "    # Break the loop if limit exceeds \n",
    "    if i == limit: break\n",
    "\n",
    "    # Getting token \n",
    "    words.append(word)\n",
    "\n",
    "    # Appending the vectors \n",
    "    embedding = np.append(embedding, it_dictionary[word])\n",
    "\n",
    "    i += 1\n",
    "\n",
    "# Reshaping the embedding vector \n",
    "embedding = embedding.reshape(limit, vector_dim)\n",
    "\n",
    "\n",
    "def plot_with_labels(low_dim_embs, labels, filename='it_dictionary_tsne.png'):\n",
    "    assert low_dim_embs.shape[0] >= len(labels), \"More labels than embeddings\"\n",
    "    plt.figure(figsize=(18, 18))  # in inches\n",
    "    for i, label in enumerate(labels):\n",
    "        x, y = low_dim_embs[i, :]\n",
    "        plt.scatter(x, y)\n",
    "        plt.annotate(label,\n",
    "                 xy=(x, y),\n",
    "                 xytext=(5, 2),\n",
    "                 textcoords='offset points',\n",
    "                 ha='right',\n",
    "                 va='bottom')\n",
    "    plt.savefig(filename)\n",
    "\n",
    "\n",
    "# Creating the tsne plot\n",
    "tsne = TSNE(perplexity=30.0, n_components=2, init='pca', n_iter=5000)\n",
    "\n",
    "low_dim_embedding = tsne.fit_transform(embedding)\n",
    "\n",
    "# Finally plotting and saving the fig \n",
    "plot_with_labels(low_dim_embedding, words)"
   ]
  },
  {
   "cell_type": "code",
   "execution_count": null,
   "metadata": {},
   "outputs": [],
   "source": [
    "# Limit number of tokens to be visualized\n",
    "limit = 500\n",
    "vector_dim = 300\n",
    "\n",
    "# Getting tokens and vectors\n",
    "words = []\n",
    "embedding = np.array([])\n",
    "i = 0\n",
    "for word in eng_dictionary.vocab:\n",
    "    # Break the loop if limit exceeds \n",
    "    if i == limit: break\n",
    "\n",
    "    # Getting token \n",
    "    words.append(word)\n",
    "\n",
    "    # Appending the vectors \n",
    "    embedding = np.append(embedding, eng_dictionary[word])\n",
    "\n",
    "    i += 1\n",
    "\n",
    "# Reshaping the embedding vector \n",
    "embedding = embedding.reshape(limit, vector_dim)\n",
    "\n",
    "def plot_with_labels(low_dim_embs, labels, filename='eng_dictionary_tsne.png'):\n",
    "    assert low_dim_embs.shape[0] >= len(labels), \"More labels than embeddings\"\n",
    "    plt.figure(figsize=(18, 18))  # in inches\n",
    "    for i, label in enumerate(labels):\n",
    "        x, y = low_dim_embs[i, :]\n",
    "        plt.scatter(x, y)\n",
    "        plt.annotate(label,\n",
    "                 xy=(x, y),\n",
    "                 xytext=(5, 2),\n",
    "                 textcoords='offset points',\n",
    "                 ha='right',\n",
    "                 va='bottom')\n",
    "    plt.savefig(filename)\n",
    "\n",
    "# Creating the tsne plot [Warning: will take time]\n",
    "tsne = TSNE(perplexity=30.0, n_components=2, init='pca', n_iter=5000)\n",
    "\n",
    "low_dim_embedding = tsne.fit_transform(embedding)\n",
    "\n",
    "# Finally plotting and saving the fig \n",
    "plot_with_labels(low_dim_embedding, words)"
   ]
  },
  {
   "cell_type": "code",
   "execution_count": null,
   "metadata": {},
   "outputs": [],
   "source": [
    "def plot_with_labels(low_dim_embs, labels, filename='it_dictionary_tsne_3d.png'):\n",
    "    assert low_dim_embs.shape[0] >= len(labels), \"More labels than embeddings\"\n",
    "    plt.figure(figsize=(18, 18))  # in inches\n",
    "    for i, label in enumerate(labels):\n",
    "        x, y, z = low_dim_embs[i, :]\n",
    "        plt.scatter(x, y)\n",
    "        plt.annotate(label,\n",
    "                 xy=(x, y),\n",
    "                 xytext=(5, 2),\n",
    "                 textcoords='offset points',\n",
    "                 ha='right',\n",
    "                 va='bottom')\n",
    "    plt.savefig(filename)\n",
    "\n",
    "\n",
    "# Creating the tsne plot [Warning: will take time]\n",
    "tsne = TSNE(perplexity=30.0, n_components=3, init='pca', n_iter=5000)\n",
    "\n",
    "low_dim_embedding = tsne.fit_transform(embedding)\n",
    "\n",
    "# Finally plotting and saving the fig \n",
    "plot_with_labels(low_dim_embedding, words)"
   ]
  }
 ],
 "metadata": {
  "kernelspec": {
   "display_name": "Python 3",
   "language": "python",
   "name": "python3"
  },
  "language_info": {
   "codemirror_mode": {
    "name": "ipython",
    "version": 3
   },
   "file_extension": ".py",
   "mimetype": "text/x-python",
   "name": "python",
   "nbconvert_exporter": "python",
   "pygments_lexer": "ipython3",
   "version": "3.6.4"
  }
 },
 "nbformat": 4,
 "nbformat_minor": 2
}
