{
 "cells": [
  {
   "cell_type": "markdown",
   "metadata": {},
   "source": [
    "# Import libraries"
   ]
  },
  {
   "cell_type": "code",
   "execution_count": 1,
   "metadata": {
    "collapsed": true
   },
   "outputs": [],
   "source": [
    "import pandas as pd\n",
    "import numpy as np\n",
    "import nltk\n",
    "\n",
    "from collections import Counter\n",
    "\n",
    "from sklearn import clone\n",
    "\n",
    "from sklearn.feature_extraction.text import CountVectorizer\n",
    "from sklearn.feature_extraction.text import TfidfTransformer\n",
    "\n",
    "from sklearn.naive_bayes import MultinomialNB\n",
    "from sklearn.naive_bayes import GaussianNB\n",
    "from sklearn.linear_model import LogisticRegression\n",
    "from sklearn.svm import LinearSVC\n",
    "\n",
    "from sklearn.model_selection import cross_val_score\n",
    "from sklearn.model_selection import StratifiedKFold, KFold\n",
    "\n",
    "from sklearn.metrics import accuracy_score\n",
    "\n",
    "%matplotlib inline"
   ]
  },
  {
   "cell_type": "markdown",
   "metadata": {},
   "source": [
    "# Import dataset"
   ]
  },
  {
   "cell_type": "code",
   "execution_count": 2,
   "metadata": {},
   "outputs": [
    {
     "data": {
      "text/html": [
       "<div>\n",
       "<style>\n",
       "    .dataframe thead tr:only-child th {\n",
       "        text-align: right;\n",
       "    }\n",
       "\n",
       "    .dataframe thead th {\n",
       "        text-align: left;\n",
       "    }\n",
       "\n",
       "    .dataframe tbody tr th {\n",
       "        vertical-align: top;\n",
       "    }\n",
       "</style>\n",
       "<table border=\"1\" class=\"dataframe\">\n",
       "  <thead>\n",
       "    <tr style=\"text-align: right;\">\n",
       "      <th></th>\n",
       "      <th>Unnamed: 0</th>\n",
       "      <th>Unnamed: 0.1</th>\n",
       "      <th>brand_id</th>\n",
       "      <th>worker_id</th>\n",
       "      <th>mturker</th>\n",
       "      <th>post_hash</th>\n",
       "      <th>answer</th>\n",
       "      <th>date</th>\n",
       "      <th>duration_seconds</th>\n",
       "      <th>text</th>\n",
       "      <th>model_decision</th>\n",
       "      <th>timestamped_model</th>\n",
       "      <th>lang</th>\n",
       "    </tr>\n",
       "  </thead>\n",
       "  <tbody>\n",
       "    <tr>\n",
       "      <th>0</th>\n",
       "      <td>0</td>\n",
       "      <td>0</td>\n",
       "      <td>18792</td>\n",
       "      <td>TRIBE_103_allayne.low@gmail.com</td>\n",
       "      <td>False</td>\n",
       "      <td>3ca62dcea583b7aa204fc52fe6b2826c</td>\n",
       "      <td>False</td>\n",
       "      <td>2017-07-16</td>\n",
       "      <td>NaN</td>\n",
       "      <td>・\\r\\nケイト スペード ニューヨークの\\r\\n2017Fall Collectionに招...</td>\n",
       "      <td>False</td>\n",
       "      <td>NaN</td>\n",
       "      <td>ja</td>\n",
       "    </tr>\n",
       "  </tbody>\n",
       "</table>\n",
       "</div>"
      ],
      "text/plain": [
       "   Unnamed: 0  Unnamed: 0.1  brand_id                        worker_id  \\\n",
       "0           0             0     18792  TRIBE_103_allayne.low@gmail.com   \n",
       "\n",
       "   mturker                         post_hash  answer        date  \\\n",
       "0    False  3ca62dcea583b7aa204fc52fe6b2826c   False  2017-07-16   \n",
       "\n",
       "   duration_seconds                                               text  \\\n",
       "0               NaN  ・\\r\\nケイト スペード ニューヨークの\\r\\n2017Fall Collectionに招...   \n",
       "\n",
       "   model_decision timestamped_model lang  \n",
       "0           False               NaN   ja  "
      ]
     },
     "execution_count": 2,
     "metadata": {},
     "output_type": "execute_result"
    }
   ],
   "source": [
    "df = pd.read_csv('../../Data/tribe_dynamics_data.csv')\n",
    "df.head(1)"
   ]
  },
  {
   "cell_type": "code",
   "execution_count": 3,
   "metadata": {},
   "outputs": [
    {
     "data": {
      "text/html": [
       "<div>\n",
       "<style>\n",
       "    .dataframe thead tr:only-child th {\n",
       "        text-align: right;\n",
       "    }\n",
       "\n",
       "    .dataframe thead th {\n",
       "        text-align: left;\n",
       "    }\n",
       "\n",
       "    .dataframe tbody tr th {\n",
       "        vertical-align: top;\n",
       "    }\n",
       "</style>\n",
       "<table border=\"1\" class=\"dataframe\">\n",
       "  <thead>\n",
       "    <tr style=\"text-align: right;\">\n",
       "      <th></th>\n",
       "      <th>brand_id</th>\n",
       "      <th>worker_id</th>\n",
       "      <th>mturker</th>\n",
       "      <th>post_hash</th>\n",
       "      <th>answer</th>\n",
       "      <th>date</th>\n",
       "      <th>duration_seconds</th>\n",
       "      <th>text</th>\n",
       "      <th>model_decision</th>\n",
       "      <th>timestamped_model</th>\n",
       "      <th>lang</th>\n",
       "    </tr>\n",
       "  </thead>\n",
       "  <tbody>\n",
       "    <tr>\n",
       "      <th>0</th>\n",
       "      <td>18792</td>\n",
       "      <td>TRIBE_103_allayne.low@gmail.com</td>\n",
       "      <td>False</td>\n",
       "      <td>3ca62dcea583b7aa204fc52fe6b2826c</td>\n",
       "      <td>False</td>\n",
       "      <td>2017-07-16</td>\n",
       "      <td>NaN</td>\n",
       "      <td>・\\r\\nケイト スペード ニューヨークの\\r\\n2017Fall Collectionに招...</td>\n",
       "      <td>False</td>\n",
       "      <td>NaN</td>\n",
       "      <td>ja</td>\n",
       "    </tr>\n",
       "  </tbody>\n",
       "</table>\n",
       "</div>"
      ],
      "text/plain": [
       "   brand_id                        worker_id  mturker  \\\n",
       "0     18792  TRIBE_103_allayne.low@gmail.com    False   \n",
       "\n",
       "                          post_hash  answer        date  duration_seconds  \\\n",
       "0  3ca62dcea583b7aa204fc52fe6b2826c   False  2017-07-16               NaN   \n",
       "\n",
       "                                                text  model_decision  \\\n",
       "0  ・\\r\\nケイト スペード ニューヨークの\\r\\n2017Fall Collectionに招...           False   \n",
       "\n",
       "  timestamped_model lang  \n",
       "0               NaN   ja  "
      ]
     },
     "execution_count": 3,
     "metadata": {},
     "output_type": "execute_result"
    }
   ],
   "source": [
    "df.drop(['Unnamed: 0', 'Unnamed: 0.1'], axis=1, inplace=True)\n",
    "df.head(1)"
   ]
  },
  {
   "cell_type": "code",
   "execution_count": 4,
   "metadata": {},
   "outputs": [
    {
     "data": {
      "text/html": [
       "<div>\n",
       "<style>\n",
       "    .dataframe thead tr:only-child th {\n",
       "        text-align: right;\n",
       "    }\n",
       "\n",
       "    .dataframe thead th {\n",
       "        text-align: left;\n",
       "    }\n",
       "\n",
       "    .dataframe tbody tr th {\n",
       "        vertical-align: top;\n",
       "    }\n",
       "</style>\n",
       "<table border=\"1\" class=\"dataframe\">\n",
       "  <thead>\n",
       "    <tr style=\"text-align: right;\">\n",
       "      <th></th>\n",
       "      <th>text</th>\n",
       "      <th>lang</th>\n",
       "      <th>model_decision</th>\n",
       "      <th>answer</th>\n",
       "      <th>mturker</th>\n",
       "    </tr>\n",
       "  </thead>\n",
       "  <tbody>\n",
       "    <tr>\n",
       "      <th>0</th>\n",
       "      <td>・\\r\\nケイト スペード ニューヨークの\\r\\n2017Fall Collectionに招...</td>\n",
       "      <td>ja</td>\n",
       "      <td>False</td>\n",
       "      <td>False</td>\n",
       "      <td>False</td>\n",
       "    </tr>\n",
       "    <tr>\n",
       "      <th>1</th>\n",
       "      <td>青春日記【挨拶のハグじゃダメなの】\\r\\n僕が中学3年生の時だ。\\r\\n高山私立松倉中学校と...</td>\n",
       "      <td>ja</td>\n",
       "      <td>False</td>\n",
       "      <td>False</td>\n",
       "      <td>False</td>\n",
       "    </tr>\n",
       "    <tr>\n",
       "      <th>2</th>\n",
       "      <td>fabric&amp;thingsで本日のみ開催しております\\r\\nいちごのプチレストラン La F...</td>\n",
       "      <td>ja</td>\n",
       "      <td>False</td>\n",
       "      <td>False</td>\n",
       "      <td>False</td>\n",
       "    </tr>\n",
       "  </tbody>\n",
       "</table>\n",
       "</div>"
      ],
      "text/plain": [
       "                                                text lang  model_decision  \\\n",
       "0  ・\\r\\nケイト スペード ニューヨークの\\r\\n2017Fall Collectionに招...   ja           False   \n",
       "1  青春日記【挨拶のハグじゃダメなの】\\r\\n僕が中学3年生の時だ。\\r\\n高山私立松倉中学校と...   ja           False   \n",
       "2  fabric&thingsで本日のみ開催しております\\r\\nいちごのプチレストラン La F...   ja           False   \n",
       "\n",
       "   answer  mturker  \n",
       "0   False    False  \n",
       "1   False    False  \n",
       "2   False    False  "
      ]
     },
     "execution_count": 4,
     "metadata": {},
     "output_type": "execute_result"
    }
   ],
   "source": [
    "df_small = df[['text','lang','model_decision','answer','mturker']]\n",
    "df_small.head(3)"
   ]
  },
  {
   "cell_type": "markdown",
   "metadata": {},
   "source": [
    "### Extract posts of just one language"
   ]
  },
  {
   "cell_type": "code",
   "execution_count": 5,
   "metadata": {},
   "outputs": [
    {
     "data": {
      "text/html": [
       "<div>\n",
       "<style>\n",
       "    .dataframe thead tr:only-child th {\n",
       "        text-align: right;\n",
       "    }\n",
       "\n",
       "    .dataframe thead th {\n",
       "        text-align: left;\n",
       "    }\n",
       "\n",
       "    .dataframe tbody tr th {\n",
       "        vertical-align: top;\n",
       "    }\n",
       "</style>\n",
       "<table border=\"1\" class=\"dataframe\">\n",
       "  <thead>\n",
       "    <tr style=\"text-align: right;\">\n",
       "      <th></th>\n",
       "      <th>text</th>\n",
       "      <th>lang</th>\n",
       "      <th>model_decision</th>\n",
       "      <th>answer</th>\n",
       "      <th>mturker</th>\n",
       "    </tr>\n",
       "  </thead>\n",
       "  <tbody>\n",
       "    <tr>\n",
       "      <th>67</th>\n",
       "      <td>(near) PORTLAND, OR: Shye Girl and Joey are at...</td>\n",
       "      <td>en</td>\n",
       "      <td>False</td>\n",
       "      <td>False</td>\n",
       "      <td>False</td>\n",
       "    </tr>\n",
       "    <tr>\n",
       "      <th>68</th>\n",
       "      <td>Remember 16 year old Daisy (center) who was fo...</td>\n",
       "      <td>en</td>\n",
       "      <td>False</td>\n",
       "      <td>False</td>\n",
       "      <td>False</td>\n",
       "    </tr>\n",
       "    <tr>\n",
       "      <th>69</th>\n",
       "      <td>(near) PORTLAND, OR: 7 year old Maia was so cl...</td>\n",
       "      <td>en</td>\n",
       "      <td>False</td>\n",
       "      <td>False</td>\n",
       "      <td>False</td>\n",
       "    </tr>\n",
       "  </tbody>\n",
       "</table>\n",
       "</div>"
      ],
      "text/plain": [
       "                                                 text lang  model_decision  \\\n",
       "67  (near) PORTLAND, OR: Shye Girl and Joey are at...   en           False   \n",
       "68  Remember 16 year old Daisy (center) who was fo...   en           False   \n",
       "69  (near) PORTLAND, OR: 7 year old Maia was so cl...   en           False   \n",
       "\n",
       "    answer  mturker  \n",
       "67   False    False  \n",
       "68   False    False  \n",
       "69   False    False  "
      ]
     },
     "execution_count": 5,
     "metadata": {},
     "output_type": "execute_result"
    }
   ],
   "source": [
    "language = 'en' # Change here to test a different language\n",
    "lang_df = df_small[df_small.lang == language]\n",
    "lang_df.head(3)"
   ]
  },
  {
   "cell_type": "code",
   "execution_count": 6,
   "metadata": {},
   "outputs": [
    {
     "data": {
      "text/plain": [
       "(9426, 5)"
      ]
     },
     "execution_count": 6,
     "metadata": {},
     "output_type": "execute_result"
    }
   ],
   "source": [
    "lang_df.shape"
   ]
  },
  {
   "cell_type": "code",
   "execution_count": 7,
   "metadata": {},
   "outputs": [
    {
     "data": {
      "text/plain": [
       "(2610, 5)"
      ]
     },
     "execution_count": 7,
     "metadata": {},
     "output_type": "execute_result"
    }
   ],
   "source": [
    "# Remove perfect duplicates\n",
    "lang_no_dup_df = lang_df.drop_duplicates(keep='first', inplace=False)\n",
    "lang_no_dup_df.shape"
   ]
  },
  {
   "cell_type": "code",
   "execution_count": 8,
   "metadata": {},
   "outputs": [
    {
     "name": "stdout",
     "output_type": "stream",
     "text": [
      "Dropped 6816 completely equal samples\n"
     ]
    }
   ],
   "source": [
    "print('Dropped {} completely equal samples'.format(lang_df.shape[0]-lang_no_dup_df.shape[0]))"
   ]
  },
  {
   "cell_type": "markdown",
   "metadata": {},
   "source": [
    "# Models computation"
   ]
  },
  {
   "cell_type": "code",
   "execution_count": 9,
   "metadata": {},
   "outputs": [],
   "source": [
    "# Array with all posts text\n",
    "texts_arr = lang_no_dup_df.text.values"
   ]
  },
  {
   "cell_type": "code",
   "execution_count": 10,
   "metadata": {
    "collapsed": true
   },
   "outputs": [],
   "source": [
    "# 'Ground truth' labels\n",
    "y_true = lang_no_dup_df.answer.values\n",
    "# Tribe's predicted labels\n",
    "y_tribe = lang_no_dup_df.model_decision.values"
   ]
  },
  {
   "cell_type": "code",
   "execution_count": 11,
   "metadata": {},
   "outputs": [
    {
     "name": "stdout",
     "output_type": "stream",
     "text": [
      "Dataset balance:\n",
      "True labels: 299\n",
      "False labels: 2311\n"
     ]
    }
   ],
   "source": [
    "print(\"Dataset balance:\")\n",
    "print(\"True labels: {}\".format(Counter(y_true)[True]))\n",
    "print(\"False labels: {}\".format(Counter(y_true)[False]))"
   ]
  },
  {
   "cell_type": "markdown",
   "metadata": {},
   "source": [
    "## Bag of words"
   ]
  },
  {
   "cell_type": "code",
   "execution_count": 12,
   "metadata": {},
   "outputs": [
    {
     "data": {
      "text/plain": [
       "(2610, 37827)"
      ]
     },
     "execution_count": 12,
     "metadata": {},
     "output_type": "execute_result"
    }
   ],
   "source": [
    "# Bag of words\n",
    "#count_vect = CountVectorizer(stop_words='english')\n",
    "#count_vect = CountVectorizer(ngram_range=(1,2))\n",
    "count_vect = CountVectorizer()\n",
    "X_bag = count_vect.fit_transform(texts_arr)\n",
    "X_bag.shape"
   ]
  },
  {
   "cell_type": "code",
   "execution_count": 13,
   "metadata": {},
   "outputs": [
    {
     "data": {
      "text/plain": [
       "(2610, 37827)"
      ]
     },
     "execution_count": 13,
     "metadata": {},
     "output_type": "execute_result"
    }
   ],
   "source": [
    "# TF-IDF on the vectorized dataset\n",
    "X_tfidf = TfidfTransformer().fit_transform(X_bag)\n",
    "X_tfidf.shape"
   ]
  },
  {
   "cell_type": "markdown",
   "metadata": {},
   "source": [
    "If you have fairly little data and you are going to train a supervised classifier, then machine learning theory says you should stick to a classifier with high bias. For example, there are theoretical and empirical results that Naive Bayes does well in such circumstances, although this effect is not necessarily observed in practice with regularized models over textual data. At any rate, a very low bias model like a nearest neighbor model is probably counterindicated. Regardless, the quality of the model will be adversely affected by the limited training data."
   ]
  },
  {
   "cell_type": "code",
   "execution_count": 14,
   "metadata": {},
   "outputs": [],
   "source": [
    "random_seed = 231\n",
    "\n",
    "classifiers = [\n",
    "    ('Naive Bayes', MultinomialNB()),\n",
    "    #('Gaussian Naive Bayes', GaussianNB()), # only works with dense matrices\n",
    "    ('Logistic Regression (no reg.)', LogisticRegression(C=1e6, random_state=random_seed, n_jobs=-1)),\n",
    "    ('Logistic Regression (some reg.)', LogisticRegression(C=1e-2, random_state=random_seed, n_jobs=-1)),\n",
    "    ('Linear SVM (no reg.)', LinearSVC(C=1e6, random_state=random_seed)),\n",
    "    ('Linear SVM (some reg.)', LinearSVC(C=1e-2, random_state=random_seed))\n",
    "    ]"
   ]
  },
  {
   "cell_type": "code",
   "execution_count": 15,
   "metadata": {
    "collapsed": true
   },
   "outputs": [],
   "source": [
    "# Stratified CV folds\n",
    "folds = StratifiedKFold(n_splits=10, shuffle=True, random_state=random_seed)"
   ]
  },
  {
   "cell_type": "code",
   "execution_count": 16,
   "metadata": {},
   "outputs": [
    {
     "name": "stdout",
     "output_type": "stream",
     "text": [
      "Bag of words - 10-fold cross validation accuracy:\n",
      "Naive Bayes: \t 0.83 +/- 0.02\n",
      "Logistic Regression (no reg.): \t 0.83 +/- 0.02\n",
      "Logistic Regression (some reg.): \t 0.88 +/- 0.01\n",
      "Linear SVM (no reg.): \t 0.75 +/- 0.07\n",
      "Linear SVM (some reg.): \t 0.86 +/- 0.02\n"
     ]
    }
   ],
   "source": [
    "print('Bag of words - 10-fold cross validation accuracy:')\n",
    "\n",
    "for (model_name,clf) in classifiers:    \n",
    "    scores = cross_val_score(clone(clf), X_bag, y_true, cv=folds, scoring='accuracy', n_jobs=-1)\n",
    "    print('{}: \\t {:.2f} +/- {:.2f}'.format(model_name, np.mean(scores), np.std(scores)))"
   ]
  },
  {
   "cell_type": "code",
   "execution_count": 17,
   "metadata": {},
   "outputs": [
    {
     "name": "stdout",
     "output_type": "stream",
     "text": [
      "TF-IDF - 10-fold cross validation accuracy:\n",
      "Naive Bayes: \t 0.89 +/- 0.00\n",
      "Logistic Regression (no reg.): \t 0.83 +/- 0.01\n",
      "Logistic Regression (some reg.): \t 0.89 +/- 0.00\n",
      "Linear SVM (no reg.): \t 0.81 +/- 0.05\n",
      "Linear SVM (some reg.): \t 0.89 +/- 0.00\n"
     ]
    }
   ],
   "source": [
    "print('TF-IDF - 10-fold cross validation accuracy:')\n",
    "\n",
    "for (model_name,clf) in classifiers:    \n",
    "    scores = cross_val_score(clone(clf), X_tfidf, y_true, cv=folds, scoring='accuracy', n_jobs=-1)\n",
    "    print('{}: \\t {:.2f} +/- {:.2f}'.format(model_name, np.mean(scores), np.std(scores)))"
   ]
  },
  {
   "cell_type": "code",
   "execution_count": 18,
   "metadata": {},
   "outputs": [
    {
     "name": "stdout",
     "output_type": "stream",
     "text": [
      "Tribe's model accuracy:\t0.92\n"
     ]
    }
   ],
   "source": [
    "print(\"Tribe's model accuracy:\\t{:.2f}\".format(accuracy_score(y_true, y_tribe)))"
   ]
  },
  {
   "cell_type": "markdown",
   "metadata": {},
   "source": [
    "# PCA plots"
   ]
  },
  {
   "cell_type": "raw",
   "metadata": {},
   "source": [
    "from sklearn.decomposition import PCA\n",
    "import matplotlib.pyplot as plt\n",
    "\n",
    "data2D = PCA(n_components=2).fit_transform(X_bag.todense())\n",
    "plt.scatter(data2D[:,0], data2D[:,1], c=y_true)\n",
    "plt.show()"
   ]
  },
  {
   "cell_type": "raw",
   "metadata": {},
   "source": [
    "data2D = PCA(n_components=2).fit_transform(X_tfidf.todense())\n",
    "plt.scatter(data2D[:,0], data2D[:,1], c=y_true)\n",
    "plt.show()"
   ]
  }
 ],
 "metadata": {
  "kernelspec": {
   "display_name": "Python 3",
   "language": "python",
   "name": "python3"
  },
  "language_info": {
   "codemirror_mode": {
    "name": "ipython",
    "version": 3
   },
   "file_extension": ".py",
   "mimetype": "text/x-python",
   "name": "python",
   "nbconvert_exporter": "python",
   "pygments_lexer": "ipython3",
   "version": "3.6.3"
  }
 },
 "nbformat": 4,
 "nbformat_minor": 2
}
