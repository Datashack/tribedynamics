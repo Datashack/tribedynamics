{
 "cells": [
  {
   "cell_type": "markdown",
   "metadata": {},
   "source": [
    "# Import libraries"
   ]
  },
  {
   "cell_type": "code",
   "execution_count": 1,
   "metadata": {
    "collapsed": true
   },
   "outputs": [],
   "source": [
    "import pandas as pd\n",
    "import numpy as np\n",
    "\n",
    "import codecs, json\n",
    "\n",
    "from collections import Counter"
   ]
  },
  {
   "cell_type": "markdown",
   "metadata": {},
   "source": [
    "# Function to import json files"
   ]
  },
  {
   "cell_type": "code",
   "execution_count": 2,
   "metadata": {
    "collapsed": true
   },
   "outputs": [],
   "source": [
    "def brand_dataframe_to_append(brand_id):\n",
    "    \n",
    "    brand_id_str = str(brand_id)\n",
    "    \n",
    "    # Open json files\n",
    "    with codecs.open('../../Data/CSE_20180215/' + brand_id_str + '_data.json', 'r', 'utf-8') as f_data:\n",
    "        tweets_dict_list = json.load(f_data, encoding='utf-8')\n",
    "    with codecs.open('../../Data/CSE_20180215/' + brand_id_str + '_metadata.json') as f_metadata:\n",
    "        metadata_dict = json.load(f_metadata, encoding='utf-8')\n",
    "        \n",
    "    # Import as dataframe\n",
    "    df = pd.DataFrame.from_dict(tweets_dict_list)\n",
    "    \n",
    "    # Add brand_id and brand_name columns to dataframe\n",
    "    brand_id_column = np.repeat(metadata_dict['brand_id'], df.shape[0])\n",
    "    brand_name_column = np.repeat(metadata_dict['brand_name'], df.shape[0])    \n",
    "    df['brand_id'] = brand_id_column\n",
    "    df['brand_name'] = brand_name_column\n",
    "    \n",
    "    # Define the languages to keep    \n",
    "    languages = ['en', 'it', 'fr', 'es']    \n",
    "    # REFACTOR HERE!\n",
    "    lang_df = df[(df.lang == 'en') | (df.lang == 'it') | (df.lang == 'fr') | (df.lang == 'es')]\n",
    "    \n",
    "    # Return the dataframe with this column layout\n",
    "    return lang_df[['brand_id', 'brand_name', 'text', 'lang', 'model_decision', 'labels', 'mturker', 'link']]"
   ]
  },
  {
   "cell_type": "markdown",
   "metadata": {},
   "source": [
    "# Add all the files as a unique dataframe"
   ]
  },
  {
   "cell_type": "code",
   "execution_count": 3,
   "metadata": {
    "collapsed": true
   },
   "outputs": [],
   "source": [
    "first_df = brand_dataframe_to_append(8009)\n",
    "df_res = first_df.copy()"
   ]
  },
  {
   "cell_type": "code",
   "execution_count": 4,
   "metadata": {},
   "outputs": [],
   "source": [
    "from pathlib import Path\n",
    "\n",
    "# Loop over all the file ids provided\n",
    "for brand_id in range(8033, 19151):\n",
    "    \n",
    "    # Check existence of file\n",
    "    try_file = Path(\"../../Data/CSE_20180215/\" + str(brand_id) + \"_data.json\")\n",
    "    \n",
    "    if try_file.is_file():\n",
    "        # file exists\n",
    "        df_res = pd.concat([df_res, brand_dataframe_to_append(brand_id)])"
   ]
  },
  {
   "cell_type": "markdown",
   "metadata": {},
   "source": [
    "# Output the result"
   ]
  },
  {
   "cell_type": "code",
   "execution_count": 5,
   "metadata": {},
   "outputs": [
    {
     "data": {
      "text/html": [
       "<div>\n",
       "<style>\n",
       "    .dataframe thead tr:only-child th {\n",
       "        text-align: right;\n",
       "    }\n",
       "\n",
       "    .dataframe thead th {\n",
       "        text-align: left;\n",
       "    }\n",
       "\n",
       "    .dataframe tbody tr th {\n",
       "        vertical-align: top;\n",
       "    }\n",
       "</style>\n",
       "<table border=\"1\" class=\"dataframe\">\n",
       "  <thead>\n",
       "    <tr style=\"text-align: right;\">\n",
       "      <th></th>\n",
       "      <th>brand_id</th>\n",
       "      <th>brand_name</th>\n",
       "      <th>text</th>\n",
       "      <th>lang</th>\n",
       "      <th>model_decision</th>\n",
       "      <th>labels</th>\n",
       "      <th>mturker</th>\n",
       "      <th>link</th>\n",
       "    </tr>\n",
       "  </thead>\n",
       "  <tbody>\n",
       "    <tr>\n",
       "      <th>0</th>\n",
       "      <td>8009</td>\n",
       "      <td>Caudalie</td>\n",
       "      <td>Favorites Summer Crushes - $30This is another ...</td>\n",
       "      <td>en</td>\n",
       "      <td>None</td>\n",
       "      <td>[1, 1, 1, 1]</td>\n",
       "      <td>1</td>\n",
       "      <td>http://www.thebeautyisle.com/2015/01/sephora-u...</td>\n",
       "    </tr>\n",
       "    <tr>\n",
       "      <th>1</th>\n",
       "      <td>8009</td>\n",
       "      <td>Caudalie</td>\n",
       "      <td>.@CaudalieUSA’s new C15 line takes charge of o...</td>\n",
       "      <td>en</td>\n",
       "      <td>None</td>\n",
       "      <td>[1, 1, 1, 1]</td>\n",
       "      <td>1</td>\n",
       "      <td>https://www.twitter.com/Sephora/statuses/46565...</td>\n",
       "    </tr>\n",
       "    <tr>\n",
       "      <th>2</th>\n",
       "      <td>8009</td>\n",
       "      <td>Caudalie</td>\n",
       "      <td>I love a simple, cheap and easy to find produc...</td>\n",
       "      <td>en</td>\n",
       "      <td>None</td>\n",
       "      <td>[1, 1]</td>\n",
       "      <td>1</td>\n",
       "      <td>http://www.la-fille-en-rose.com/2012/10/dry-sk...</td>\n",
       "    </tr>\n",
       "    <tr>\n",
       "      <th>3</th>\n",
       "      <td>8009</td>\n",
       "      <td>Caudalie</td>\n",
       "      <td>Yay it's @CaudalieUSA turn #sephora #weareseph...</td>\n",
       "      <td>en</td>\n",
       "      <td>None</td>\n",
       "      <td>[1, 1, 1, 1]</td>\n",
       "      <td>1</td>\n",
       "      <td>https://www.twitter.com/CaitlinAPearl/statuses...</td>\n",
       "    </tr>\n",
       "    <tr>\n",
       "      <th>4</th>\n",
       "      <td>8009</td>\n",
       "      <td>Caudalie</td>\n",
       "      <td>@LadyAndTheLook I started using a face oil fro...</td>\n",
       "      <td>en</td>\n",
       "      <td>None</td>\n",
       "      <td>[1, 1, 1, 1]</td>\n",
       "      <td>1</td>\n",
       "      <td>https://www.twitter.com/stylecontext/statuses/...</td>\n",
       "    </tr>\n",
       "  </tbody>\n",
       "</table>\n",
       "</div>"
      ],
      "text/plain": [
       "   brand_id brand_name                                               text  \\\n",
       "0      8009   Caudalie  Favorites Summer Crushes - $30This is another ...   \n",
       "1      8009   Caudalie  .@CaudalieUSA’s new C15 line takes charge of o...   \n",
       "2      8009   Caudalie  I love a simple, cheap and easy to find produc...   \n",
       "3      8009   Caudalie  Yay it's @CaudalieUSA turn #sephora #weareseph...   \n",
       "4      8009   Caudalie  @LadyAndTheLook I started using a face oil fro...   \n",
       "\n",
       "  lang model_decision        labels  mturker  \\\n",
       "0   en           None  [1, 1, 1, 1]        1   \n",
       "1   en           None  [1, 1, 1, 1]        1   \n",
       "2   en           None        [1, 1]        1   \n",
       "3   en           None  [1, 1, 1, 1]        1   \n",
       "4   en           None  [1, 1, 1, 1]        1   \n",
       "\n",
       "                                                link  \n",
       "0  http://www.thebeautyisle.com/2015/01/sephora-u...  \n",
       "1  https://www.twitter.com/Sephora/statuses/46565...  \n",
       "2  http://www.la-fille-en-rose.com/2012/10/dry-sk...  \n",
       "3  https://www.twitter.com/CaitlinAPearl/statuses...  \n",
       "4  https://www.twitter.com/stylecontext/statuses/...  "
      ]
     },
     "execution_count": 5,
     "metadata": {},
     "output_type": "execute_result"
    }
   ],
   "source": [
    "df_res.head(5)"
   ]
  },
  {
   "cell_type": "code",
   "execution_count": 6,
   "metadata": {},
   "outputs": [
    {
     "data": {
      "text/html": [
       "<div>\n",
       "<style>\n",
       "    .dataframe thead tr:only-child th {\n",
       "        text-align: right;\n",
       "    }\n",
       "\n",
       "    .dataframe thead th {\n",
       "        text-align: left;\n",
       "    }\n",
       "\n",
       "    .dataframe tbody tr th {\n",
       "        vertical-align: top;\n",
       "    }\n",
       "</style>\n",
       "<table border=\"1\" class=\"dataframe\">\n",
       "  <thead>\n",
       "    <tr style=\"text-align: right;\">\n",
       "      <th></th>\n",
       "      <th>brand_id</th>\n",
       "      <th>brand_name</th>\n",
       "      <th>text</th>\n",
       "      <th>lang</th>\n",
       "      <th>model_decision</th>\n",
       "      <th>labels</th>\n",
       "      <th>mturker</th>\n",
       "      <th>link</th>\n",
       "    </tr>\n",
       "  </thead>\n",
       "  <tbody>\n",
       "    <tr>\n",
       "      <th>17</th>\n",
       "      <td>19150</td>\n",
       "      <td>Embelleze</td>\n",
       "      <td>Spring is in the air! #novexhaircare #embellez...</td>\n",
       "      <td>en</td>\n",
       "      <td>None</td>\n",
       "      <td>[1, 1, 1, 1]</td>\n",
       "      <td>1</td>\n",
       "      <td>https://www.instagram.com/p/BRIo0Zwlhqb/</td>\n",
       "    </tr>\n",
       "    <tr>\n",
       "      <th>43</th>\n",
       "      <td>19150</td>\n",
       "      <td>Embelleze</td>\n",
       "      <td>Happy International Women's Day! #novexhaircar...</td>\n",
       "      <td>en</td>\n",
       "      <td>None</td>\n",
       "      <td>[1, 1, 1, 1]</td>\n",
       "      <td>1</td>\n",
       "      <td>https://www.twitter.com/Novex_haircare/statuse...</td>\n",
       "    </tr>\n",
       "    <tr>\n",
       "      <th>51</th>\n",
       "      <td>19150</td>\n",
       "      <td>Embelleze</td>\n",
       "      <td>Rosto de neve shared Embelleze's live video.</td>\n",
       "      <td>en</td>\n",
       "      <td>None</td>\n",
       "      <td>[1, 1, 1]</td>\n",
       "      <td>1</td>\n",
       "      <td>https://www.facebook.com/286138848152798/posts...</td>\n",
       "    </tr>\n",
       "    <tr>\n",
       "      <th>54</th>\n",
       "      <td>19150</td>\n",
       "      <td>Embelleze</td>\n",
       "      <td>Good Morning! It's Friday! Try our coconut hai...</td>\n",
       "      <td>en</td>\n",
       "      <td>None</td>\n",
       "      <td>[1, 1, 1]</td>\n",
       "      <td>1</td>\n",
       "      <td>https://www.instagram.com/p/BSTNmShFL7A/</td>\n",
       "    </tr>\n",
       "    <tr>\n",
       "      <th>70</th>\n",
       "      <td>19150</td>\n",
       "      <td>Embelleze</td>\n",
       "      <td>http://womenspleasuresandtreasures.blogspot.pt...</td>\n",
       "      <td>en</td>\n",
       "      <td>None</td>\n",
       "      <td>[1, 1, 1, 1]</td>\n",
       "      <td>1</td>\n",
       "      <td>https://www.instagram.com/p/BTWzYfigMyu/</td>\n",
       "    </tr>\n",
       "  </tbody>\n",
       "</table>\n",
       "</div>"
      ],
      "text/plain": [
       "    brand_id brand_name                                               text  \\\n",
       "17     19150  Embelleze  Spring is in the air! #novexhaircare #embellez...   \n",
       "43     19150  Embelleze  Happy International Women's Day! #novexhaircar...   \n",
       "51     19150  Embelleze       Rosto de neve shared Embelleze's live video.   \n",
       "54     19150  Embelleze  Good Morning! It's Friday! Try our coconut hai...   \n",
       "70     19150  Embelleze  http://womenspleasuresandtreasures.blogspot.pt...   \n",
       "\n",
       "   lang model_decision        labels  mturker  \\\n",
       "17   en           None  [1, 1, 1, 1]        1   \n",
       "43   en           None  [1, 1, 1, 1]        1   \n",
       "51   en           None     [1, 1, 1]        1   \n",
       "54   en           None     [1, 1, 1]        1   \n",
       "70   en           None  [1, 1, 1, 1]        1   \n",
       "\n",
       "                                                 link  \n",
       "17           https://www.instagram.com/p/BRIo0Zwlhqb/  \n",
       "43  https://www.twitter.com/Novex_haircare/statuse...  \n",
       "51  https://www.facebook.com/286138848152798/posts...  \n",
       "54           https://www.instagram.com/p/BSTNmShFL7A/  \n",
       "70           https://www.instagram.com/p/BTWzYfigMyu/  "
      ]
     },
     "execution_count": 6,
     "metadata": {},
     "output_type": "execute_result"
    }
   ],
   "source": [
    "df_res.tail(5)"
   ]
  },
  {
   "cell_type": "code",
   "execution_count": 7,
   "metadata": {},
   "outputs": [
    {
     "data": {
      "text/plain": [
       "(121939, 8)"
      ]
     },
     "execution_count": 7,
     "metadata": {},
     "output_type": "execute_result"
    }
   ],
   "source": [
    "df_res.shape"
   ]
  },
  {
   "cell_type": "code",
   "execution_count": 8,
   "metadata": {},
   "outputs": [
    {
     "data": {
      "text/plain": [
       "Counter({'en': 98616, 'es': 9858, 'fr': 7272, 'it': 6193})"
      ]
     },
     "execution_count": 8,
     "metadata": {},
     "output_type": "execute_result"
    }
   ],
   "source": [
    "Counter(df_res.lang)"
   ]
  },
  {
   "cell_type": "code",
   "execution_count": 9,
   "metadata": {},
   "outputs": [
    {
     "data": {
      "text/plain": [
       "Counter({0: 67934, 1: 54005})"
      ]
     },
     "execution_count": 9,
     "metadata": {},
     "output_type": "execute_result"
    }
   ],
   "source": [
    "Counter(df_res.mturker)"
   ]
  },
  {
   "cell_type": "code",
   "execution_count": 10,
   "metadata": {},
   "outputs": [],
   "source": [
    "# Output csv file\n",
    "#import csv\n",
    "df_res.to_csv(\"../../Data/CSE_20180215/tribe_new_brand_data_en_es_fr_it.csv\", index=False, encoding='utf-8')#, quoting=csv.QUOTE_NONNUMERIC)"
   ]
  },
  {
   "cell_type": "code",
   "execution_count": 11,
   "metadata": {},
   "outputs": [
    {
     "data": {
      "text/html": [
       "<div>\n",
       "<style>\n",
       "    .dataframe thead tr:only-child th {\n",
       "        text-align: right;\n",
       "    }\n",
       "\n",
       "    .dataframe thead th {\n",
       "        text-align: left;\n",
       "    }\n",
       "\n",
       "    .dataframe tbody tr th {\n",
       "        vertical-align: top;\n",
       "    }\n",
       "</style>\n",
       "<table border=\"1\" class=\"dataframe\">\n",
       "  <thead>\n",
       "    <tr style=\"text-align: right;\">\n",
       "      <th></th>\n",
       "      <th>brand_id</th>\n",
       "      <th>brand_name</th>\n",
       "      <th>text</th>\n",
       "      <th>lang</th>\n",
       "      <th>model_decision</th>\n",
       "      <th>labels</th>\n",
       "      <th>mturker</th>\n",
       "      <th>link</th>\n",
       "    </tr>\n",
       "  </thead>\n",
       "  <tbody>\n",
       "    <tr>\n",
       "      <th>0</th>\n",
       "      <td>8009</td>\n",
       "      <td>Caudalie</td>\n",
       "      <td>Favorites Summer Crushes - $30This is another ...</td>\n",
       "      <td>en</td>\n",
       "      <td>NaN</td>\n",
       "      <td>[1, 1, 1, 1]</td>\n",
       "      <td>1</td>\n",
       "      <td>http://www.thebeautyisle.com/2015/01/sephora-u...</td>\n",
       "    </tr>\n",
       "    <tr>\n",
       "      <th>1</th>\n",
       "      <td>8009</td>\n",
       "      <td>Caudalie</td>\n",
       "      <td>.@CaudalieUSA’s new C15 line takes charge of o...</td>\n",
       "      <td>en</td>\n",
       "      <td>NaN</td>\n",
       "      <td>[1, 1, 1, 1]</td>\n",
       "      <td>1</td>\n",
       "      <td>https://www.twitter.com/Sephora/statuses/46565...</td>\n",
       "    </tr>\n",
       "    <tr>\n",
       "      <th>2</th>\n",
       "      <td>8009</td>\n",
       "      <td>Caudalie</td>\n",
       "      <td>I love a simple, cheap and easy to find produc...</td>\n",
       "      <td>en</td>\n",
       "      <td>NaN</td>\n",
       "      <td>[1, 1]</td>\n",
       "      <td>1</td>\n",
       "      <td>http://www.la-fille-en-rose.com/2012/10/dry-sk...</td>\n",
       "    </tr>\n",
       "    <tr>\n",
       "      <th>3</th>\n",
       "      <td>8009</td>\n",
       "      <td>Caudalie</td>\n",
       "      <td>Yay it's @CaudalieUSA turn #sephora #weareseph...</td>\n",
       "      <td>en</td>\n",
       "      <td>NaN</td>\n",
       "      <td>[1, 1, 1, 1]</td>\n",
       "      <td>1</td>\n",
       "      <td>https://www.twitter.com/CaitlinAPearl/statuses...</td>\n",
       "    </tr>\n",
       "    <tr>\n",
       "      <th>4</th>\n",
       "      <td>8009</td>\n",
       "      <td>Caudalie</td>\n",
       "      <td>@LadyAndTheLook I started using a face oil fro...</td>\n",
       "      <td>en</td>\n",
       "      <td>NaN</td>\n",
       "      <td>[1, 1, 1, 1]</td>\n",
       "      <td>1</td>\n",
       "      <td>https://www.twitter.com/stylecontext/statuses/...</td>\n",
       "    </tr>\n",
       "  </tbody>\n",
       "</table>\n",
       "</div>"
      ],
      "text/plain": [
       "   brand_id brand_name                                               text  \\\n",
       "0      8009   Caudalie  Favorites Summer Crushes - $30This is another ...   \n",
       "1      8009   Caudalie  .@CaudalieUSA’s new C15 line takes charge of o...   \n",
       "2      8009   Caudalie  I love a simple, cheap and easy to find produc...   \n",
       "3      8009   Caudalie  Yay it's @CaudalieUSA turn #sephora #weareseph...   \n",
       "4      8009   Caudalie  @LadyAndTheLook I started using a face oil fro...   \n",
       "\n",
       "  lang  model_decision        labels  mturker  \\\n",
       "0   en             NaN  [1, 1, 1, 1]        1   \n",
       "1   en             NaN  [1, 1, 1, 1]        1   \n",
       "2   en             NaN        [1, 1]        1   \n",
       "3   en             NaN  [1, 1, 1, 1]        1   \n",
       "4   en             NaN  [1, 1, 1, 1]        1   \n",
       "\n",
       "                                                link  \n",
       "0  http://www.thebeautyisle.com/2015/01/sephora-u...  \n",
       "1  https://www.twitter.com/Sephora/statuses/46565...  \n",
       "2  http://www.la-fille-en-rose.com/2012/10/dry-sk...  \n",
       "3  https://www.twitter.com/CaitlinAPearl/statuses...  \n",
       "4  https://www.twitter.com/stylecontext/statuses/...  "
      ]
     },
     "execution_count": 11,
     "metadata": {},
     "output_type": "execute_result"
    }
   ],
   "source": [
    "# Check if it is readable\n",
    "df = pd.read_csv(\"../../Data/CSE_20180215/tribe_new_brand_data_en_es_fr_it.csv\")\n",
    "df.head(5)"
   ]
  }
 ],
 "metadata": {
  "kernelspec": {
   "display_name": "Python 3",
   "language": "python",
   "name": "python3"
  },
  "language_info": {
   "codemirror_mode": {
    "name": "ipython",
    "version": 3
   },
   "file_extension": ".py",
   "mimetype": "text/x-python",
   "name": "python",
   "nbconvert_exporter": "python",
   "pygments_lexer": "ipython3",
   "version": "3.6.3"
  }
 },
 "nbformat": 4,
 "nbformat_minor": 2
}
