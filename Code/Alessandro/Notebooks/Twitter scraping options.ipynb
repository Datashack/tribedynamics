{
 "cells": [
  {
   "cell_type": "markdown",
   "metadata": {},
   "source": [
    "# Importing libraries"
   ]
  },
  {
   "cell_type": "code",
   "execution_count": 1,
   "metadata": {
    "collapsed": true
   },
   "outputs": [],
   "source": [
    "import tweepy\n",
    "import csv\n",
    "import pandas as pd\n",
    "import numpy as np"
   ]
  },
  {
   "cell_type": "markdown",
   "metadata": {},
   "source": [
    "# Authentication"
   ]
  },
  {
   "cell_type": "code",
   "execution_count": 2,
   "metadata": {
    "collapsed": true
   },
   "outputs": [],
   "source": [
    "####input your credentials here\n",
    "consumer_key = 'izYk1yjpyPnupV8oAh81OIdKF'\n",
    "consumer_secret = 'KzhDo8wVJzTjo6mlBuG8SpXVYo0a2qxtNt5JX4U08w6bG4V0PM'\n",
    "access_token = '120788046-SC6innzudIE75Aqtu0ULuEyJYo9wVj9YorRQnnXt'\n",
    "access_token_secret = 'tx88xjTBmfwPQ4LhccU6x9XXO2hriO1P81oOEnLQqznFi'\n",
    "\n",
    "auth = tweepy.OAuthHandler(consumer_key, consumer_secret)\n",
    "auth.set_access_token(access_token, access_token_secret)\n",
    "api = tweepy.API(auth,wait_on_rate_limit=True)"
   ]
  },
  {
   "cell_type": "markdown",
   "metadata": {},
   "source": [
    "# Scraping"
   ]
  },
  {
   "cell_type": "markdown",
   "metadata": {},
   "source": [
    "### API scraping -> limited to 7-10 days back"
   ]
  },
  {
   "cell_type": "code",
   "execution_count": 3,
   "metadata": {
    "collapsed": true
   },
   "outputs": [],
   "source": [
    "# Open/Create a file to append data\n",
    "#csvFile = open('test_twitter.csv', 'a')\n",
    "\n",
    "#Use csv Writer\n",
    "#csvWriter = csv.writer(csvFile)"
   ]
  },
  {
   "cell_type": "raw",
   "metadata": {},
   "source": [
    "for tweet in tweepy.Cursor(api.search, q=\"#maybelline\", count=1, lang=\"en\", since=\"2018-01-01\").items():\n",
    "    print (tweet.created_at, tweet.text)\n",
    "    csvWriter.writerow([tweet.created_at, tweet.text.encode('utf-8')])"
   ]
  },
  {
   "cell_type": "raw",
   "metadata": {},
   "source": [
    "tweets_list = []\n",
    "print ('=====')\n",
    "for tweet in tweepy.Cursor(api.search, q=\"#maybelline\", lang=\"en\", tweet_mode=\"extended\").items():\n",
    "    print (tweet.created_at, tweet.full_text)\n",
    "    print ('=====')\n",
    "    tweets_list.append(tweet.full_text)"
   ]
  },
  {
   "cell_type": "raw",
   "metadata": {},
   "source": [
    "len(tweets_list)"
   ]
  },
  {
   "cell_type": "markdown",
   "metadata": {},
   "source": [
    "## Jefferson-Henrique/GetOldTweets-python\n",
    "\n",
    "Google Drive\\GetOldTweets-python-master>python Exporter.py --querysearch '#maybelline' --since 2017-12-01 --until 2018-02-14 --maxtweets 1000"
   ]
  },
  {
   "cell_type": "raw",
   "metadata": {
    "collapsed": true
   },
   "source": [
    "df = pd.read_csv('output_got.csv', sep=';')\n",
    "df.head(1)"
   ]
  },
  {
   "cell_type": "raw",
   "metadata": {},
   "source": [
    "tweets = df.text.values"
   ]
  },
  {
   "cell_type": "raw",
   "metadata": {},
   "source": [
    "len(tweets)"
   ]
  },
  {
   "cell_type": "raw",
   "metadata": {},
   "source": [
    "tweets[0]"
   ]
  },
  {
   "cell_type": "markdown",
   "metadata": {},
   "source": [
    "## taspinar/twitterscraper\n",
    "\n",
    "tribedynamics\\Code\\Alessandro>twitterscraper #maybelline --limit 1000 --lang it --begindate 2015-01-01 --enddate 2018-02-14 --output=maybelline_1000_it_tweets.json"
   ]
  },
  {
   "cell_type": "code",
   "execution_count": 18,
   "metadata": {
    "collapsed": true
   },
   "outputs": [],
   "source": [
    "import codecs, json\n",
    "\n",
    "with codecs.open('kiko_10000_it_tweets.json', 'r', 'utf-8') as f:\n",
    "    tweets_dict_list = json.load(f, encoding='utf-8')"
   ]
  },
  {
   "cell_type": "code",
   "execution_count": 19,
   "metadata": {
    "collapsed": true
   },
   "outputs": [],
   "source": [
    "df = pd.DataFrame.from_dict(tweets_dict_list)"
   ]
  },
  {
   "cell_type": "code",
   "execution_count": 23,
   "metadata": {},
   "outputs": [
    {
     "data": {
      "text/html": [
       "<div>\n",
       "<style>\n",
       "    .dataframe thead tr:only-child th {\n",
       "        text-align: right;\n",
       "    }\n",
       "\n",
       "    .dataframe thead th {\n",
       "        text-align: left;\n",
       "    }\n",
       "\n",
       "    .dataframe tbody tr th {\n",
       "        vertical-align: top;\n",
       "    }\n",
       "</style>\n",
       "<table border=\"1\" class=\"dataframe\">\n",
       "  <thead>\n",
       "    <tr style=\"text-align: right;\">\n",
       "      <th></th>\n",
       "      <th>fullname</th>\n",
       "      <th>id</th>\n",
       "      <th>likes</th>\n",
       "      <th>replies</th>\n",
       "      <th>retweets</th>\n",
       "      <th>text</th>\n",
       "      <th>timestamp</th>\n",
       "      <th>url</th>\n",
       "      <th>user</th>\n",
       "    </tr>\n",
       "  </thead>\n",
       "  <tbody>\n",
       "    <tr>\n",
       "      <th>0</th>\n",
       "      <td>MichyMakeup79</td>\n",
       "      <td>756917125302906880</td>\n",
       "      <td>0</td>\n",
       "      <td>0</td>\n",
       "      <td>0</td>\n",
       "      <td>Nuovi smalti Kiko #smaltichepassione #smalti #...</td>\n",
       "      <td>2016-07-23T18:21:20</td>\n",
       "      <td>/Michymakeup79/status/756917125302906880</td>\n",
       "      <td>Michymakeup79</td>\n",
       "    </tr>\n",
       "    <tr>\n",
       "      <th>1</th>\n",
       "      <td>Gabriella Lombardi</td>\n",
       "      <td>756790940208074752</td>\n",
       "      <td>1</td>\n",
       "      <td>0</td>\n",
       "      <td>0</td>\n",
       "      <td>Recensione acqua micellare Pure Clean Water – ...</td>\n",
       "      <td>2016-07-23T09:59:55</td>\n",
       "      <td>/Chisechan89/status/756790940208074752</td>\n",
       "      <td>Chisechan89</td>\n",
       "    </tr>\n",
       "    <tr>\n",
       "      <th>2</th>\n",
       "      <td>Roma Giornale.it</td>\n",
       "      <td>756548811351269376</td>\n",
       "      <td>1</td>\n",
       "      <td>0</td>\n",
       "      <td>1</td>\n",
       "      <td>#CarmenHernandez La lettera di #PapaFrancesco ...</td>\n",
       "      <td>2016-07-22T17:57:47</td>\n",
       "      <td>/romagiornale/status/756548811351269376</td>\n",
       "      <td>romagiornale</td>\n",
       "    </tr>\n",
       "    <tr>\n",
       "      <th>3</th>\n",
       "      <td>MichyMakeup79</td>\n",
       "      <td>756447695578001408</td>\n",
       "      <td>1</td>\n",
       "      <td>0</td>\n",
       "      <td>0</td>\n",
       "      <td>Troppo belli i nuovi smalti kiko  #kikocosmeti...</td>\n",
       "      <td>2016-07-22T11:15:59</td>\n",
       "      <td>/Michymakeup79/status/756447695578001408</td>\n",
       "      <td>Michymakeup79</td>\n",
       "    </tr>\n",
       "    <tr>\n",
       "      <th>4</th>\n",
       "      <td>mcuart</td>\n",
       "      <td>756160013219958785</td>\n",
       "      <td>4</td>\n",
       "      <td>0</td>\n",
       "      <td>2</td>\n",
       "      <td>#Kiko commosso: Senza #Carmen il #Cammino non ...</td>\n",
       "      <td>2016-07-21T16:12:50</td>\n",
       "      <td>/mcuart/status/756160013219958785</td>\n",
       "      <td>mcuart</td>\n",
       "    </tr>\n",
       "  </tbody>\n",
       "</table>\n",
       "</div>"
      ],
      "text/plain": [
       "             fullname                  id likes replies retweets  \\\n",
       "0       MichyMakeup79  756917125302906880     0       0        0   \n",
       "1  Gabriella Lombardi  756790940208074752     1       0        0   \n",
       "2    Roma Giornale.it  756548811351269376     1       0        1   \n",
       "3       MichyMakeup79  756447695578001408     1       0        0   \n",
       "4              mcuart  756160013219958785     4       0        2   \n",
       "\n",
       "                                                text            timestamp  \\\n",
       "0  Nuovi smalti Kiko #smaltichepassione #smalti #...  2016-07-23T18:21:20   \n",
       "1  Recensione acqua micellare Pure Clean Water – ...  2016-07-23T09:59:55   \n",
       "2  #CarmenHernandez La lettera di #PapaFrancesco ...  2016-07-22T17:57:47   \n",
       "3  Troppo belli i nuovi smalti kiko  #kikocosmeti...  2016-07-22T11:15:59   \n",
       "4  #Kiko commosso: Senza #Carmen il #Cammino non ...  2016-07-21T16:12:50   \n",
       "\n",
       "                                        url           user  \n",
       "0  /Michymakeup79/status/756917125302906880  Michymakeup79  \n",
       "1    /Chisechan89/status/756790940208074752    Chisechan89  \n",
       "2   /romagiornale/status/756548811351269376   romagiornale  \n",
       "3  /Michymakeup79/status/756447695578001408  Michymakeup79  \n",
       "4         /mcuart/status/756160013219958785         mcuart  "
      ]
     },
     "execution_count": 23,
     "metadata": {},
     "output_type": "execute_result"
    }
   ],
   "source": [
    "df.head(5)"
   ]
  },
  {
   "cell_type": "code",
   "execution_count": 21,
   "metadata": {},
   "outputs": [
    {
     "data": {
      "text/html": [
       "<div>\n",
       "<style>\n",
       "    .dataframe thead tr:only-child th {\n",
       "        text-align: right;\n",
       "    }\n",
       "\n",
       "    .dataframe thead th {\n",
       "        text-align: left;\n",
       "    }\n",
       "\n",
       "    .dataframe tbody tr th {\n",
       "        vertical-align: top;\n",
       "    }\n",
       "</style>\n",
       "<table border=\"1\" class=\"dataframe\">\n",
       "  <thead>\n",
       "    <tr style=\"text-align: right;\">\n",
       "      <th></th>\n",
       "      <th>text</th>\n",
       "    </tr>\n",
       "  </thead>\n",
       "  <tbody>\n",
       "    <tr>\n",
       "      <th>0</th>\n",
       "      <td>Nuovi smalti Kiko #smaltichepassione #smalti #...</td>\n",
       "    </tr>\n",
       "    <tr>\n",
       "      <th>1</th>\n",
       "      <td>Recensione acqua micellare Pure Clean Water – ...</td>\n",
       "    </tr>\n",
       "    <tr>\n",
       "      <th>2</th>\n",
       "      <td>#CarmenHernandez La lettera di #PapaFrancesco ...</td>\n",
       "    </tr>\n",
       "  </tbody>\n",
       "</table>\n",
       "</div>"
      ],
      "text/plain": [
       "                                                text\n",
       "0  Nuovi smalti Kiko #smaltichepassione #smalti #...\n",
       "1  Recensione acqua micellare Pure Clean Water – ...\n",
       "2  #CarmenHernandez La lettera di #PapaFrancesco ..."
      ]
     },
     "execution_count": 21,
     "metadata": {},
     "output_type": "execute_result"
    }
   ],
   "source": [
    "df_text = df[['text']]\n",
    "df_text.head(3)"
   ]
  },
  {
   "cell_type": "code",
   "execution_count": 8,
   "metadata": {
    "collapsed": true
   },
   "outputs": [],
   "source": [
    "writer = pd.ExcelWriter('excel_en_full.xlsx')\n",
    "df_text.to_excel(writer,'Sheet1')\n",
    "writer.save()"
   ]
  },
  {
   "cell_type": "code",
   "execution_count": 9,
   "metadata": {},
   "outputs": [
    {
     "data": {
      "text/plain": [
       "1105"
      ]
     },
     "execution_count": 9,
     "metadata": {},
     "output_type": "execute_result"
    }
   ],
   "source": [
    "tweets_arr = df.text.values\n",
    "len(tweets_arr)"
   ]
  },
  {
   "cell_type": "code",
   "execution_count": 10,
   "metadata": {
    "collapsed": true
   },
   "outputs": [],
   "source": [
    "import re"
   ]
  },
  {
   "cell_type": "code",
   "execution_count": 11,
   "metadata": {},
   "outputs": [
    {
     "data": {
      "text/plain": [
       "['Have you seen Kiko?\\n\\n#LOSTDOG #KIKO #Orlando (Chackasaw Trail & Millinockette Rd) #FL 32825 #Orange Co. , #Lost... \\xa0',\n",
       " 'Socializando  #jose #kiko \\xa0…',\n",
       " 'Lipstick Parade #Kiko Velvet Mat 612 Strawberry Pink \\xa0 #lippenstift #lipstickparade #makeup',\n",
       " 'Lip scrub and plumping lip cream for the night #kiko #lipexfoliator #lipvolume',\n",
       " 'Does cheap always mean cheerful? See our take on this #kiko #eyeshadow \\xa0…']"
      ]
     },
     "execution_count": 11,
     "metadata": {},
     "output_type": "execute_result"
    }
   ],
   "source": [
    "cleaned_tweets_list = []\n",
    "\n",
    "for tweet_text in tweets_arr:\n",
    "    \n",
    "    cleaned_tweet = re.sub(r\"https\\S+\", \"\", tweet_text)\n",
    "    cleaned_tweet = re.sub(r\"http\\S+\", \"\", cleaned_tweet)\n",
    "    cleaned_tweet = re.sub(r\"pic.twitter.com\\S+\", \"\", cleaned_tweet)\n",
    "    cleaned_tweet = cleaned_tweet.replace('#maybelline', '')\n",
    "    cleaned_tweet = cleaned_tweet.replace('#Maybelline', '')\n",
    "    cleaned_tweet = cleaned_tweet.replace('#MAYBELLINE', '')\n",
    "    cleaned_tweet = cleaned_tweet.replace('maybelline', '')\n",
    "    cleaned_tweet = cleaned_tweet.replace('Maybelline', '')\n",
    "    cleaned_tweet = cleaned_tweet.replace('MAYBELLINE', '')\n",
    "\n",
    "    \n",
    "    cleaned_tweets_list.append(cleaned_tweet)\n",
    "    \n",
    "cleaned_tweets_list[:5]"
   ]
  },
  {
   "cell_type": "code",
   "execution_count": 12,
   "metadata": {},
   "outputs": [
    {
     "data": {
      "text/plain": [
       "1105"
      ]
     },
     "execution_count": 12,
     "metadata": {},
     "output_type": "execute_result"
    }
   ],
   "source": [
    "len(cleaned_tweets_list)"
   ]
  },
  {
   "cell_type": "code",
   "execution_count": 13,
   "metadata": {},
   "outputs": [
    {
     "data": {
      "text/html": [
       "<div>\n",
       "<style>\n",
       "    .dataframe thead tr:only-child th {\n",
       "        text-align: right;\n",
       "    }\n",
       "\n",
       "    .dataframe thead th {\n",
       "        text-align: left;\n",
       "    }\n",
       "\n",
       "    .dataframe tbody tr th {\n",
       "        vertical-align: top;\n",
       "    }\n",
       "</style>\n",
       "<table border=\"1\" class=\"dataframe\">\n",
       "  <thead>\n",
       "    <tr style=\"text-align: right;\">\n",
       "      <th></th>\n",
       "      <th>text</th>\n",
       "    </tr>\n",
       "  </thead>\n",
       "  <tbody>\n",
       "    <tr>\n",
       "      <th>0</th>\n",
       "      <td>Have you seen Kiko?\\n\\n#LOSTDOG #KIKO #Orlando...</td>\n",
       "    </tr>\n",
       "    <tr>\n",
       "      <th>1</th>\n",
       "      <td>Socializando  #jose #kiko  …</td>\n",
       "    </tr>\n",
       "    <tr>\n",
       "      <th>2</th>\n",
       "      <td>Lipstick Parade #Kiko Velvet Mat 612 Strawberr...</td>\n",
       "    </tr>\n",
       "    <tr>\n",
       "      <th>3</th>\n",
       "      <td>Lip scrub and plumping lip cream for the night...</td>\n",
       "    </tr>\n",
       "    <tr>\n",
       "      <th>4</th>\n",
       "      <td>Does cheap always mean cheerful? See our take ...</td>\n",
       "    </tr>\n",
       "  </tbody>\n",
       "</table>\n",
       "</div>"
      ],
      "text/plain": [
       "                                                text\n",
       "0  Have you seen Kiko?\\n\\n#LOSTDOG #KIKO #Orlando...\n",
       "1                       Socializando  #jose #kiko  …\n",
       "2  Lipstick Parade #Kiko Velvet Mat 612 Strawberr...\n",
       "3  Lip scrub and plumping lip cream for the night...\n",
       "4  Does cheap always mean cheerful? See our take ..."
      ]
     },
     "execution_count": 13,
     "metadata": {},
     "output_type": "execute_result"
    }
   ],
   "source": [
    "df_no_url = pd.DataFrame(np.array(cleaned_tweets_list), columns={'text'})\n",
    "df_no_url.head(5)"
   ]
  },
  {
   "cell_type": "code",
   "execution_count": 14,
   "metadata": {},
   "outputs": [
    {
     "data": {
      "text/plain": [
       "(1105, 1)"
      ]
     },
     "execution_count": 14,
     "metadata": {},
     "output_type": "execute_result"
    }
   ],
   "source": [
    "df_no_url.shape"
   ]
  },
  {
   "cell_type": "code",
   "execution_count": 15,
   "metadata": {},
   "outputs": [
    {
     "data": {
      "text/html": [
       "<div>\n",
       "<style>\n",
       "    .dataframe thead tr:only-child th {\n",
       "        text-align: right;\n",
       "    }\n",
       "\n",
       "    .dataframe thead th {\n",
       "        text-align: left;\n",
       "    }\n",
       "\n",
       "    .dataframe tbody tr th {\n",
       "        vertical-align: top;\n",
       "    }\n",
       "</style>\n",
       "<table border=\"1\" class=\"dataframe\">\n",
       "  <thead>\n",
       "    <tr style=\"text-align: right;\">\n",
       "      <th></th>\n",
       "      <th>text</th>\n",
       "    </tr>\n",
       "  </thead>\n",
       "  <tbody>\n",
       "    <tr>\n",
       "      <th>0</th>\n",
       "      <td>Have you seen Kiko?\\n\\n#LOSTDOG #KIKO #Orlando...</td>\n",
       "    </tr>\n",
       "    <tr>\n",
       "      <th>1</th>\n",
       "      <td>Socializando  #jose #kiko  …</td>\n",
       "    </tr>\n",
       "    <tr>\n",
       "      <th>2</th>\n",
       "      <td>Lipstick Parade #Kiko Velvet Mat 612 Strawberr...</td>\n",
       "    </tr>\n",
       "    <tr>\n",
       "      <th>3</th>\n",
       "      <td>Lip scrub and plumping lip cream for the night...</td>\n",
       "    </tr>\n",
       "    <tr>\n",
       "      <th>4</th>\n",
       "      <td>Does cheap always mean cheerful? See our take ...</td>\n",
       "    </tr>\n",
       "  </tbody>\n",
       "</table>\n",
       "</div>"
      ],
      "text/plain": [
       "                                                text\n",
       "0  Have you seen Kiko?\\n\\n#LOSTDOG #KIKO #Orlando...\n",
       "1                       Socializando  #jose #kiko  …\n",
       "2  Lipstick Parade #Kiko Velvet Mat 612 Strawberr...\n",
       "3  Lip scrub and plumping lip cream for the night...\n",
       "4  Does cheap always mean cheerful? See our take ..."
      ]
     },
     "execution_count": 15,
     "metadata": {},
     "output_type": "execute_result"
    }
   ],
   "source": [
    "df_no_dup = df_no_url.drop_duplicates(inplace=False)\n",
    "df_no_dup.head(5)"
   ]
  },
  {
   "cell_type": "code",
   "execution_count": 16,
   "metadata": {},
   "outputs": [
    {
     "data": {
      "text/plain": [
       "(1029, 1)"
      ]
     },
     "execution_count": 16,
     "metadata": {},
     "output_type": "execute_result"
    }
   ],
   "source": [
    "df_no_dup.shape"
   ]
  },
  {
   "cell_type": "code",
   "execution_count": 17,
   "metadata": {
    "collapsed": true
   },
   "outputs": [],
   "source": [
    "writer = pd.ExcelWriter('excel_en_cleaned.xlsx')\n",
    "df_no_dup.to_excel(writer,'Sheet1')\n",
    "writer.save()"
   ]
  }
 ],
 "metadata": {
  "kernelspec": {
   "display_name": "Python 3",
   "language": "python",
   "name": "python3"
  },
  "language_info": {
   "codemirror_mode": {
    "name": "ipython",
    "version": 3
   },
   "file_extension": ".py",
   "mimetype": "text/x-python",
   "name": "python",
   "nbconvert_exporter": "python",
   "pygments_lexer": "ipython3",
   "version": "3.6.3"
  }
 },
 "nbformat": 4,
 "nbformat_minor": 2
}
