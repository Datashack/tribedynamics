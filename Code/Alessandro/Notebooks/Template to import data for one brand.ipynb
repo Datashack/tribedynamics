{
 "cells": [
  {
   "cell_type": "code",
   "execution_count": 1,
   "metadata": {},
   "outputs": [],
   "source": [
    "import pandas as pd\n",
    "from collections import Counter"
   ]
  },
  {
   "cell_type": "code",
   "execution_count": 2,
   "metadata": {},
   "outputs": [],
   "source": [
    "# Change here the brand_id according to json file naming\n",
    "brand_id = '14680' # '14680' Dove dataset"
   ]
  },
  {
   "cell_type": "code",
   "execution_count": 3,
   "metadata": {},
   "outputs": [],
   "source": [
    "# Import json files (data and metadata)\n",
    "import codecs, json\n",
    "\n",
    "with codecs.open('../../Data/CSE_20180215/' + brand_id + '_data.json', 'r', 'utf-8') as f_data:\n",
    "    tweets_dict_list = json.load(f_data, encoding='utf-8')\n",
    "    \n",
    "with codecs.open('../../Data/CSE_20180215/' + brand_id + '_metadata.json') as f_metadata:\n",
    "    metadata_dict = json.load(f_metadata, encoding='utf-8')"
   ]
  },
  {
   "cell_type": "code",
   "execution_count": 4,
   "metadata": {
    "scrolled": true
   },
   "outputs": [
    {
     "data": {
      "text/plain": [
       "{'brand_id': 14680,\n",
       " 'brand_name': 'Dove',\n",
       " 'search_terms': ['#60ansdove',\n",
       "  '#babydove',\n",
       "  '#boycottdove',\n",
       "  '#dovead',\n",
       "  '#doveadvancedhairseries',\n",
       "  '#dovearabia',\n",
       "  '#dovebelgium',\n",
       "  '#dovebox',\n",
       "  '#dovecanada',\n",
       "  '#dovedermaspa',\n",
       "  '#dovefacecare',\n",
       "  '#dovegurl',\n",
       "  '#dovehair',\n",
       "  '#doveidn',\n",
       "  '#doveindia',\n",
       "  '#doveknowshair',\n",
       "  '#dovenewyork',\n",
       "  '#dovenutritivesolutions',\n",
       "  '#dovep',\n",
       "  '#doveparis',\n",
       "  '#dovepartner',\n",
       "  '#doveplusmore',\n",
       "  '#doveprendsoindesfemmes',\n",
       "  '#doverealbe',\n",
       "  '#doverussia',\n",
       "  '#dovexgoldenwendy',\n",
       "  '#getdoveclean',\n",
       "  '#hebdove60th',\n",
       "  '#pmgdove',\n",
       "  '#wilkodoverealwoman',\n",
       "  '#wmdoveregen',\n",
       "  '@babydove',\n",
       "  '@babydoveus',\n",
       "  '@dovecanada',\n",
       "  '@dovemencare',\n",
       "  '@doveuk',\n",
       "  'babydoveuki',\n",
       "  'dove',\n",
       "  'dove*',\n",
       "  'dove_jp',\n",
       "  'doveespana',\n",
       "  'dovehaircare',\n",
       "  'doveskincare',\n",
       "  'doveus',\n",
       "  'ダヴ',\n",
       "  '多芬',\n",
       "  '多芬愛美麗',\n",
       "  '多芬爱美丽',\n",
       "  '도브']}"
      ]
     },
     "execution_count": 4,
     "metadata": {},
     "output_type": "execute_result"
    }
   ],
   "source": [
    "# Brand information\n",
    "metadata_dict"
   ]
  },
  {
   "cell_type": "code",
   "execution_count": 5,
   "metadata": {},
   "outputs": [
    {
     "name": "stdout",
     "output_type": "stream",
     "text": [
      "Example of one tweet:\n"
     ]
    },
    {
     "data": {
      "text/plain": [
       "{'labels': [1,\n",
       "  0,\n",
       "  1,\n",
       "  0,\n",
       "  0,\n",
       "  0,\n",
       "  0,\n",
       "  1,\n",
       "  0,\n",
       "  0,\n",
       "  0,\n",
       "  0,\n",
       "  0,\n",
       "  0,\n",
       "  0,\n",
       "  1,\n",
       "  0,\n",
       "  1,\n",
       "  0,\n",
       "  0,\n",
       "  0,\n",
       "  0,\n",
       "  0,\n",
       "  0,\n",
       "  0,\n",
       "  1,\n",
       "  0,\n",
       "  0,\n",
       "  0,\n",
       "  0],\n",
       " 'lang': 'it',\n",
       " 'link': 'http://www.mundodecaty.com/2015/06/beauty-corner-kieme-lift-firming-cream.html',\n",
       " 'model_decision': 0,\n",
       " 'mturker': 1,\n",
       " 'text': 'trattamento completo che consenta risultati migliori in modo decisivo e  rapido, rallentando gli effetti del tempo e andando ad agire dove diete e  palestra non hanno risultato.Frutto di ricerca scientifca e innovazione, Kiemè è una linea di  cosmetici che garantisce la'}"
      ]
     },
     "execution_count": 5,
     "metadata": {},
     "output_type": "execute_result"
    }
   ],
   "source": [
    "tweet_index = 0\n",
    "print ('Example of one tweet:')\n",
    "tweets_dict_list[tweet_index]"
   ]
  },
  {
   "cell_type": "code",
   "execution_count": 6,
   "metadata": {},
   "outputs": [
    {
     "data": {
      "text/html": [
       "<div>\n",
       "<style scoped>\n",
       "    .dataframe tbody tr th:only-of-type {\n",
       "        vertical-align: middle;\n",
       "    }\n",
       "\n",
       "    .dataframe tbody tr th {\n",
       "        vertical-align: top;\n",
       "    }\n",
       "\n",
       "    .dataframe thead th {\n",
       "        text-align: right;\n",
       "    }\n",
       "</style>\n",
       "<table border=\"1\" class=\"dataframe\">\n",
       "  <thead>\n",
       "    <tr style=\"text-align: right;\">\n",
       "      <th></th>\n",
       "      <th>text</th>\n",
       "      <th>lang</th>\n",
       "      <th>model_decision</th>\n",
       "      <th>labels</th>\n",
       "      <th>mturker</th>\n",
       "      <th>link</th>\n",
       "    </tr>\n",
       "  </thead>\n",
       "  <tbody>\n",
       "    <tr>\n",
       "      <th>0</th>\n",
       "      <td>trattamento completo che consenta risultati mi...</td>\n",
       "      <td>it</td>\n",
       "      <td>0</td>\n",
       "      <td>[1, 0, 1, 0, 0, 0, 0, 1, 0, 0, 0, 0, 0, 0, 0, ...</td>\n",
       "      <td>1</td>\n",
       "      <td>http://www.mundodecaty.com/2015/06/beauty-corn...</td>\n",
       "    </tr>\n",
       "    <tr>\n",
       "      <th>1</th>\n",
       "      <td>gummies (9/30)\\nClairol $2/1 age defy hair col...</td>\n",
       "      <td>en</td>\n",
       "      <td>1</td>\n",
       "      <td>[1, 1, 1, 1, 1, 1, 1, 1]</td>\n",
       "      <td>1</td>\n",
       "      <td>http://mymommataughtme.com/sunday-coupon-previ...</td>\n",
       "    </tr>\n",
       "    <tr>\n",
       "      <th>2</th>\n",
       "      <td>Max toothpaste 6 oz $2.99 Limit 2$0.50/1 Colga...</td>\n",
       "      <td>en</td>\n",
       "      <td>1</td>\n",
       "      <td>[1, 1, 0, 1, 1, 1]</td>\n",
       "      <td>1</td>\n",
       "      <td>http://www.mybatonrougemommy.com/2015/07/cvs-w...</td>\n",
       "    </tr>\n",
       "    <tr>\n",
       "      <th>3</th>\n",
       "      <td>Cream bath by Dove, especially for the winter ...</td>\n",
       "      <td>en</td>\n",
       "      <td>1</td>\n",
       "      <td>[1]</td>\n",
       "      <td>0</td>\n",
       "      <td>https://www.facebook.com/107049086007271/posts...</td>\n",
       "    </tr>\n",
       "    <tr>\n",
       "      <th>4</th>\n",
       "      <td>You've NEVER seen Dove Cameron look like this ...</td>\n",
       "      <td>en</td>\n",
       "      <td>0</td>\n",
       "      <td>[0]</td>\n",
       "      <td>0</td>\n",
       "      <td>https://www.facebook.com/6338692612/posts/1015...</td>\n",
       "    </tr>\n",
       "  </tbody>\n",
       "</table>\n",
       "</div>"
      ],
      "text/plain": [
       "                                                text lang  model_decision  \\\n",
       "0  trattamento completo che consenta risultati mi...   it               0   \n",
       "1  gummies (9/30)\\nClairol $2/1 age defy hair col...   en               1   \n",
       "2  Max toothpaste 6 oz $2.99 Limit 2$0.50/1 Colga...   en               1   \n",
       "3  Cream bath by Dove, especially for the winter ...   en               1   \n",
       "4  You've NEVER seen Dove Cameron look like this ...   en               0   \n",
       "\n",
       "                                              labels  mturker  \\\n",
       "0  [1, 0, 1, 0, 0, 0, 0, 1, 0, 0, 0, 0, 0, 0, 0, ...        1   \n",
       "1                           [1, 1, 1, 1, 1, 1, 1, 1]        1   \n",
       "2                                 [1, 1, 0, 1, 1, 1]        1   \n",
       "3                                                [1]        0   \n",
       "4                                                [0]        0   \n",
       "\n",
       "                                                link  \n",
       "0  http://www.mundodecaty.com/2015/06/beauty-corn...  \n",
       "1  http://mymommataughtme.com/sunday-coupon-previ...  \n",
       "2  http://www.mybatonrougemommy.com/2015/07/cvs-w...  \n",
       "3  https://www.facebook.com/107049086007271/posts...  \n",
       "4  https://www.facebook.com/6338692612/posts/1015...  "
      ]
     },
     "execution_count": 6,
     "metadata": {},
     "output_type": "execute_result"
    }
   ],
   "source": [
    "df_full = pd.DataFrame.from_dict(tweets_dict_list)\n",
    "df_full = df_full[['text','lang','model_decision','labels','mturker', 'link']]\n",
    "df_full.head(5)"
   ]
  },
  {
   "cell_type": "code",
   "execution_count": 7,
   "metadata": {},
   "outputs": [
    {
     "name": "stdout",
     "output_type": "stream",
     "text": [
      "Number of samples: 5935\n"
     ]
    }
   ],
   "source": [
    "print(\"Number of samples: {}\".format(df_full.shape[0]))"
   ]
  },
  {
   "cell_type": "code",
   "execution_count": 8,
   "metadata": {
    "scrolled": true
   },
   "outputs": [
    {
     "data": {
      "text/plain": [
       "Counter({None: 23,\n",
       "         'ar': 9,\n",
       "         'ca': 1,\n",
       "         'cs': 2,\n",
       "         'da': 4,\n",
       "         'de': 228,\n",
       "         'el': 3,\n",
       "         'en': 3623,\n",
       "         'es': 368,\n",
       "         'fi': 4,\n",
       "         'fr': 339,\n",
       "         'hu': 4,\n",
       "         'id': 4,\n",
       "         'it': 902,\n",
       "         'ja': 11,\n",
       "         'ko': 11,\n",
       "         'lt': 1,\n",
       "         'lv': 1,\n",
       "         'nl': 27,\n",
       "         'no': 2,\n",
       "         'pl': 10,\n",
       "         'pt': 132,\n",
       "         'ro': 3,\n",
       "         'ru': 173,\n",
       "         'sl': 1,\n",
       "         'sv': 1,\n",
       "         'th': 18,\n",
       "         'tl': 1,\n",
       "         'tr': 17,\n",
       "         'vi': 8,\n",
       "         'zh': 4})"
      ]
     },
     "execution_count": 8,
     "metadata": {},
     "output_type": "execute_result"
    }
   ],
   "source": [
    "# Languages count\n",
    "Counter(df_full.lang.values)"
   ]
  },
  {
   "cell_type": "code",
   "execution_count": 9,
   "metadata": {},
   "outputs": [
    {
     "data": {
      "text/plain": [
       "Counter({0: 2422, 1: 3513})"
      ]
     },
     "execution_count": 9,
     "metadata": {},
     "output_type": "execute_result"
    }
   ],
   "source": [
    "# Model decision count\n",
    "Counter(df_full.model_decision.values)"
   ]
  },
  {
   "cell_type": "code",
   "execution_count": 10,
   "metadata": {},
   "outputs": [
    {
     "name": "stdout",
     "output_type": "stream",
     "text": [
      "0 = Tribe employee | 1 = MTurk labeler\n"
     ]
    },
    {
     "data": {
      "text/plain": [
       "Counter({0: 3613, 1: 2322})"
      ]
     },
     "execution_count": 10,
     "metadata": {},
     "output_type": "execute_result"
    }
   ],
   "source": [
    "# MTurk count\n",
    "print('0 = Tribe employee | 1 = MTurk labeler')\n",
    "Counter(df_full.mturker.values)"
   ]
  }
 ],
 "metadata": {
  "kernelspec": {
   "display_name": "Python 3",
   "language": "python",
   "name": "python3"
  },
  "language_info": {
   "codemirror_mode": {
    "name": "ipython",
    "version": 3
   },
   "file_extension": ".py",
   "mimetype": "text/x-python",
   "name": "python",
   "nbconvert_exporter": "python",
   "pygments_lexer": "ipython3",
   "version": "3.6.4"
  }
 },
 "nbformat": 4,
 "nbformat_minor": 2
}
