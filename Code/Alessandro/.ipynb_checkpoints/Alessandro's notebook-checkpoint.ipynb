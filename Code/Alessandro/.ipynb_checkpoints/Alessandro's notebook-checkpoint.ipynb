{
 "cells": [
  {
   "cell_type": "code",
   "execution_count": 1,
   "metadata": {
    "collapsed": true
   },
   "outputs": [],
   "source": [
    "import pandas as pd\n",
    "import numpy as np"
   ]
  },
  {
   "cell_type": "code",
   "execution_count": 2,
   "metadata": {},
   "outputs": [
    {
     "data": {
      "text/html": [
       "<div>\n",
       "<style>\n",
       "    .dataframe thead tr:only-child th {\n",
       "        text-align: right;\n",
       "    }\n",
       "\n",
       "    .dataframe thead th {\n",
       "        text-align: left;\n",
       "    }\n",
       "\n",
       "    .dataframe tbody tr th {\n",
       "        vertical-align: top;\n",
       "    }\n",
       "</style>\n",
       "<table border=\"1\" class=\"dataframe\">\n",
       "  <thead>\n",
       "    <tr style=\"text-align: right;\">\n",
       "      <th></th>\n",
       "      <th>Unnamed: 0</th>\n",
       "      <th>Unnamed: 0.1</th>\n",
       "      <th>brand_id</th>\n",
       "      <th>worker_id</th>\n",
       "      <th>mturker</th>\n",
       "      <th>post_hash</th>\n",
       "      <th>answer</th>\n",
       "      <th>date</th>\n",
       "      <th>duration_seconds</th>\n",
       "      <th>text</th>\n",
       "      <th>model_decision</th>\n",
       "      <th>timestamped_model</th>\n",
       "      <th>lang</th>\n",
       "    </tr>\n",
       "  </thead>\n",
       "  <tbody>\n",
       "    <tr>\n",
       "      <th>0</th>\n",
       "      <td>0</td>\n",
       "      <td>0</td>\n",
       "      <td>18792</td>\n",
       "      <td>TRIBE_103_allayne.low@gmail.com</td>\n",
       "      <td>False</td>\n",
       "      <td>3ca62dcea583b7aa204fc52fe6b2826c</td>\n",
       "      <td>False</td>\n",
       "      <td>2017-07-16</td>\n",
       "      <td>NaN</td>\n",
       "      <td>・\\r\\nケイト スペード ニューヨークの\\r\\n2017Fall Collectionに招...</td>\n",
       "      <td>False</td>\n",
       "      <td>NaN</td>\n",
       "      <td>ja</td>\n",
       "    </tr>\n",
       "  </tbody>\n",
       "</table>\n",
       "</div>"
      ],
      "text/plain": [
       "   Unnamed: 0  Unnamed: 0.1  brand_id                        worker_id  \\\n",
       "0           0             0     18792  TRIBE_103_allayne.low@gmail.com   \n",
       "\n",
       "   mturker                         post_hash  answer        date  \\\n",
       "0    False  3ca62dcea583b7aa204fc52fe6b2826c   False  2017-07-16   \n",
       "\n",
       "   duration_seconds                                               text  \\\n",
       "0               NaN  ・\\r\\nケイト スペード ニューヨークの\\r\\n2017Fall Collectionに招...   \n",
       "\n",
       "   model_decision timestamped_model lang  \n",
       "0           False               NaN   ja  "
      ]
     },
     "execution_count": 2,
     "metadata": {},
     "output_type": "execute_result"
    }
   ],
   "source": [
    "df = pd.read_csv('../../tribe_dynamics_data.csv')\n",
    "df.head(1)"
   ]
  },
  {
   "cell_type": "code",
   "execution_count": 3,
   "metadata": {},
   "outputs": [
    {
     "data": {
      "text/html": [
       "<div>\n",
       "<style>\n",
       "    .dataframe thead tr:only-child th {\n",
       "        text-align: right;\n",
       "    }\n",
       "\n",
       "    .dataframe thead th {\n",
       "        text-align: left;\n",
       "    }\n",
       "\n",
       "    .dataframe tbody tr th {\n",
       "        vertical-align: top;\n",
       "    }\n",
       "</style>\n",
       "<table border=\"1\" class=\"dataframe\">\n",
       "  <thead>\n",
       "    <tr style=\"text-align: right;\">\n",
       "      <th></th>\n",
       "      <th>brand_id</th>\n",
       "      <th>worker_id</th>\n",
       "      <th>mturker</th>\n",
       "      <th>post_hash</th>\n",
       "      <th>answer</th>\n",
       "      <th>date</th>\n",
       "      <th>duration_seconds</th>\n",
       "      <th>text</th>\n",
       "      <th>model_decision</th>\n",
       "      <th>timestamped_model</th>\n",
       "      <th>lang</th>\n",
       "    </tr>\n",
       "  </thead>\n",
       "  <tbody>\n",
       "    <tr>\n",
       "      <th>0</th>\n",
       "      <td>18792</td>\n",
       "      <td>TRIBE_103_allayne.low@gmail.com</td>\n",
       "      <td>False</td>\n",
       "      <td>3ca62dcea583b7aa204fc52fe6b2826c</td>\n",
       "      <td>False</td>\n",
       "      <td>2017-07-16</td>\n",
       "      <td>NaN</td>\n",
       "      <td>・\\r\\nケイト スペード ニューヨークの\\r\\n2017Fall Collectionに招...</td>\n",
       "      <td>False</td>\n",
       "      <td>NaN</td>\n",
       "      <td>ja</td>\n",
       "    </tr>\n",
       "  </tbody>\n",
       "</table>\n",
       "</div>"
      ],
      "text/plain": [
       "   brand_id                        worker_id  mturker  \\\n",
       "0     18792  TRIBE_103_allayne.low@gmail.com    False   \n",
       "\n",
       "                          post_hash  answer        date  duration_seconds  \\\n",
       "0  3ca62dcea583b7aa204fc52fe6b2826c   False  2017-07-16               NaN   \n",
       "\n",
       "                                                text  model_decision  \\\n",
       "0  ・\\r\\nケイト スペード ニューヨークの\\r\\n2017Fall Collectionに招...           False   \n",
       "\n",
       "  timestamped_model lang  \n",
       "0               NaN   ja  "
      ]
     },
     "execution_count": 3,
     "metadata": {},
     "output_type": "execute_result"
    }
   ],
   "source": [
    "df.drop(['Unnamed: 0', 'Unnamed: 0.1'], axis=1, inplace=True)\n",
    "df.head(1)"
   ]
  },
  {
   "cell_type": "code",
   "execution_count": 4,
   "metadata": {},
   "outputs": [
    {
     "data": {
      "text/html": [
       "<div>\n",
       "<style>\n",
       "    .dataframe thead tr:only-child th {\n",
       "        text-align: right;\n",
       "    }\n",
       "\n",
       "    .dataframe thead th {\n",
       "        text-align: left;\n",
       "    }\n",
       "\n",
       "    .dataframe tbody tr th {\n",
       "        vertical-align: top;\n",
       "    }\n",
       "</style>\n",
       "<table border=\"1\" class=\"dataframe\">\n",
       "  <thead>\n",
       "    <tr style=\"text-align: right;\">\n",
       "      <th></th>\n",
       "      <th>text</th>\n",
       "      <th>lang</th>\n",
       "      <th>model_decision</th>\n",
       "      <th>answer</th>\n",
       "      <th>mturker</th>\n",
       "    </tr>\n",
       "  </thead>\n",
       "  <tbody>\n",
       "    <tr>\n",
       "      <th>0</th>\n",
       "      <td>・\\r\\nケイト スペード ニューヨークの\\r\\n2017Fall Collectionに招...</td>\n",
       "      <td>ja</td>\n",
       "      <td>False</td>\n",
       "      <td>False</td>\n",
       "      <td>False</td>\n",
       "    </tr>\n",
       "    <tr>\n",
       "      <th>1</th>\n",
       "      <td>青春日記【挨拶のハグじゃダメなの】\\r\\n僕が中学3年生の時だ。\\r\\n高山私立松倉中学校と...</td>\n",
       "      <td>ja</td>\n",
       "      <td>False</td>\n",
       "      <td>False</td>\n",
       "      <td>False</td>\n",
       "    </tr>\n",
       "    <tr>\n",
       "      <th>2</th>\n",
       "      <td>fabric&amp;thingsで本日のみ開催しております\\r\\nいちごのプチレストラン La F...</td>\n",
       "      <td>ja</td>\n",
       "      <td>False</td>\n",
       "      <td>False</td>\n",
       "      <td>False</td>\n",
       "    </tr>\n",
       "  </tbody>\n",
       "</table>\n",
       "</div>"
      ],
      "text/plain": [
       "                                                text lang  model_decision  \\\n",
       "0  ・\\r\\nケイト スペード ニューヨークの\\r\\n2017Fall Collectionに招...   ja           False   \n",
       "1  青春日記【挨拶のハグじゃダメなの】\\r\\n僕が中学3年生の時だ。\\r\\n高山私立松倉中学校と...   ja           False   \n",
       "2  fabric&thingsで本日のみ開催しております\\r\\nいちごのプチレストラン La F...   ja           False   \n",
       "\n",
       "   answer  mturker  \n",
       "0   False    False  \n",
       "1   False    False  \n",
       "2   False    False  "
      ]
     },
     "execution_count": 4,
     "metadata": {},
     "output_type": "execute_result"
    }
   ],
   "source": [
    "df_small = df[['text','lang','model_decision','answer','mturker']]\n",
    "df_small.head(3)"
   ]
  },
  {
   "cell_type": "code",
   "execution_count": 5,
   "metadata": {},
   "outputs": [
    {
     "data": {
      "text/html": [
       "<div>\n",
       "<style>\n",
       "    .dataframe thead tr:only-child th {\n",
       "        text-align: right;\n",
       "    }\n",
       "\n",
       "    .dataframe thead th {\n",
       "        text-align: left;\n",
       "    }\n",
       "\n",
       "    .dataframe tbody tr th {\n",
       "        vertical-align: top;\n",
       "    }\n",
       "</style>\n",
       "<table border=\"1\" class=\"dataframe\">\n",
       "  <thead>\n",
       "    <tr style=\"text-align: right;\">\n",
       "      <th></th>\n",
       "      <th>text</th>\n",
       "      <th>lang</th>\n",
       "      <th>model_decision</th>\n",
       "      <th>answer</th>\n",
       "      <th>mturker</th>\n",
       "    </tr>\n",
       "  </thead>\n",
       "  <tbody>\n",
       "    <tr>\n",
       "      <th>67</th>\n",
       "      <td>(near) PORTLAND, OR: Shye Girl and Joey are at...</td>\n",
       "      <td>en</td>\n",
       "      <td>False</td>\n",
       "      <td>False</td>\n",
       "      <td>False</td>\n",
       "    </tr>\n",
       "    <tr>\n",
       "      <th>68</th>\n",
       "      <td>Remember 16 year old Daisy (center) who was fo...</td>\n",
       "      <td>en</td>\n",
       "      <td>False</td>\n",
       "      <td>False</td>\n",
       "      <td>False</td>\n",
       "    </tr>\n",
       "    <tr>\n",
       "      <th>69</th>\n",
       "      <td>(near) PORTLAND, OR: 7 year old Maia was so cl...</td>\n",
       "      <td>en</td>\n",
       "      <td>False</td>\n",
       "      <td>False</td>\n",
       "      <td>False</td>\n",
       "    </tr>\n",
       "  </tbody>\n",
       "</table>\n",
       "</div>"
      ],
      "text/plain": [
       "                                                 text lang  model_decision  \\\n",
       "67  (near) PORTLAND, OR: Shye Girl and Joey are at...   en           False   \n",
       "68  Remember 16 year old Daisy (center) who was fo...   en           False   \n",
       "69  (near) PORTLAND, OR: 7 year old Maia was so cl...   en           False   \n",
       "\n",
       "    answer  mturker  \n",
       "67   False    False  \n",
       "68   False    False  \n",
       "69   False    False  "
      ]
     },
     "execution_count": 5,
     "metadata": {},
     "output_type": "execute_result"
    }
   ],
   "source": [
    "english_df = df_small[df_small.lang == 'en'] #CHANGE HERE\n",
    "english_df.head(3)"
   ]
  },
  {
   "cell_type": "code",
   "execution_count": 6,
   "metadata": {},
   "outputs": [
    {
     "name": "stdout",
     "output_type": "stream",
     "text": [
      "Dataset contains 9426 English posts\n"
     ]
    }
   ],
   "source": [
    "print('Dataset contains {} English posts'.format(english_df.shape[0]))"
   ]
  },
  {
   "cell_type": "code",
   "execution_count": 7,
   "metadata": {},
   "outputs": [],
   "source": [
    "texts_arr = english_df.text.values"
   ]
  },
  {
   "cell_type": "code",
   "execution_count": 8,
   "metadata": {
    "collapsed": true
   },
   "outputs": [],
   "source": [
    "unique_texts_arr = np.unique(texts_arr)"
   ]
  },
  {
   "cell_type": "code",
   "execution_count": 9,
   "metadata": {},
   "outputs": [
    {
     "name": "stdout",
     "output_type": "stream",
     "text": [
      "Dataset contains 2396 unique English posts\n"
     ]
    }
   ],
   "source": [
    "print('Dataset contains {} unique English posts'.format(len(unique_texts_arr)))"
   ]
  },
  {
   "cell_type": "code",
   "execution_count": 10,
   "metadata": {
    "collapsed": true
   },
   "outputs": [],
   "source": [
    "english_no_dup_df = english_df.drop_duplicates(inplace=False)"
   ]
  },
  {
   "cell_type": "code",
   "execution_count": 11,
   "metadata": {},
   "outputs": [
    {
     "name": "stdout",
     "output_type": "stream",
     "text": [
      "No duplicates dataset contains 2610 English posts\n"
     ]
    }
   ],
   "source": [
    "print('No duplicates dataset contains {} English posts'.format(english_no_dup_df.shape[0]))"
   ]
  },
  {
   "cell_type": "markdown",
   "metadata": {},
   "source": [
    "# Bag of words"
   ]
  },
  {
   "cell_type": "code",
   "execution_count": 12,
   "metadata": {
    "collapsed": true
   },
   "outputs": [],
   "source": [
    "import nltk\n",
    "from sklearn.feature_extraction.text import CountVectorizer"
   ]
  },
  {
   "cell_type": "code",
   "execution_count": 13,
   "metadata": {},
   "outputs": [
    {
     "name": "stdout",
     "output_type": "stream",
     "text": [
      "The process generated 13776 bag-of-words variables\n"
     ]
    }
   ],
   "source": [
    "english_stemmer = nltk.stem.SnowballStemmer('english')\n",
    "\n",
    "class ExtendedCountVectorizer(CountVectorizer):\n",
    "\n",
    "    def build_preprocessor(self):\n",
    "        preprocessor = super(ExtendedCountVectorizer, self).build_preprocessor()\n",
    "        return lambda doc: preprocessor(doc.translate(str.maketrans('','','1234567890')))\n",
    "\n",
    "    def build_analyzer(self):\n",
    "        analyzer = super(ExtendedCountVectorizer, self).build_analyzer()\n",
    "        return lambda doc: ([english_stemmer.stem(w) for w in analyzer(doc)])\n",
    "\n",
    "count_vectorizer = ExtendedCountVectorizer(max_df=0.5, min_df=2, analyzer='word', stop_words='english', binary=True)\n",
    "vectorized = count_vectorizer.fit_transform(english_no_dup_df['text'])\n",
    "stemmed_bag_of_words = pd.DataFrame(vectorized.A, columns = count_vectorizer.get_feature_names())\n",
    "\n",
    "print('The process generated {} bag-of-words variables'.format(len(stemmed_bag_of_words.columns)))"
   ]
  },
  {
   "cell_type": "code",
   "execution_count": 14,
   "metadata": {},
   "outputs": [],
   "source": [
    "from sklearn.naive_bayes import MultinomialNB\n",
    "from sklearn.naive_bayes import GaussianNB\n",
    "\n",
    "bin_variables = [w for w in stemmed_bag_of_words.columns]\n",
    "bin_labels = english_no_dup_df['answer']\n",
    "bin_data = stemmed_bag_of_words[bin_variables]"
   ]
  },
  {
   "cell_type": "code",
   "execution_count": 15,
   "metadata": {
    "collapsed": true
   },
   "outputs": [],
   "source": [
    "from sklearn.model_selection import cross_val_score\n",
    "from sklearn.model_selection import StratifiedKFold, KFold\n",
    "\n",
    "bin_clf = MultinomialNB()\n",
    "bin_clf = bin_clf.fit(bin_data,bin_labels)\n",
    "bin_scores = cross_val_score(bin_clf, bin_data.values, bin_labels, cv=StratifiedKFold(n_splits=10, shuffle=True, random_state=1234))"
   ]
  },
  {
   "cell_type": "code",
   "execution_count": 17,
   "metadata": {},
   "outputs": [
    {
     "name": "stdout",
     "output_type": "stream",
     "text": [
      "Bag of Words -> 10-fold CV Accuracy 0.86 +/- 0.02\n"
     ]
    }
   ],
   "source": [
    "print('Bag of Words -> 10-fold CV Accuracy {:.2f} +/- {:.2f}'.format(np.mean(bin_scores),np.std(bin_scores)))"
   ]
  }
 ],
 "metadata": {
  "kernelspec": {
   "display_name": "Python 3",
   "language": "python",
   "name": "python3"
  },
  "language_info": {
   "codemirror_mode": {
    "name": "ipython",
    "version": 3
   },
   "file_extension": ".py",
   "mimetype": "text/x-python",
   "name": "python",
   "nbconvert_exporter": "python",
   "pygments_lexer": "ipython3",
   "version": "3.6.3"
  }
 },
 "nbformat": 4,
 "nbformat_minor": 2
}
