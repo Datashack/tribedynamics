{
 "cells": [
  {
   "cell_type": "markdown",
   "metadata": {},
   "source": [
    "# Importing libraries"
   ]
  },
  {
   "cell_type": "code",
   "execution_count": 1,
   "metadata": {
    "collapsed": true
   },
   "outputs": [],
   "source": [
    "import tweepy\n",
    "import csv\n",
    "import pandas as pd"
   ]
  },
  {
   "cell_type": "markdown",
   "metadata": {},
   "source": [
    "# Authentication"
   ]
  },
  {
   "cell_type": "code",
   "execution_count": 2,
   "metadata": {
    "collapsed": true
   },
   "outputs": [],
   "source": [
    "####input your credentials here\n",
    "consumer_key = 'izYk1yjpyPnupV8oAh81OIdKF'\n",
    "consumer_secret = 'KzhDo8wVJzTjo6mlBuG8SpXVYo0a2qxtNt5JX4U08w6bG4V0PM'\n",
    "access_token = '120788046-SC6innzudIE75Aqtu0ULuEyJYo9wVj9YorRQnnXt'\n",
    "access_token_secret = 'tx88xjTBmfwPQ4LhccU6x9XXO2hriO1P81oOEnLQqznFi'\n",
    "\n",
    "auth = tweepy.OAuthHandler(consumer_key, consumer_secret)\n",
    "auth.set_access_token(access_token, access_token_secret)\n",
    "api = tweepy.API(auth,wait_on_rate_limit=True)"
   ]
  },
  {
   "cell_type": "markdown",
   "metadata": {},
   "source": [
    "# Scraping"
   ]
  },
  {
   "cell_type": "code",
   "execution_count": 3,
   "metadata": {
    "collapsed": true
   },
   "outputs": [],
   "source": [
    "# Open/Create a file to append data\n",
    "csvFile = open('test_twitter.csv', 'a')\n",
    "\n",
    "#Use csv Writer\n",
    "csvWriter = csv.writer(csvFile)"
   ]
  },
  {
   "cell_type": "raw",
   "metadata": {},
   "source": [
    "for tweet in tweepy.Cursor(api.search, q=\"#maybelline\", count=1, lang=\"en\", since=\"2018-01-01\").items():\n",
    "    print (tweet.created_at, tweet.text)\n",
    "    csvWriter.writerow([tweet.created_at, tweet.text.encode('utf-8')])"
   ]
  },
  {
   "cell_type": "code",
   "execution_count": 4,
   "metadata": {},
   "outputs": [
    {
     "name": "stdout",
     "output_type": "stream",
     "text": [
      "=====\n",
      "NUOVE USCITE #6 #news #collection #deborah #debby #oreal #maybelline #secretsofcamouflage #liquidkissesmatlipstick #infaillible #browtattoo https://t.co/CO237Mqjo3 https://t.co/TSRI60SSEx\n",
      "=====\n",
      "SCOPRIAMO IL NUOVO #MASCARA @Maybelline #TOTALTEMPTATION qui: https://t.co/4L4HTGMurz per un EXTRA VOLUME! 😍 #beauty #blog #maybelline #blogger #beautyblog #beautyblogger #italy #italia #bloggeritalia https://t.co/jHcnpAfHhH\n",
      "=====\n",
      "Finalmente nelle mie mani 😍😍 #lover #lovermaybelline #maybelline #superstaymatteink #metteink… https://t.co/fgvS6h4iKC\n",
      "=====\n",
      "⁣💋💋💋💋 OFFERTA SHOCK PER DONNA 💋💋💋💋\n",
      "\n",
      "#Maybelline New York matita rossetto 💄 in offerta a 2,95 € invece di 6,99 €.... https://t.co/3gJC9fxQjQ\n",
      "=====\n",
      "Giorno libero, cose da fare. #makeup #cosmetics #today #fotd #faceoftheday #foundation #urbandecay #allnighter #mascara #wycon #eyebrows #nyxitalia #beauty #lipstickcollection #liquidlipstick #mattelipstick #maybelline #superstaymatteink #lover #ibbloggers #beautyingredients… https://t.co/bd35Xfrq76\n",
      "=====\n",
      "#maybelline #superstay acquistalo qui--&gt; https://t.co/Hu9cB2eEfQ prezzo 8,40€ #makeup #face #makeupartist #MakeupAddict #spedizionegratis #shoppingstar #twittamibeautiful #TwittoDi #Twitter clicca sul link e sul bottone ⚫ scopri il fondotinta al prezzo migliore del #Web https://t.co/2KSWR83mYS\n",
      "=====\n",
      "LE NUOVE TONALITA' DEL #CORRETTORE @Maybelline INSTANT AGE REWIND qui: https://t.co/lCP3Jf2EK4 che ne dite?? 😍🤩#beauty #makeup #maybelline #instantagerewind #wallmart #beautyblog #beautyblogger #italy corretto https://t.co/IK89KTneph\n",
      "=====\n"
     ]
    }
   ],
   "source": [
    "print ('=====')\n",
    "for tweet in tweepy.Cursor(api.search, q=\"#maybelline\", lang=\"it\", since=\"2018-01-01\", tweet_mode='extended').items(10):\n",
    "    print (tweet.full_text)\n",
    "    print ('=====')"
   ]
  },
  {
   "cell_type": "code",
   "execution_count": null,
   "metadata": {
    "collapsed": true
   },
   "outputs": [],
   "source": []
  }
 ],
 "metadata": {
  "kernelspec": {
   "display_name": "Python 3",
   "language": "python",
   "name": "python3"
  },
  "language_info": {
   "codemirror_mode": {
    "name": "ipython",
    "version": 3
   },
   "file_extension": ".py",
   "mimetype": "text/x-python",
   "name": "python",
   "nbconvert_exporter": "python",
   "pygments_lexer": "ipython3",
   "version": "3.6.3"
  }
 },
 "nbformat": 4,
 "nbformat_minor": 2
}
