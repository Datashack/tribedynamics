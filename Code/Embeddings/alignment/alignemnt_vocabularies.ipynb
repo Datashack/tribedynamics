{
 "cells": [
  {
   "cell_type": "markdown",
   "metadata": {},
   "source": [
    "## Languages Alignment"
   ]
  },
  {
   "cell_type": "code",
   "execution_count": 5,
   "metadata": {},
   "outputs": [],
   "source": [
    "#import libraries\n",
    "import numpy as np\n",
    "import pandas as pd\n",
    "import random\n",
    "import gensim\n",
    "from gensim.models import KeyedVectors\n",
    "from sklearn.neighbors import NearestNeighbors\n",
    "import matplotlib.pyplot as plt\n",
    "%matplotlib inline"
   ]
  },
  {
   "cell_type": "markdown",
   "metadata": {},
   "source": [
    "### Read Vocabularies and Subset Bilingual Vocabularies\n",
    "##### Big Files: do not run this it would take a while. "
   ]
  },
  {
   "cell_type": "code",
   "execution_count": 2,
   "metadata": {
    "collapsed": true
   },
   "outputs": [],
   "source": [
    "# read source vocabulary (English)\n",
    "source_vocabulary = KeyedVectors.load_word2vec_format('fastText/wiki.en.vec')"
   ]
  },
  {
   "cell_type": "code",
   "execution_count": 3,
   "metadata": {
    "collapsed": true
   },
   "outputs": [],
   "source": [
    "# read additional target vocabularies (Italian)\n",
    "target_vocabulary = KeyedVectors.load_word2vec_format('fastText/wiki.it.vec')"
   ]
  },
  {
   "cell_type": "code",
   "execution_count": 4,
   "metadata": {
    "collapsed": true
   },
   "outputs": [],
   "source": [
    "# read additional target vocabularies (Portuguese)\n",
    "target_vocabulary_1 = KeyedVectors.load_word2vec_format('fastText/wiki.pt.vec')"
   ]
  },
  {
   "cell_type": "code",
   "execution_count": null,
   "metadata": {
    "collapsed": true
   },
   "outputs": [],
   "source": [
    "# read additional target vocabularies (Russian)\n",
    "target_vocabulary_2 = KeyedVectors.load_word2vec_format('fastText/wiki.ru.vec')"
   ]
  },
  {
   "cell_type": "code",
   "execution_count": null,
   "metadata": {
    "collapsed": true
   },
   "outputs": [],
   "source": [
    "# read additional target vocabularies (Japanese)\n",
    "target_vocabulary_3 = KeyedVectors.load_word2vec_format('fastText/wiki.ja.vec')"
   ]
  },
  {
   "cell_type": "code",
   "execution_count": null,
   "metadata": {
    "collapsed": true
   },
   "outputs": [],
   "source": [
    "# read additional target vocabularies (Chinese)\n",
    "target_vocabulary_4 = KeyedVectors.load_word2vec_format('fastText/wiki.zh.vec')"
   ]
  },
  {
   "cell_type": "markdown",
   "metadata": {},
   "source": [
    "##### Customized_Embeddings"
   ]
  },
  {
   "cell_type": "code",
   "execution_count": 2,
   "metadata": {
    "collapsed": true
   },
   "outputs": [],
   "source": [
    "# read additional source vocabularies (trained_embeddings)\n",
    "source_vocabulary_embeddings = KeyedVectors.load_word2vec_format('fastText/embeddings_vec_format/en_embeddings.vec')"
   ]
  },
  {
   "cell_type": "code",
   "execution_count": 9,
   "metadata": {
    "collapsed": true
   },
   "outputs": [],
   "source": [
    "# read additional target vocabularies (trained_embeddings)\n",
    "target_vocabulary_embeddings = KeyedVectors.load_word2vec_format('fastText/embeddings_vec_format/it_embeddings.vec')"
   ]
  },
  {
   "cell_type": "code",
   "execution_count": 15,
   "metadata": {},
   "outputs": [
    {
     "name": "stdout",
     "output_type": "stream",
     "text": [
      "Number of Tokens in English: 192839\n",
      "Dimension of a word vector english embeddings: 300\n",
      "Number of Tokens in Italian: 271571\n",
      "Dimension of a word vector italian embeddings: 300\n"
     ]
    }
   ],
   "source": [
    "# Getting the tokens \n",
    "words_eng = []\n",
    "for word_eng in source_vocabulary_embeddings.vocab:\n",
    "    words_eng.append(word_eng)\n",
    "\n",
    "# Printing out number of tokens available\n",
    "print(\"Number of Tokens in English: {}\".format(len(words_eng)))\n",
    "\n",
    "# Printing out the dimension of a word vector \n",
    "print(\"Dimension of a word vector english embeddings: {}\".format(len(source_vocabulary_embeddings[words[0]])))\n",
    "\n",
    "words_it = []\n",
    "for word_it in target_vocabulary_embeddings.vocab:\n",
    "    words_it.append(word_it)\n",
    "\n",
    "# Printing out number of tokens available\n",
    "print(\"Number of Tokens in Italian: {}\".format(len(words_it)))\n",
    "\n",
    "# Printing out the dimension of a word vector \n",
    "print(\"Dimension of a word vector italian embeddings: {}\".format(len(target_vocabulary_embeddings[words[0]])))"
   ]
  },
  {
   "cell_type": "code",
   "execution_count": 16,
   "metadata": {},
   "outputs": [
    {
     "name": "stdout",
     "output_type": "stream",
     "text": [
      "3140\n",
      "4487\n"
     ]
    }
   ],
   "source": [
    "# Dictionary to Index by Word\n",
    "# EN embeddings\n",
    "word_to_index_en = {}\n",
    "i=0\n",
    "for word, _ in source_vocabulary_embeddings.vocab.items():\n",
    "    word_to_index_en[word] = i\n",
    "    i=i+1\n",
    "    \n",
    "print(word_to_index_eng['window'])\n",
    "\n",
    "# IT embeddings\n",
    "word_to_index_it = {}\n",
    "i=0\n",
    "for word, _ in target_vocabulary_embeddings.vocab.items():\n",
    "    word_to_index_it[word] = i\n",
    "    i=i+1\n",
    "    \n",
    "print(word_to_index_it['finestra'])"
   ]
  },
  {
   "cell_type": "code",
   "execution_count": 7,
   "metadata": {
    "collapsed": true
   },
   "outputs": [],
   "source": [
    "def toy_data(source_vocabulary, target_vocabulary, n_words):\n",
    "    \"\"\"Function to extract bilingual vocabulary from source and target vocabularies. It returns two dictionaries (i.e. source and target languages) with same keys.\"\"\"\n",
    "\n",
    "    #create a dictionary of overlapping words\n",
    "    source_words = set(source_vocabulary.index2word)\n",
    "    target_words = set(target_vocabulary.index2word)\n",
    "    overlap = list(source_words & target_words)\n",
    "    bilingual_vocabulary = [(entry, entry) for entry in overlap]\n",
    "    \n",
    "    #select a random number of words from the bilingual dictionary\n",
    "    pair_words = random.sample(bilingual_vocabulary, n_words)\n",
    "    toy_words = [tup[0] for tup in pair_words]\n",
    "    \n",
    "    #store vector for each word in two dictionaries (source and target)\n",
    "    source_dictionary = dict()\n",
    "    target_dictionary = dict()\n",
    "    for word in toy_words:\n",
    "        source_dictionary[word] = source_vocabulary.get_vector(str(word))\n",
    "        target_dictionary[word] = target_vocabulary.get_vector(str(word))\n",
    "    \n",
    "    return source_dictionary, target_dictionary"
   ]
  },
  {
   "cell_type": "code",
   "execution_count": 43,
   "metadata": {
    "collapsed": true
   },
   "outputs": [],
   "source": [
    "# generate toy data eng_pt\n",
    "source_dictionary, target_dictionary = toy_data( source_vocabulary_embeddings, target_vocabulary_embeddings, 20000)"
   ]
  },
  {
   "cell_type": "code",
   "execution_count": 44,
   "metadata": {},
   "outputs": [
    {
     "data": {
      "text/plain": [
       "True"
      ]
     },
     "execution_count": 44,
     "metadata": {},
     "output_type": "execute_result"
    }
   ],
   "source": [
    "# check lenght\n",
    "len(source_dictionary.keys()) == len(target_dictionary.keys())"
   ]
  },
  {
   "cell_type": "code",
   "execution_count": 45,
   "metadata": {},
   "outputs": [
    {
     "data": {
      "text/plain": [
       "20000"
      ]
     },
     "execution_count": 45,
     "metadata": {},
     "output_type": "execute_result"
    }
   ],
   "source": [
    "len(source_dictionary.items())"
   ]
  },
  {
   "cell_type": "markdown",
   "metadata": {},
   "source": [
    "### Save and Load Data"
   ]
  },
  {
   "cell_type": "code",
   "execution_count": 74,
   "metadata": {
    "collapsed": true
   },
   "outputs": [],
   "source": [
    "# do not run if not needed\n",
    "# Save to file\n",
    "np.save('toy_data_eng-pt_100000.npy', source_dictionary)\n",
    "np.save('toy_data_pt-eng_100000.npy', target_dictionary)"
   ]
  },
  {
   "cell_type": "code",
   "execution_count": 28,
   "metadata": {},
   "outputs": [
    {
     "data": {
      "text/plain": [
       "True"
      ]
     },
     "execution_count": 28,
     "metadata": {},
     "output_type": "execute_result"
    }
   ],
   "source": [
    "# Read from file\n",
    "dictionary_eng_it = np.load('toy_data/toy_data_eng-it_20000.npy').item()\n",
    "dictionary_it_eng = np.load('toy_data/toy_data_it-eng_20000.npy').item()\n",
    "#check if the words are the same in the two vocabulary\n",
    "dictionary_eng_it.keys() == dictionary_it_eng.keys()"
   ]
  },
  {
   "cell_type": "markdown",
   "metadata": {},
   "source": [
    "### Split Train and Test Data"
   ]
  },
  {
   "cell_type": "code",
   "execution_count": 29,
   "metadata": {},
   "outputs": [],
   "source": [
    "def split_toy_data_train_test(source_dictionary, target_dictionary, ratio_train_test):\n",
    "    \"\"\"Function to split source and target dictionaries in train and test. It returns train and test matrices for both source and target languages.\"\"\"\n",
    "    #prepare the matrix\n",
    "    source_matrix = list(source_dictionary.values())\n",
    "    target_matrix = list(target_dictionary.values())\n",
    "    \n",
    "    #select split ratio and random indices\n",
    "    indices = np.random.permutation(len(source_matrix))\n",
    "    ratio_train_test = ratio_train_test\n",
    "    split_range = int(len(source_matrix) * ratio_train_test)\n",
    "    training_idx, test_idx = indices[:split_range], indices[split_range :]\n",
    "\n",
    "    #select by indices train and test for source and target dictionaries\n",
    "    source_train = np.array([source_matrix [i] for i in training_idx])\n",
    "    source_test = np.array([source_matrix[i] for i in test_idx])\n",
    "    target_train = np.array([target_matrix[i] for i in training_idx])\n",
    "    target_test = np.array([target_matrix[i] for i in test_idx])\n",
    "    \n",
    "    return source_train, source_test, target_train, target_test"
   ]
  },
  {
   "cell_type": "code",
   "execution_count": 30,
   "metadata": {},
   "outputs": [],
   "source": [
    "source_train, source_test, target_train, target_test = split_toy_data_train_test(dictionary_eng_it, dictionary_it_eng, 0.7)"
   ]
  },
  {
   "cell_type": "code",
   "execution_count": 31,
   "metadata": {},
   "outputs": [
    {
     "name": "stdout",
     "output_type": "stream",
     "text": [
      "(14000, 300) (6000, 300) (14000, 300) (6000, 300)\n"
     ]
    }
   ],
   "source": [
    "print(source_train.shape, source_test.shape, target_train.shape, target_test.shape)"
   ]
  },
  {
   "cell_type": "markdown",
   "metadata": {},
   "source": [
    "### Learn Transformation to Align Languages"
   ]
  },
  {
   "cell_type": "code",
   "execution_count": 32,
   "metadata": {},
   "outputs": [],
   "source": [
    "def normalized(a, axis=-1, order=2):\n",
    "    \"\"\"Utility function to normalize the rows of a numpy array.\"\"\"\n",
    "    l2 = np.atleast_1d(np.linalg.norm(a, order, axis))\n",
    "    l2[l2==0] = 1\n",
    "    return a / np.expand_dims(l2, axis)"
   ]
  },
  {
   "cell_type": "code",
   "execution_count": 33,
   "metadata": {},
   "outputs": [],
   "source": [
    "def learn_transformation(source_matrix, target_matrix, normalize_vectors=True):\n",
    "    \"\"\"\n",
    "    Source and target matrices are numpy arrays, shape\n",
    "    (dictionary_length, embedding_dimension). These contain paired\n",
    "    word vectors from the bilingual dictionary.\n",
    "    \"\"\"\n",
    "    # optionally normalize the training vectors\n",
    "    if normalize_vectors:\n",
    "        source_matrix = normalized(source_matrix)\n",
    "        target_matrix = normalized(target_matrix)\n",
    "\n",
    "    # perform the SVD\n",
    "    product = np.matmul(source_matrix.transpose(), target_matrix)\n",
    "    U, s, V = np.linalg.svd(product)\n",
    "\n",
    "    # return orthogonal transformation which aligns source language to the target\n",
    "    return np.matmul(U, V)"
   ]
  },
  {
   "cell_type": "code",
   "execution_count": 34,
   "metadata": {},
   "outputs": [],
   "source": [
    "def apply_transform(transformation, source_test):\n",
    "    \"\"\" Apply the given transformation to the vector space. \n",
    "    It returns predictions given transformations with embeddings E: E = E * transform \"\"\"\n",
    "    return np.matmul(source_test, transformation)"
   ]
  },
  {
   "cell_type": "code",
   "execution_count": 35,
   "metadata": {},
   "outputs": [],
   "source": [
    "# learn the transformation\n",
    "transformation = learn_transformation(source_train, target_train, normalize_vectors = True)\n",
    "# apply transformation on the test of the source language\n",
    "source_transformed = apply_transform(transformation, source_test)"
   ]
  },
  {
   "cell_type": "markdown",
   "metadata": {},
   "source": [
    "### Evaluate Transformation"
   ]
  },
  {
   "cell_type": "code",
   "execution_count": 36,
   "metadata": {},
   "outputs": [
    {
     "data": {
      "text/plain": [
       "6000"
      ]
     },
     "execution_count": 36,
     "metadata": {},
     "output_type": "execute_result"
    }
   ],
   "source": [
    "source_transformed.shape[0]"
   ]
  },
  {
   "cell_type": "code",
   "execution_count": 37,
   "metadata": {},
   "outputs": [],
   "source": [
    "def cosine_similarity(vec_a, vec_b):\n",
    "    \"\"\"Compute cosine similarity between vec_a and vec_b\"\"\"\n",
    "    return np.dot(vec_a, vec_b) / \\\n",
    "        (np.linalg.norm(vec_a) * np.linalg.norm(vec_b))"
   ]
  },
  {
   "cell_type": "code",
   "execution_count": 38,
   "metadata": {},
   "outputs": [],
   "source": [
    "def evaluate_proximity(source_transformed, target_test, close_neighbors, metric):\n",
    "    \"\"\"Compute accuracy, cosine similarity and euclidian distance between the closest transformed vectors.\n",
    "    INPUT:\n",
    "    close_neighbors: choose number of neighbors\n",
    "    metric: 'euclidian' or 'cosine' to compute kNN neighbors\n",
    "    source_tranformed: test set of the source language after transformation\n",
    "    target_test: test set of the target language\n",
    "    \n",
    "    OUTPUT:\n",
    "    accuracy: percentage of matching words, within k neighbors, between source and target language after the alignment\n",
    "    cosine_similarity: angolar distance among matching words\n",
    "    l2_norm_distance: euclidian distance among matching words\"\"\"\n",
    "\n",
    "    distance_embeddings = []\n",
    "    accuracy = []\n",
    "    similarity = []\n",
    "    distance = []\n",
    "\n",
    "    #fit model to find the closest vectors to tranformed one\n",
    "    neighbors = NearestNeighbors(n_neighbors = close_neighbors, metric = metric)\n",
    "    neighbors.fit(target_test)\n",
    "\n",
    "    for i in range(0,source_transformed.shape[0]):\n",
    "        index_transformed = i\n",
    "        #distance between two vocabularies\n",
    "        distance_embeddings.append(np.linalg.norm(source_transformed[i] - target_test[i]))\n",
    "        #find vectors in the target vocabulary\n",
    "        idx_neighbors_target = ((neighbors.kneighbors(source_transformed[index_transformed,:].reshape(1, -1)))[1][0]).tolist()\n",
    "        #evaluate proximity among target and transformed vectors\n",
    "        if index_transformed in idx_neighbors_target:\n",
    "            accuracy.append('True')\n",
    "            similarity.append(cosine_similarity(source_transformed[index_transformed], target_test[index_transformed]))\n",
    "            distance.append(np.linalg.norm(source_transformed[index_transformed] - target_test[index_transformed]))\n",
    "        else:\n",
    "            accuracy.append('False')\n",
    "\n",
    "    return [np.mean(distance_embeddings), round(accuracy.count('True')/len(accuracy)*100,2), np.mean(similarity), np.mean(distance)]"
   ]
  },
  {
   "cell_type": "code",
   "execution_count": 39,
   "metadata": {},
   "outputs": [],
   "source": [
    "def evaluate(source_test, source_transformed, target_test):\n",
    "    \"\"\"Evalaute alignment comparing the source vocabulary and its transformed version with the target vocabulary.\n",
    "    INPUT:\n",
    "    source_test: vocabulary of the source language\n",
    "    source_transformed: test set of the source language after transformation\n",
    "    target_test: test set of the target language\n",
    "    \n",
    "    OUTPUT:\n",
    "    dictionaries evaluating the alignment with different metrics\"\"\"\n",
    "    \n",
    "    sources = [source_test, source_transformed]\n",
    "    metrics = ['cosine', 'euclidean']\n",
    "    neighbors = [1,5,10]\n",
    "    evaluation_before_cosine = dict()\n",
    "    evaluation_before_euclidean = dict()\n",
    "    evaluation_after_cosine = dict()\n",
    "    evaluation_after_euclidean = dict()\n",
    "\n",
    "    for source in sources:\n",
    "        if source[0][0] == source_test[0][0]:\n",
    "            for metric in metrics:\n",
    "                if metric == 'cosine':\n",
    "                    for neighbor in neighbors:\n",
    "                        evaluation_before_cosine[neighbor] = evaluate_proximity(source_test, target_test, neighbor, 'cosine')\n",
    "\n",
    "                else:\n",
    "                    for neighbor in neighbors:\n",
    "                        evaluation_before_euclidean[neighbor] = evaluate_proximity(source_test, target_test, neighbor, 'euclidean')\n",
    "\n",
    "        else:\n",
    "            for metric in metrics:\n",
    "                if metric == 'cosine':\n",
    "                    for neighbor in neighbors:\n",
    "                        evaluation_after_cosine[neighbor] = evaluate_proximity(source_transformed, target_test, neighbor, 'cosine')\n",
    "\n",
    "                else:\n",
    "                    for neighbor in neighbors:\n",
    "                        evaluation_after_euclidean[neighbor] = evaluate_proximity(source_transformed, target_test, neighbor, 'euclidean') \n",
    "\n",
    "    return evaluation_before_cosine, evaluation_before_euclidean, evaluation_after_cosine, evaluation_after_euclidean"
   ]
  },
  {
   "cell_type": "code",
   "execution_count": 40,
   "metadata": {},
   "outputs": [],
   "source": [
    "#evaluate alignment source target\n",
    "evaluation_before_cosine, evaluation_before_euclidean, evaluation_after_cosine, evaluation_after_euclidean = evaluate(source_test, source_transformed, target_test)"
   ]
  },
  {
   "cell_type": "code",
   "execution_count": 41,
   "metadata": {},
   "outputs": [
    {
     "data": {
      "text/html": [
       "<div>\n",
       "<style scoped>\n",
       "    .dataframe tbody tr th:only-of-type {\n",
       "        vertical-align: middle;\n",
       "    }\n",
       "\n",
       "    .dataframe tbody tr th {\n",
       "        vertical-align: top;\n",
       "    }\n",
       "\n",
       "    .dataframe thead tr th {\n",
       "        text-align: left;\n",
       "    }\n",
       "</style>\n",
       "<table border=\"1\" class=\"dataframe\">\n",
       "  <thead>\n",
       "    <tr>\n",
       "      <th></th>\n",
       "      <th colspan=\"4\" halign=\"left\">K@1</th>\n",
       "      <th colspan=\"4\" halign=\"left\">K@5</th>\n",
       "      <th colspan=\"4\" halign=\"left\">K@10</th>\n",
       "    </tr>\n",
       "    <tr>\n",
       "      <th></th>\n",
       "      <th colspan=\"2\" halign=\"left\">COSINE</th>\n",
       "      <th colspan=\"2\" halign=\"left\">EUCLIDEAN</th>\n",
       "      <th colspan=\"2\" halign=\"left\">COSINE</th>\n",
       "      <th colspan=\"2\" halign=\"left\">EUCLIDEAN</th>\n",
       "      <th colspan=\"2\" halign=\"left\">COSINE</th>\n",
       "      <th colspan=\"2\" halign=\"left\">EUCLIDEAN</th>\n",
       "    </tr>\n",
       "    <tr>\n",
       "      <th></th>\n",
       "      <th>non_tranformed</th>\n",
       "      <th>tranformed</th>\n",
       "      <th>non_tranformed</th>\n",
       "      <th>tranformed</th>\n",
       "      <th>non_tranformed</th>\n",
       "      <th>tranformed</th>\n",
       "      <th>non_tranformed</th>\n",
       "      <th>tranformed</th>\n",
       "      <th>non_tranformed</th>\n",
       "      <th>tranformed</th>\n",
       "      <th>non_tranformed</th>\n",
       "      <th>tranformed</th>\n",
       "    </tr>\n",
       "  </thead>\n",
       "  <tbody>\n",
       "    <tr>\n",
       "      <th>distance_embeddings</th>\n",
       "      <td>6.895148</td>\n",
       "      <td>4.370014</td>\n",
       "      <td>6.895148</td>\n",
       "      <td>4.370014</td>\n",
       "      <td>6.895148</td>\n",
       "      <td>4.370014</td>\n",
       "      <td>6.895148</td>\n",
       "      <td>4.370014</td>\n",
       "      <td>6.895148</td>\n",
       "      <td>4.370014</td>\n",
       "      <td>6.895148</td>\n",
       "      <td>4.370014</td>\n",
       "    </tr>\n",
       "    <tr>\n",
       "      <th>accuracy</th>\n",
       "      <td>0.020000</td>\n",
       "      <td>70.050000</td>\n",
       "      <td>0.020000</td>\n",
       "      <td>54.050000</td>\n",
       "      <td>0.030000</td>\n",
       "      <td>84.780000</td>\n",
       "      <td>0.050000</td>\n",
       "      <td>71.830000</td>\n",
       "      <td>0.070000</td>\n",
       "      <td>88.930000</td>\n",
       "      <td>0.150000</td>\n",
       "      <td>77.350000</td>\n",
       "    </tr>\n",
       "    <tr>\n",
       "      <th>cosine_similarity</th>\n",
       "      <td>0.190715</td>\n",
       "      <td>0.632021</td>\n",
       "      <td>0.037241</td>\n",
       "      <td>0.654417</td>\n",
       "      <td>0.183965</td>\n",
       "      <td>0.619390</td>\n",
       "      <td>0.050635</td>\n",
       "      <td>0.638615</td>\n",
       "      <td>0.167555</td>\n",
       "      <td>0.614928</td>\n",
       "      <td>0.055580</td>\n",
       "      <td>0.632310</td>\n",
       "    </tr>\n",
       "    <tr>\n",
       "      <th>euclidean_distance</th>\n",
       "      <td>10.064729</td>\n",
       "      <td>4.199367</td>\n",
       "      <td>6.245696</td>\n",
       "      <td>4.040536</td>\n",
       "      <td>10.795370</td>\n",
       "      <td>4.258653</td>\n",
       "      <td>5.576248</td>\n",
       "      <td>4.140090</td>\n",
       "      <td>8.608481</td>\n",
       "      <td>4.282681</td>\n",
       "      <td>5.043834</td>\n",
       "      <td>4.177677</td>\n",
       "    </tr>\n",
       "  </tbody>\n",
       "</table>\n",
       "</div>"
      ],
      "text/plain": [
       "                               K@1                                       \\\n",
       "                            COSINE                 EUCLIDEAN              \n",
       "                    non_tranformed tranformed non_tranformed tranformed   \n",
       "distance_embeddings       6.895148   4.370014       6.895148   4.370014   \n",
       "accuracy                  0.020000  70.050000       0.020000  54.050000   \n",
       "cosine_similarity         0.190715   0.632021       0.037241   0.654417   \n",
       "euclidean_distance       10.064729   4.199367       6.245696   4.040536   \n",
       "\n",
       "                               K@5                                       \\\n",
       "                            COSINE                 EUCLIDEAN              \n",
       "                    non_tranformed tranformed non_tranformed tranformed   \n",
       "distance_embeddings       6.895148   4.370014       6.895148   4.370014   \n",
       "accuracy                  0.030000  84.780000       0.050000  71.830000   \n",
       "cosine_similarity         0.183965   0.619390       0.050635   0.638615   \n",
       "euclidean_distance       10.795370   4.258653       5.576248   4.140090   \n",
       "\n",
       "                              K@10                                       \n",
       "                            COSINE                 EUCLIDEAN             \n",
       "                    non_tranformed tranformed non_tranformed tranformed  \n",
       "distance_embeddings       6.895148   4.370014       6.895148   4.370014  \n",
       "accuracy                  0.070000  88.930000       0.150000  77.350000  \n",
       "cosine_similarity         0.167555   0.614928       0.055580   0.632310  \n",
       "euclidean_distance        8.608481   4.282681       5.043834   4.177677  "
      ]
     },
     "execution_count": 41,
     "metadata": {},
     "output_type": "execute_result"
    }
   ],
   "source": [
    "#set alignment evaluation table\n",
    "index = ['distance_embeddings', 'accuracy', 'cosine_similarity', 'euclidean_distance']\n",
    "\n",
    "#dump evaluation within dataframe\n",
    "df_eng_it = pd.DataFrame({'a': list(evaluation_before_cosine[1]),\n",
    "                          'b': list(evaluation_after_cosine[1]),\n",
    "                          'c': list(evaluation_before_euclidean[1]),\n",
    "                          'd': list(evaluation_after_euclidean[1]),\n",
    "                          \n",
    "                          'e': list(evaluation_before_cosine[5]),\n",
    "                          'f': list(evaluation_after_cosine[5]),\n",
    "                          'g': list(evaluation_before_euclidean[5]),\n",
    "                          'h': list(evaluation_after_euclidean[5]),\n",
    "          \n",
    "                          'i': list(evaluation_before_cosine[10]),\n",
    "                          'l': list(evaluation_after_cosine[10]),\n",
    "                          'm': list(evaluation_before_euclidean[10]),\n",
    "                          'n': list(evaluation_after_euclidean[10])}, index=index)\n",
    "\n",
    "#assign multilevel temporary columns name\n",
    "columns=[('K@1','COSINE', 'a'),  ('K@1','COSINE', 'b'), ('K@1','EUCLIDEAN', 'c'),  ('K@1','EUCLIDEAN', 'd'),\n",
    "   ('K@5','COSINE', 'e'),  ('K@5','COSINE', 'f'), ('K@5','EUCLIDEAN', 'g'),  ('K@5','EUCLIDEAN', 'h'),\n",
    "    ('K@10','COSINE', 'i'),  ('K@10','COSINE', 'l'), ('K@10','EUCLIDEAN', 'm'),  ('K@10','EUCLIDEAN', 'n')]\n",
    "\n",
    "#make multindex\n",
    "df_eng_it.columns= pd.MultiIndex.from_tuples(columns)\n",
    "\n",
    "#change columns names\n",
    "change_columns_name = ['non_tranformed','tranformed','non_tranformed','tranformed', 'non_tranformed','tranformed','non_tranformed','tranformed', 'non_tranformed','tranformed','non_tranformed','tranformed']\n",
    "df_eng_it.columns.set_levels(change_columns_name,level=2,inplace=True)\n",
    "df_eng_it"
   ]
  },
  {
   "cell_type": "code",
   "execution_count": 52,
   "metadata": {
    "collapsed": true
   },
   "outputs": [],
   "source": [
    "#do not run if not needed\n",
    "#save evaluation table to csv\n",
    "df_eng_it.to_csv('evaluation_embedding_it_eng_30k.csv')"
   ]
  },
  {
   "cell_type": "code",
   "execution_count": 32,
   "metadata": {},
   "outputs": [
    {
     "name": "stderr",
     "output_type": "stream",
     "text": [
      "C:\\Users\\popor\\AppData\\Local\\Continuum\\anaconda3\\envs\\python3\\lib\\site-packages\\pandas\\io\\parsers.py:813: FutureWarning: The 'tupleize_cols' argument has been deprecated and will be removed in a future version. Column tuples will then always be converted to MultiIndex.\n",
      "\n",
      "\n",
      "  self.options, self.engine = self._clean_options(options, engine)\n"
     ]
    },
    {
     "data": {
      "text/html": [
       "<div>\n",
       "<style scoped>\n",
       "    .dataframe tbody tr th:only-of-type {\n",
       "        vertical-align: middle;\n",
       "    }\n",
       "\n",
       "    .dataframe tbody tr th {\n",
       "        vertical-align: top;\n",
       "    }\n",
       "\n",
       "    .dataframe thead tr th {\n",
       "        text-align: left;\n",
       "    }\n",
       "</style>\n",
       "<table border=\"1\" class=\"dataframe\">\n",
       "  <thead>\n",
       "    <tr>\n",
       "      <th></th>\n",
       "      <th>Unnamed: 0_level_0</th>\n",
       "      <th colspan=\"4\" halign=\"left\">K@1</th>\n",
       "      <th colspan=\"4\" halign=\"left\">K@5</th>\n",
       "      <th colspan=\"4\" halign=\"left\">K@10</th>\n",
       "    </tr>\n",
       "    <tr>\n",
       "      <th></th>\n",
       "      <th>Unnamed: 0_level_1</th>\n",
       "      <th colspan=\"2\" halign=\"left\">COSINE</th>\n",
       "      <th colspan=\"2\" halign=\"left\">EUCLIDEAN</th>\n",
       "      <th colspan=\"2\" halign=\"left\">COSINE</th>\n",
       "      <th colspan=\"2\" halign=\"left\">EUCLIDEAN</th>\n",
       "      <th colspan=\"2\" halign=\"left\">COSINE</th>\n",
       "      <th colspan=\"2\" halign=\"left\">EUCLIDEAN</th>\n",
       "    </tr>\n",
       "    <tr>\n",
       "      <th></th>\n",
       "      <th>Unnamed: 0_level_2</th>\n",
       "      <th>non_tranformed</th>\n",
       "      <th>tranformed</th>\n",
       "      <th>non_tranformed</th>\n",
       "      <th>tranformed</th>\n",
       "      <th>non_tranformed</th>\n",
       "      <th>tranformed</th>\n",
       "      <th>non_tranformed</th>\n",
       "      <th>tranformed</th>\n",
       "      <th>non_tranformed</th>\n",
       "      <th>tranformed</th>\n",
       "      <th>non_tranformed</th>\n",
       "      <th>tranformed</th>\n",
       "    </tr>\n",
       "  </thead>\n",
       "  <tbody>\n",
       "    <tr>\n",
       "      <th>0</th>\n",
       "      <td>distance_embeddings</td>\n",
       "      <td>6.960269</td>\n",
       "      <td>4.465349</td>\n",
       "      <td>6.960269</td>\n",
       "      <td>4.465349</td>\n",
       "      <td>6.960269</td>\n",
       "      <td>4.465349</td>\n",
       "      <td>6.960269</td>\n",
       "      <td>4.465349</td>\n",
       "      <td>6.960269</td>\n",
       "      <td>4.465349</td>\n",
       "      <td>6.960269</td>\n",
       "      <td>4.465349</td>\n",
       "    </tr>\n",
       "    <tr>\n",
       "      <th>1</th>\n",
       "      <td>accuracy</td>\n",
       "      <td>0.030000</td>\n",
       "      <td>60.530000</td>\n",
       "      <td>0.020000</td>\n",
       "      <td>47.520000</td>\n",
       "      <td>0.120000</td>\n",
       "      <td>79.030000</td>\n",
       "      <td>0.120000</td>\n",
       "      <td>65.220000</td>\n",
       "      <td>0.130000</td>\n",
       "      <td>84.550000</td>\n",
       "      <td>0.180000</td>\n",
       "      <td>71.100000</td>\n",
       "    </tr>\n",
       "    <tr>\n",
       "      <th>2</th>\n",
       "      <td>cosine_similarity</td>\n",
       "      <td>0.192468</td>\n",
       "      <td>0.624186</td>\n",
       "      <td>0.030515</td>\n",
       "      <td>0.646520</td>\n",
       "      <td>0.171238</td>\n",
       "      <td>0.610093</td>\n",
       "      <td>0.040887</td>\n",
       "      <td>0.631336</td>\n",
       "      <td>0.162262</td>\n",
       "      <td>0.604449</td>\n",
       "      <td>0.038368</td>\n",
       "      <td>0.624230</td>\n",
       "    </tr>\n",
       "    <tr>\n",
       "      <th>3</th>\n",
       "      <td>euclidean_distance</td>\n",
       "      <td>6.542164</td>\n",
       "      <td>4.264180</td>\n",
       "      <td>4.454175</td>\n",
       "      <td>4.115014</td>\n",
       "      <td>6.249800</td>\n",
       "      <td>4.330600</td>\n",
       "      <td>5.378512</td>\n",
       "      <td>4.198347</td>\n",
       "      <td>6.335183</td>\n",
       "      <td>4.354204</td>\n",
       "      <td>5.200187</td>\n",
       "      <td>4.235862</td>\n",
       "    </tr>\n",
       "  </tbody>\n",
       "</table>\n",
       "</div>"
      ],
      "text/plain": [
       "    Unnamed: 0_level_0            K@1                                       \\\n",
       "    Unnamed: 0_level_1         COSINE                 EUCLIDEAN              \n",
       "    Unnamed: 0_level_2 non_tranformed tranformed non_tranformed tranformed   \n",
       "0  distance_embeddings       6.960269   4.465349       6.960269   4.465349   \n",
       "1             accuracy       0.030000  60.530000       0.020000  47.520000   \n",
       "2    cosine_similarity       0.192468   0.624186       0.030515   0.646520   \n",
       "3   euclidean_distance       6.542164   4.264180       4.454175   4.115014   \n",
       "\n",
       "             K@5                                                K@10  \\\n",
       "          COSINE                 EUCLIDEAN                    COSINE   \n",
       "  non_tranformed tranformed non_tranformed tranformed non_tranformed   \n",
       "0       6.960269   4.465349       6.960269   4.465349       6.960269   \n",
       "1       0.120000  79.030000       0.120000  65.220000       0.130000   \n",
       "2       0.171238   0.610093       0.040887   0.631336       0.162262   \n",
       "3       6.249800   4.330600       5.378512   4.198347       6.335183   \n",
       "\n",
       "                                        \n",
       "                  EUCLIDEAN             \n",
       "  tranformed non_tranformed tranformed  \n",
       "0   4.465349       6.960269   4.465349  \n",
       "1  84.550000       0.180000  71.100000  \n",
       "2   0.604449       0.038368   0.624230  \n",
       "3   4.354204       5.200187   4.235862  "
      ]
     },
     "execution_count": 32,
     "metadata": {},
     "output_type": "execute_result"
    }
   ],
   "source": [
    "#read evaluation\n",
    "df = pd.read_csv('evaluation_eng_pt_20k.csv', header=[0,1,2], tupleize_cols=True)\n",
    "df.columns = pd.MultiIndex.from_tuples(df.columns)\n",
    "df.reset_index(drop=True)"
   ]
  },
  {
   "cell_type": "code",
   "execution_count": 20,
   "metadata": {},
   "outputs": [],
   "source": [
    "def evaluate_rotation(source_test, source_transformed, target_test):\n",
    "    \"\"\"Evalaute rotation comparing: 1) the source vocabulary and its transformed version;\n",
    "                                    2) source vocabulary transformed and the target vocabulary;\n",
    "                                    3) source and target vocabularies;\n",
    "    INPUT:\n",
    "    source_test: vocabulary of the source language\n",
    "    source_transformed: test set of the source language after transformation\n",
    "    target_test: test set of the target language\n",
    "    \n",
    "    OUTPUT:\n",
    "    euclidian distance and cosine similarity for each rotation comparison\"\"\"\n",
    "\n",
    "    distance_source_target = []\n",
    "    distance_source_transformed = []\n",
    "    distance_transformed_target = []\n",
    "    similarity_source_target = []\n",
    "    similarity_source_transformed = []\n",
    "    similarity_transformed_target = []\n",
    "\n",
    "    for i in range(0,source_test.shape[0]):\n",
    "        distance_source_target.append(np.linalg.norm(source_test[i] - target_test[i]))\n",
    "        distance_source_transformed.append(np.linalg.norm(source_test[i] - source_transformed[i]))\n",
    "        distance_transformed_target.append(np.linalg.norm(source_transformed[i] - target_test[i]))\n",
    "\n",
    "        similarity_source_target.append(cosine_similarity(target_test[i],source_test[i]))\n",
    "        similarity_source_transformed.append(cosine_similarity(source_test[i], source_transformed[i]))\n",
    "        similarity_transformed_target.append(cosine_similarity(source_transformed[i], target_test[i]))\n",
    "\n",
    "    return distance_source_target, distance_source_transformed, distance_transformed_target, similarity_source_target, similarity_source_transformed, similarity_transformed_target"
   ]
  },
  {
   "cell_type": "code",
   "execution_count": 21,
   "metadata": {},
   "outputs": [],
   "source": [
    "# evalutate rotation\n",
    "distance_source_target, distance_source_transformed, distance_transformed_target, similarity_source_target, similarity_source_transformed, similarity_transformed_target = evaluate_rotation(source_test, source_transformed, target_test)"
   ]
  },
  {
   "cell_type": "code",
   "execution_count": 42,
   "metadata": {},
   "outputs": [],
   "source": [
    "# store output evaluation rotation in a dictionary\n",
    "output_evaluation_rotation = {'distance_source_target':distance_source_target, \n",
    "                              'distance_source_transformed': distance_source_transformed, \n",
    "                              'distance_transformed_target': distance_transformed_target, \n",
    "                              'similarity_source_target': similarity_source_target, \n",
    "                              'similarity_source_transformed': similarity_source_transformed, \n",
    "                              'similarity_transformed_target': similarity_transformed_target}"
   ]
  },
  {
   "cell_type": "code",
   "execution_count": 43,
   "metadata": {},
   "outputs": [],
   "source": [
    "#rememeber first language is the target, second the source\n",
    "# save evaluation results \n",
    "import pickle\n",
    "with open('output_evaluation_rotation_pt_eng', 'wb') as f:\n",
    "    pickle.dump(output_evaluation_rotation, f)"
   ]
  },
  {
   "cell_type": "code",
   "execution_count": 44,
   "metadata": {},
   "outputs": [],
   "source": [
    "# load evaluation results\n",
    "with open('output_evaluation_rotation_eng_pt', 'rb') as f:\n",
    "     data = pickle.load(f)"
   ]
  },
  {
   "cell_type": "code",
   "execution_count": 71,
   "metadata": {},
   "outputs": [
    {
     "data": {
      "text/plain": [
       "dict_keys(['distance_source_target', 'distance_source_transformed', 'distance_transformed_target', 'similarity_source_target', 'similarity_source_transformed', 'similarity_transformed_target'])"
      ]
     },
     "execution_count": 71,
     "metadata": {},
     "output_type": "execute_result"
    }
   ],
   "source": [
    "data.keys()"
   ]
  },
  {
   "cell_type": "code",
   "execution_count": 70,
   "metadata": {},
   "outputs": [
    {
     "data": {
      "image/png": "[encoded data removed]",
      "text/plain": [
       "<Figure size 864x720 with 1 Axes>"
      ]
     },
     "metadata": {},
     "output_type": "display_data"
    }
   ],
   "source": [
    "fig = plt.figure(figsize=(12, 10))\n",
    "main_ax = fig.add_subplot(111)\n",
    "\n",
    "\n",
    "main_ax.hist(distance_source_target, \n",
    "             color = \"lightcoral\", bins=40, alpha=.5, \n",
    "             edgecolor='black', linewidth=1, label='Source to Target')\n",
    "main_ax.hist(distance_transformed_target, \n",
    "             color = \"lightskyblue\", bins=40, alpha=0.6, \n",
    "             edgecolor='black', linewidth=1, label='Transformed to Target')\n",
    "main_ax.axvline(np.mean(distance_source_target)-.05, color='black',alpha=0.7, linestyle='dashed', linewidth=1.5)\n",
    "main_ax.axvline(np.mean(distance_transformed_target), color='black',alpha=0.7, linestyle='dashed', linewidth=1.5)\n",
    "\n",
    "#main_ax.set_xticklabels(fontsize=15)\n",
    "#main_ax.set_yticklabels(fontsize=15)\n",
    "fs = 18\n",
    "\n",
    "plt.xlabel('Euclidean Distance', fontsize=fs)\n",
    "plt.ylabel('Frequency', fontsize=fs)\n",
    "\n",
    "plt.xticks(fontsize=fs)\n",
    "plt.yticks(fontsize=fs)\n",
    "\n",
    "\n",
    "plt.legend(loc='upper right',fontsize=fs)\n",
    "#plt.figlegend(loc = 'upper right', ncol=3, labelspacing=0.5) #bbox_to_anchor=(1.1, 1.05)\n",
    "#plt.suptitle('Euclidean Distance:\\n before and after alignment comparisons\\nEnglish-Italian', fontsize=15)\n",
    "plt.savefig('Euclidean_Distance_word2vec_ENG_IT_Poster.png');"
   ]
  },
  {
   "cell_type": "code",
   "execution_count": 27,
   "metadata": {},
   "outputs": [
    {
     "data": {
      "image/png": "[encoded data removed]",
      "text/plain": [
       "<Figure size 864x720 with 3 Axes>"
      ]
     },
     "metadata": {},
     "output_type": "display_data"
    }
   ],
   "source": [
    "# Plot euclidian distances comparison pt-eng\n",
    "fig = plt.figure(figsize=(12, 10))\n",
    "grid = plt.GridSpec(24, 4, hspace=0.5, wspace=0.5)\n",
    "main_ax = fig.add_subplot(grid[:16, 0:])\n",
    "x1_hist = fig.add_subplot(grid[-7:, :2], sharex=main_ax)\n",
    "x2_hist = fig.add_subplot(grid[-7:, 2:], sharex=main_ax)\n",
    "\n",
    "main_ax.hist(distance_source_target, \n",
    "             color = \"lightcoral\", bins=40, alpha=.5, \n",
    "             edgecolor='black', linewidth=1, label='distance_source_target')\n",
    "main_ax.hist(distance_transformed_target, \n",
    "             color = \"lightskyblue\", bins=40, alpha=0.6, \n",
    "             edgecolor='black', linewidth=1, label='distance_transformed_target')\n",
    "main_ax.axvline(np.mean(distance_source_target)-.05, color='black',alpha=0.7, linestyle='dashed', linewidth=1.5)\n",
    "main_ax.axvline(np.mean(distance_transformed_target), color='black',alpha=0.7, linestyle='dashed', linewidth=1.5)\n",
    "#main_ax.annotate(str(round(np.mean(distance_transformed_target),2)), xy=(2, 820), xytext=(4.55, 815))\n",
    "\n",
    "#ok\n",
    "x1_hist.hist(distance_source_target, \n",
    "             color = \"lightcoral\", bins=40, alpha=0.4, \n",
    "             edgecolor='black', linewidth=.5) #, label='source_target'\n",
    "x1_hist.hist(distance_source_transformed, \n",
    "             color = \"seagreen\", bins=40, alpha=0.5, \n",
    "             edgecolor='black', linewidth=.5, label='distance_source_transformed')\n",
    "x1_hist.axvline(np.mean(distance_source_target), color='black',alpha=0.5, linestyle='dashed', linewidth=1.3)\n",
    "x1_hist.axvline(np.mean(distance_source_transformed), color='black',alpha=0.5, linestyle='dashed', linewidth=1.3)\n",
    "\n",
    "x2_hist.hist(distance_source_transformed, \n",
    "             color = \"seagreen\", bins=40, alpha=0.5,\n",
    "             edgecolor='black', linewidth=.5) #, label='source_transformed'\n",
    "x2_hist.hist(distance_transformed_target, \n",
    "             color = \"lightskyblue\", bins=40, alpha=0.6, \n",
    "             edgecolor='black', linewidth=.5) #, label='transformed_target'\n",
    "x2_hist.axvline(np.mean(distance_source_transformed), color='black',alpha=0.5, linestyle='dashed', linewidth=1.3)\n",
    "x2_hist.axvline(np.mean(distance_transformed_target), color='black',alpha=0.5, linestyle='dashed', linewidth=1.3)\n",
    "\n",
    "plt.figlegend(loc = 'lower center', ncol=3, labelspacing=0.5) #bbox_to_anchor=(1.1, 1.05)\n",
    "plt.suptitle('Euclidean Distance:\\n before and after alignment comparisons\\nEnglish-Italian', fontsize=15)\n",
    "\n",
    "plt.savefig('Euclidean_Distance_Word_Embeddings_word2vec_ENG_IT_30k.png');"
   ]
  },
  {
   "cell_type": "code",
   "execution_count": 24,
   "metadata": {},
   "outputs": [
    {
     "data": {
      "text/plain": [
       "<matplotlib.legend.Legend at 0x2a508873a90>"
      ]
     },
     "execution_count": 24,
     "metadata": {},
     "output_type": "execute_result"
    },
    {
     "data": {
      "image/png": "[encoded data removed]",
      "text/plain": [
       "<Figure size 864x720 with 3 Axes>"
      ]
     },
     "metadata": {},
     "output_type": "display_data"
    }
   ],
   "source": [
    "# Plot euclidian distances comparison eng-pt\n",
    "fig = plt.figure(figsize=(12, 10))\n",
    "grid = plt.GridSpec(24, 4, hspace=0.5, wspace=0.5)\n",
    "main_ax = fig.add_subplot(grid[:16, 0:])\n",
    "x1_hist = fig.add_subplot(grid[-7:, :2], sharex=main_ax)\n",
    "x2_hist = fig.add_subplot(grid[-7:, 2:], sharex=main_ax)\n",
    "\n",
    "main_ax.hist(distance_source_target, \n",
    "             color = \"lightcoral\", bins=40, alpha=.5, \n",
    "             edgecolor='black', linewidth=1, label='distance_source_target')\n",
    "main_ax.hist(distance_transformed_target, \n",
    "             color = \"lightskyblue\", bins=40, alpha=0.6, \n",
    "             edgecolor='black', linewidth=1, label='distance_transformed_target')\n",
    "main_ax.axvline(np.mean(distance_source_target)-.05, color='black',alpha=0.7, linestyle='dashed', linewidth=1.5)\n",
    "main_ax.axvline(np.mean(distance_transformed_target), color='black',alpha=0.7, linestyle='dashed', linewidth=1.5)\n",
    "#main_ax.annotate(str(round(np.mean(distance_transformed_target),2)), xy=(2, 820), xytext=(4.55, 815))\n",
    "\n",
    "#ok\n",
    "x1_hist.hist(distance_source_target, \n",
    "             color = \"lightcoral\", bins=40, alpha=0.4, \n",
    "             edgecolor='black', linewidth=.5) #, label='source_target'\n",
    "x1_hist.hist(distance_source_transformed, \n",
    "             color = \"seagreen\", bins=40, alpha=0.5, \n",
    "             edgecolor='black', linewidth=.5, label='distance_source_transformed')\n",
    "x1_hist.axvline(np.mean(distance_source_target), color='black',alpha=0.5, linestyle='dashed', linewidth=1.3)\n",
    "x1_hist.axvline(np.mean(distance_source_transformed), color='black',alpha=0.5, linestyle='dashed', linewidth=1.3)\n",
    "\n",
    "x2_hist.hist(distance_source_transformed, \n",
    "             color = \"seagreen\", bins=40, alpha=0.5,\n",
    "             edgecolor='black', linewidth=.5) #, label='source_transformed'\n",
    "x2_hist.hist(distance_transformed_target, \n",
    "             color = \"lightskyblue\", bins=40, alpha=0.6, \n",
    "             edgecolor='black', linewidth=.5) #, label='transformed_target'\n",
    "x2_hist.axvline(np.mean(distance_source_transformed), color='black',alpha=0.5, linestyle='dashed', linewidth=1.3)\n",
    "x2_hist.axvline(np.mean(distance_transformed_target), color='black',alpha=0.5, linestyle='dashed', linewidth=1.3)\n",
    "\n",
    "plt.figlegend(loc = 'lower center', ncol=3, labelspacing=0.5) #bbox_to_anchor=(1.1, 1.05)\n",
    "#plt.suptitle('Euclidean Distance:\\n before and after alignment comparisons\\nEnglish-Portuguese', fontsize=15);"
   ]
  },
  {
   "cell_type": "code",
   "execution_count": 64,
   "metadata": {},
   "outputs": [
    {
     "data": {
      "image/png": "[encoded data removed]",
      "text/plain": [
       "<Figure size 864x720 with 3 Axes>"
      ]
     },
     "metadata": {},
     "output_type": "display_data"
    }
   ],
   "source": [
    "# Plot cosine similarities distances\n",
    "fig = plt.figure(figsize=(12, 10))\n",
    "grid = plt.GridSpec(24, 4, hspace=0.5, wspace=0.5)\n",
    "main_ax = fig.add_subplot(grid[:16, 0:])\n",
    "x1_hist = fig.add_subplot(grid[-7:, :2], sharex=main_ax)\n",
    "x2_hist = fig.add_subplot(grid[-7:, 2:], sharex=main_ax)\n",
    "\n",
    "main_ax.hist(similarity_source_target, \n",
    "             color = \"lightcoral\", bins=40, alpha=.5, \n",
    "             edgecolor='black', linewidth=1, label='similarity_source_target')\n",
    "main_ax.hist(similarity_transformed_target, \n",
    "             color = \"lightskyblue\", bins=40, alpha=0.6, \n",
    "             edgecolor='black', linewidth=1, label='similarity_transformed_target')\n",
    "main_ax.axvline(np.mean(similarity_source_target)-.05, color='black',alpha=0.7, linestyle='dashed', linewidth=1.5)\n",
    "main_ax.axvline(np.mean(similarity_transformed_target), color='black',alpha=0.7, linestyle='dashed', linewidth=1.5)\n",
    "#main_ax.annotate(str(round(np.mean(distance_transformed_target),2)), xy=(2, 820), xytext=(4.55, 815))\n",
    "\n",
    "x1_hist.hist(similarity_source_target, \n",
    "             color = \"lightcoral\", bins=20, alpha=0.4, \n",
    "             edgecolor='black', linewidth=.5) #, label='source_target'\n",
    "x1_hist.hist(similarity_source_transformed, \n",
    "             color = \"seagreen\", bins=20, alpha=0.5, \n",
    "             edgecolor='black', linewidth=.5, label='similarity_source_transformed')\n",
    "x1_hist.axvline(np.mean(similarity_source_target), color='black',alpha=0.5, linestyle='dashed', linewidth=1.3)\n",
    "x1_hist.axvline(np.mean(similarity_source_transformed), color='black',alpha=0.5, linestyle='dashed', linewidth=1.3)\n",
    "\n",
    "x2_hist.hist(similarity_source_transformed, \n",
    "             color = \"seagreen\", bins=20, alpha=0.5,\n",
    "             edgecolor='black', linewidth=.5) #, label='source_transformed'\n",
    "x2_hist.hist(similarity_transformed_target, \n",
    "             color = \"lightskyblue\", bins=20, alpha=0.6, \n",
    "             edgecolor='black', linewidth=.5) #, label='transformed_target'\n",
    "x2_hist.axvline(np.mean(similarity_source_transformed), color='black',alpha=0.5, linestyle='dashed', linewidth=1.3)\n",
    "x2_hist.axvline(np.mean(similarity_transformed_target), color='black',alpha=0.5, linestyle='dashed', linewidth=1.3)\n",
    "\n",
    "plt.figlegend(loc = 'lower center', ncol=3, labelspacing=0.5) #bbox_to_anchor=(1.1, 1.05)\n",
    "plt.suptitle('Cosine Similarity:\\n before and after alignment comparisons\\nItalian-English', fontsize=15)\n",
    "#plt.savefig('Cosine_Similarity_Word_Embeddings_word2vec_ENG_IT_30k.png');"
   ]
  },
  {
   "cell_type": "code",
   "execution_count": 79,
   "metadata": {},
   "outputs": [
    {
     "data": {
      "image/png": "[encoded data removed]",
      "text/plain": [
       "<Figure size 864x720 with 1 Axes>"
      ]
     },
     "metadata": {},
     "output_type": "display_data"
    }
   ],
   "source": [
    "fig = plt.figure(figsize=(12, 10))\n",
    "main_ax = fig.add_subplot(111)\n",
    "\n",
    "main_ax.hist(similarity_source_target, \n",
    "             color = \"lightcoral\", bins=40, alpha=.5, \n",
    "             edgecolor='black', linewidth=1, label='Source to Targe')\n",
    "main_ax.hist(similarity_transformed_target, \n",
    "             color = \"lightskyblue\", bins=40, alpha=0.6, \n",
    "             edgecolor='black', linewidth=1, label='Transformed to Target')\n",
    "main_ax.axvline(np.mean(similarity_source_target)-.05, color='black',alpha=0.7, linestyle='dashed', linewidth=1.5)\n",
    "main_ax.axvline(np.mean(similarity_transformed_target), color='black',alpha=0.7, linestyle='dashed', linewidth=1.5)\n",
    "\n",
    "#main_ax.set_xticklabels(fontsize=15)\n",
    "#main_ax.set_yticklabels(fontsize=15)\n",
    "fs = 18\n",
    "\n",
    "plt.xlabel('Cosine Similarity', fontsize=fs)\n",
    "plt.ylabel('Frequency', fontsize=fs)\n",
    "\n",
    "plt.xticks(fontsize=fs)\n",
    "plt.yticks(fontsize=fs)\n",
    "\n",
    "plt.legend(loc='upper right',fontsize=fs)\n",
    "#plt.figlegend(loc = 'best', ncol=1, labelspacing=0.5,fontsize=fs) #bbox_to_anchor=(1.1, 1.05)\n",
    "#plt.suptitle('Euclidean Distance:\\n before and after alignment comparisons\\nEnglish-Italian', fontsize=15)\n",
    "plt.savefig('Cosine_Similarity_word2vec_ENG_IT_30k_Poster.png');"
   ]
  },
  {
   "cell_type": "code",
   "execution_count": 58,
   "metadata": {},
   "outputs": [
    {
     "name": "stderr",
     "output_type": "stream",
     "text": [
      "C:\\Users\\popor\\AppData\\Local\\Continuum\\anaconda3\\envs\\python3\\lib\\site-packages\\ipykernel_launcher.py:1: DeprecationWarning: Call to deprecated `wv` (Attribute will be removed in 4.0.0, use self instead).\n",
      "  \"\"\"Entry point for launching an IPython kernel.\n"
     ]
    }
   ],
   "source": [
    "transformed_eng = apply_transform(transformation, source_vocabulary_embeddings.wv.vectors)"
   ]
  },
  {
   "cell_type": "code",
   "execution_count": 60,
   "metadata": {},
   "outputs": [
    {
     "data": {
      "text/plain": [
       "192839"
      ]
     },
     "execution_count": 60,
     "metadata": {},
     "output_type": "execute_result"
    }
   ],
   "source": [
    "len(transformed_eng)"
   ]
  },
  {
   "cell_type": "code",
   "execution_count": 61,
   "metadata": {
    "collapsed": true
   },
   "outputs": [],
   "source": [
    "words_en = []\n",
    "for word_en in source_vocabulary_embeddings.vocab:\n",
    "    words_en.append(words_en)\n",
    "    \n",
    "vectors_en = []\n",
    "for vector_en in transformed_eng:\n",
    "    vectors_en.append(vector_en)"
   ]
  },
  {
   "cell_type": "code",
   "execution_count": 62,
   "metadata": {},
   "outputs": [
    {
     "data": {
      "text/plain": [
       "True"
      ]
     },
     "execution_count": 62,
     "metadata": {},
     "output_type": "execute_result"
    }
   ],
   "source": [
    "len(words_en) == len(vectors_en)"
   ]
  },
  {
   "cell_type": "code",
   "execution_count": 37,
   "metadata": {},
   "outputs": [
    {
     "name": "stdout",
     "output_type": "stream",
     "text": [
      "-0.10350573\n",
      "-0.14555122\n"
     ]
    },
    {
     "name": "stderr",
     "output_type": "stream",
     "text": [
      "C:\\Users\\popor\\AppData\\Local\\Continuum\\anaconda3\\envs\\python3\\lib\\site-packages\\ipykernel_launcher.py:1: DeprecationWarning: Call to deprecated `wv` (Attribute will be removed in 4.0.0, use self instead).\n",
      "  \"\"\"Entry point for launching an IPython kernel.\n"
     ]
    }
   ],
   "source": [
    "print(source_vocabulary_embeddings.wv.vectors[0][1])\n",
    "print(vectors_en[0][1])"
   ]
  },
  {
   "cell_type": "code",
   "execution_count": 34,
   "metadata": {},
   "outputs": [
    {
     "data": {
      "text/plain": [
       "True"
      ]
     },
     "execution_count": 34,
     "metadata": {},
     "output_type": "execute_result"
    }
   ],
   "source": [
    "len(vectors_en) == len(words_en)"
   ]
  },
  {
   "cell_type": "code",
   "execution_count": 65,
   "metadata": {
    "collapsed": true
   },
   "outputs": [],
   "source": [
    "#rememeber first language is the target, second the source\n",
    "# save evaluation results \n",
    "import pickle\n",
    "with open('en_embeddings_transformed_vectors_30k', 'wb') as f:\n",
    "    pickle.dump(vectors_en, f)"
   ]
  },
  {
   "cell_type": "code",
   "execution_count": 66,
   "metadata": {
    "collapsed": true
   },
   "outputs": [],
   "source": [
    "#rememeber first language is the target, second the source\n",
    "# save evaluation results \n",
    "import pickle\n",
    "with open('en_embeddings_transformed_words_30k', 'wb') as f:\n",
    "    pickle.dump(words_en, f)"
   ]
  },
  {
   "cell_type": "code",
   "execution_count": 35,
   "metadata": {},
   "outputs": [
    {
     "ename": "TypeError",
     "evalue": "unhashable type: 'list'",
     "output_type": "error",
     "traceback": [
      "\u001b[1;31m---------------------------------------------------------------------------\u001b[0m",
      "\u001b[1;31mTypeError\u001b[0m                                 Traceback (most recent call last)",
      "\u001b[1;32m<ipython-input-35-4d9a2ec2993c>\u001b[0m in \u001b[0;36m<module>\u001b[1;34m()\u001b[0m\n\u001b[1;32m----> 1\u001b[1;33m \u001b[0men_embeddings_transformed_1\u001b[0m \u001b[1;33m=\u001b[0m \u001b[0mdict\u001b[0m\u001b[1;33m(\u001b[0m\u001b[0mzip\u001b[0m\u001b[1;33m(\u001b[0m\u001b[0mwords_en\u001b[0m\u001b[1;33m,\u001b[0m \u001b[0mvectors_en\u001b[0m\u001b[1;33m)\u001b[0m\u001b[1;33m)\u001b[0m\u001b[1;33m\u001b[0m\u001b[0m\n\u001b[0m",
      "\u001b[1;31mTypeError\u001b[0m: unhashable type: 'list'"
     ]
    }
   ],
   "source": [
    "en_embeddings_transformed_1 = dict(zip(words_en, vectors_en))"
   ]
  },
  {
   "cell_type": "code",
   "execution_count": null,
   "metadata": {
    "collapsed": true
   },
   "outputs": [],
   "source": [
    "for item in data:\n",
    "    list_data_items.append(dict(zip(column_names, item)))"
   ]
  },
  {
   "cell_type": "code",
   "execution_count": 211,
   "metadata": {},
   "outputs": [
    {
     "ename": "KeyError",
     "evalue": "'the'",
     "output_type": "error",
     "traceback": [
      "\u001b[1;31m---------------------------------------------------------------------------\u001b[0m",
      "\u001b[1;31mKeyError\u001b[0m                                  Traceback (most recent call last)",
      "\u001b[1;32m<ipython-input-211-3b70845303d4>\u001b[0m in \u001b[0;36m<module>\u001b[1;34m()\u001b[0m\n\u001b[1;32m----> 1\u001b[1;33m \u001b[0men_embeddings_transformed\u001b[0m\u001b[1;33m[\u001b[0m\u001b[1;34m'the'\u001b[0m\u001b[1;33m]\u001b[0m\u001b[1;33m\u001b[0m\u001b[0m\n\u001b[0m",
      "\u001b[1;31mKeyError\u001b[0m: 'the'"
     ]
    }
   ],
   "source": [
    "en_embeddings_transformed['the']"
   ]
  },
  {
   "cell_type": "code",
   "execution_count": 265,
   "metadata": {},
   "outputs": [
    {
     "name": "stderr",
     "output_type": "stream",
     "text": [
      "C:\\Users\\popor\\AppData\\Local\\Continuum\\anaconda3\\envs\\python3\\lib\\site-packages\\ipykernel_launcher.py:1: DeprecationWarning: Call to deprecated `wv` (Attribute will be removed in 4.0.0, use self instead).\n",
      "  \"\"\"Entry point for launching an IPython kernel.\n"
     ]
    }
   ],
   "source": [
    "transformed_it = apply_transform(transformation, target_vocabulary_embeddings.wv.vectors)"
   ]
  },
  {
   "cell_type": "code",
   "execution_count": 279,
   "metadata": {
    "collapsed": true
   },
   "outputs": [],
   "source": [
    "words_it = []\n",
    "for word_it in target_vocabulary_embeddings.vocab:\n",
    "    words_it.append(word_it)\n",
    "    \n",
    "vectors_it = []\n",
    "for vector_it in transformed_it:\n",
    "    vectors_it.append(vector_it)\n",
    "    \n",
    "it_embeddings_transformed = dict(zip(words_it, vectors_it))"
   ]
  },
  {
   "cell_type": "code",
   "execution_count": 280,
   "metadata": {},
   "outputs": [
    {
     "name": "stdout",
     "output_type": "stream",
     "text": [
      "0.1662\n",
      "-0.21932493\n"
     ]
    },
    {
     "name": "stderr",
     "output_type": "stream",
     "text": [
      "C:\\Users\\popor\\AppData\\Local\\Continuum\\anaconda3\\envs\\python3\\lib\\site-packages\\ipykernel_launcher.py:1: DeprecationWarning: Call to deprecated `wv` (Attribute will be removed in 4.0.0, use self instead).\n",
      "  \"\"\"Entry point for launching an IPython kernel.\n"
     ]
    }
   ],
   "source": [
    "print(target_vocabulary_embeddings.wv.vectors[0][0])\n",
    "print(vectors_it[0][0])"
   ]
  },
  {
   "cell_type": "code",
   "execution_count": 281,
   "metadata": {
    "collapsed": true
   },
   "outputs": [],
   "source": [
    "#rememeber first language is the target, second the source\n",
    "# save evaluation results \n",
    "import pickle\n",
    "with open('it_embeddings_transformed_30k', 'wb') as f:\n",
    "    pickle.dump(it_embeddings_transformed, f)"
   ]
  },
  {
   "cell_type": "code",
   "execution_count": 282,
   "metadata": {
    "collapsed": true
   },
   "outputs": [],
   "source": [
    "# load evaluation results\n",
    "import pickle\n",
    "with open('it_embeddings_transformed_30k', 'rb') as f:\n",
    "     data = pickle.load(f)"
   ]
  },
  {
   "cell_type": "code",
   "execution_count": 283,
   "metadata": {},
   "outputs": [
    {
     "data": {
      "text/plain": [
       "array([ 1.04102574e-01,  8.53906795e-02,  3.45262438e-02,  3.08958471e-01,\n",
       "       -4.55358744e-01,  9.56388842e-03, -7.11855888e-02,  2.92564601e-01,\n",
       "       -4.74088252e-01, -3.40269387e-01,  3.02566826e-01,  2.47570261e-01,\n",
       "       -2.48926014e-01,  2.07503423e-01, -2.64416188e-02, -1.11246541e-01,\n",
       "       -5.19126356e-02,  2.74203241e-01, -7.82587156e-02,  2.04802498e-01,\n",
       "        2.02822313e-01,  5.86275995e-01, -3.59621674e-01,  6.37516007e-02,\n",
       "        2.61027336e-01, -1.72196269e-01, -2.45261088e-01, -2.35349014e-02,\n",
       "        2.46487811e-01, -2.42614225e-01,  1.33795530e-01,  5.57418354e-02,\n",
       "       -5.00054955e-02, -6.58498332e-02, -5.71177006e-02, -9.41673368e-02,\n",
       "        1.18887372e-01,  5.69146514e-01, -3.19544107e-01,  1.28659699e-02,\n",
       "       -1.80692241e-01,  3.82852443e-02,  1.78347100e-02, -2.52661735e-01,\n",
       "       -8.12189132e-02, -7.59331584e-02, -1.25134990e-01, -1.97325453e-01,\n",
       "       -4.85549301e-01,  5.80631904e-02,  2.99380779e-01, -5.09750009e-01,\n",
       "        1.05595440e-01, -1.89915493e-01, -1.94151223e-01,  3.36548805e-01,\n",
       "       -5.58193803e-01,  4.34564471e-01,  3.56165737e-01,  2.17832804e-01,\n",
       "       -1.04401335e-01,  7.10151494e-01,  6.60553634e-01,  1.19805075e-01,\n",
       "       -2.26811677e-01, -2.78667539e-01,  2.12686196e-01,  1.03276753e+00,\n",
       "       -1.44910306e-01, -5.11704683e-02, -1.37990341e-02,  1.00333929e-01,\n",
       "        5.79908900e-02, -2.72737518e-02, -4.51478601e-01,  3.43804330e-01,\n",
       "       -3.05268504e-02,  3.69823009e-01,  3.28347459e-02,  3.87824059e-01,\n",
       "       -1.57694444e-01,  1.08473301e-01,  1.34085745e-01, -2.70599455e-01,\n",
       "       -7.78546035e-02,  6.13069057e-01,  3.92561287e-01,  1.66619346e-01,\n",
       "       -1.71575189e-01,  3.66182655e-01, -1.30965069e-01,  6.55340729e-03,\n",
       "        6.37598217e-01,  5.45170188e-01,  1.12643227e-01,  2.52333015e-01,\n",
       "        7.75215924e-01,  2.75854230e-01, -2.25232337e-02, -6.26350462e-01,\n",
       "       -7.14689493e-01, -1.75987452e-01,  3.46267223e-02,  2.26833507e-01,\n",
       "        3.04997593e-01,  1.11202605e-01, -5.01653612e-01,  4.25323427e-01,\n",
       "        2.63978302e-01,  4.94051695e-01,  1.84365451e-01,  1.21815629e-01,\n",
       "        1.12628162e-01, -1.93708688e-01, -4.05601233e-01, -3.10511112e-01,\n",
       "       -4.66100842e-01,  1.63601264e-01,  1.27709568e-01, -4.04771686e-01,\n",
       "       -2.11997926e-01,  4.89177071e-02,  1.40315905e-01,  4.74690527e-01,\n",
       "        2.36340865e-01,  4.38178986e-01, -2.08824098e-01, -2.81931818e-01,\n",
       "        2.65689194e-01, -1.28223747e-01, -1.48749352e-01, -3.90590578e-01,\n",
       "       -1.79269433e-01,  2.86222458e-01, -1.88457608e-01,  6.41551971e-01,\n",
       "       -1.83216054e-02,  5.77524006e-02,  2.07092464e-01,  4.06241983e-01,\n",
       "        2.06019953e-01,  1.00039013e-01,  1.19613104e-01, -1.41726052e-02,\n",
       "        9.08159092e-02,  1.07115336e-01, -1.02646999e-01,  5.28614260e-02,\n",
       "        3.70681398e-02, -2.27945656e-01,  5.98925948e-01,  1.38713168e-02,\n",
       "       -2.92186141e-01, -3.18519622e-01,  1.78840369e-01, -1.67427033e-01,\n",
       "        8.51699352e-01,  2.57114973e-02, -2.46054858e-01, -4.02148813e-04,\n",
       "        1.47692710e-01, -2.29524359e-01, -1.72555313e-01, -1.89887553e-01,\n",
       "       -2.74790347e-01,  5.38587511e-01, -6.21055543e-01,  2.10798785e-01,\n",
       "        2.26352319e-01,  2.22019181e-01, -1.84903517e-01, -2.02525854e-01,\n",
       "       -1.58634797e-01,  3.74288522e-02, -2.28441194e-01,  3.58050853e-01,\n",
       "        2.47506499e-01, -3.74838650e-01, -1.60219744e-01, -3.40757251e-01,\n",
       "       -2.47229084e-01, -6.18502498e-01,  3.09752285e-01, -1.58937946e-01,\n",
       "        2.11665511e-01,  1.09674431e-01, -1.15124390e-01, -4.19896960e-01,\n",
       "       -2.31769845e-01,  2.40045249e-01,  5.14750123e-01,  5.11825562e-01,\n",
       "        6.47229493e-01,  7.58644164e-01, -3.89392346e-01, -2.46049419e-01,\n",
       "        2.45025590e-01, -8.14169422e-02, -7.83546150e-01, -1.88490227e-01,\n",
       "        4.44774568e-01,  6.16133101e-02,  9.74943861e-02, -6.29479647e-01,\n",
       "        1.58409864e-01, -6.51793480e-01, -2.05288380e-01, -1.28393406e-02,\n",
       "       -7.83518925e-02, -7.27011263e-01,  3.69467556e-01, -1.43751144e-01,\n",
       "        3.28983277e-01, -1.27613246e-01,  1.82597429e-01,  4.91452187e-01,\n",
       "       -2.76019692e-01, -6.53121173e-01, -3.38884711e-01, -3.52254093e-01,\n",
       "       -1.14281774e-01,  3.65142524e-01, -1.69579938e-01, -3.14522296e-01,\n",
       "        7.38182198e-03, -8.41008276e-02, -3.26738834e-01, -1.08618701e+00,\n",
       "        1.94667637e-01, -4.14410233e-01, -2.24439323e-01,  1.59423083e-01,\n",
       "       -2.91597784e-01,  1.83769032e-01, -2.32408736e-02,  3.96636069e-01,\n",
       "        9.51866731e-02,  3.89742814e-02,  9.33699310e-02,  4.98470888e-02,\n",
       "       -1.58725023e-01,  1.09254062e-01, -4.11585569e-02, -1.57356322e-01,\n",
       "        2.71102618e-02,  1.59256265e-01, -3.64202075e-02, -4.16108891e-02,\n",
       "        1.33283705e-01,  2.47936714e-02,  4.35819179e-01, -1.22956179e-01,\n",
       "       -2.15954185e-01, -7.45830238e-02, -1.90048203e-01,  9.31704715e-02,\n",
       "        4.21908975e-01,  9.57718268e-02, -3.15454364e-01, -1.18321583e-01,\n",
       "        3.66868168e-01,  6.63249567e-02,  1.74232513e-01, -4.35109854e-01,\n",
       "       -2.48799190e-01,  1.23718470e-01, -2.61899471e-01, -6.77742660e-01,\n",
       "       -2.91282758e-02, -2.79266715e-01, -2.27634877e-01, -1.25450805e-01,\n",
       "        2.46259943e-01,  2.19936103e-01, -5.63468516e-01,  7.18004704e-02,\n",
       "        2.33355850e-01,  4.97734159e-01,  3.73175502e-01, -1.33134782e-01,\n",
       "       -8.21992829e-02, -4.35625881e-01, -1.10991038e-01,  3.21701825e-01,\n",
       "        3.02080870e-01, -3.10982168e-02,  4.26325738e-01,  2.84108877e-01,\n",
       "        1.11374207e-01,  5.00980020e-02, -9.92359519e-02, -2.35915169e-01,\n",
       "       -8.99432302e-01, -1.76880330e-01,  3.51718783e-01, -4.02556151e-01,\n",
       "        9.98178795e-02, -4.12482470e-01, -3.42741758e-01, -2.94893980e-01],\n",
       "      dtype=float32)"
      ]
     },
     "execution_count": 283,
     "metadata": {},
     "output_type": "execute_result"
    }
   ],
   "source": [
    "data['finestra']"
   ]
  },
  {
   "cell_type": "code",
   "execution_count": 121,
   "metadata": {
    "collapsed": true
   },
   "outputs": [],
   "source": [
    "from gensim.models import Word2Vec"
   ]
  },
  {
   "cell_type": "code",
   "execution_count": 122,
   "metadata": {},
   "outputs": [
    {
     "ename": "ValueError",
     "evalue": "The truth value of an array with more than one element is ambiguous. Use a.any() or a.all()",
     "output_type": "error",
     "traceback": [
      "\u001b[1;31m---------------------------------------------------------------------------\u001b[0m",
      "\u001b[1;31mValueError\u001b[0m                                Traceback (most recent call last)",
      "\u001b[1;32m<ipython-input-122-adb809c923e8>\u001b[0m in \u001b[0;36m<module>\u001b[1;34m()\u001b[0m\n\u001b[0;32m      1\u001b[0m \u001b[0mmodel\u001b[0m\u001b[1;33m=\u001b[0m \u001b[0mWord2Vec\u001b[0m\u001b[1;33m(\u001b[0m\u001b[1;33m)\u001b[0m\u001b[1;33m\u001b[0m\u001b[0m\n\u001b[1;32m----> 2\u001b[1;33m \u001b[0mmodel\u001b[0m\u001b[1;33m.\u001b[0m\u001b[0mbuild_vocab_from_freq\u001b[0m\u001b[1;33m(\u001b[0m\u001b[0mit_embeddings_transformed\u001b[0m\u001b[1;33m)\u001b[0m\u001b[1;33m\u001b[0m\u001b[0m\n\u001b[0m",
      "\u001b[1;32m~\\AppData\\Local\\Continuum\\anaconda3\\envs\\python3\\lib\\site-packages\\gensim\\models\\base_any2vec.py\u001b[0m in \u001b[0;36mbuild_vocab_from_freq\u001b[1;34m(self, word_freq, keep_raw_vocab, corpus_count, trim_rule, update)\u001b[0m\n\u001b[0;32m    534\u001b[0m         report_values = self.vocabulary.prepare_vocab(\n\u001b[0;32m    535\u001b[0m             \u001b[0mself\u001b[0m\u001b[1;33m.\u001b[0m\u001b[0mhs\u001b[0m\u001b[1;33m,\u001b[0m \u001b[0mself\u001b[0m\u001b[1;33m.\u001b[0m\u001b[0mnegative\u001b[0m\u001b[1;33m,\u001b[0m \u001b[0mself\u001b[0m\u001b[1;33m.\u001b[0m\u001b[0mwv\u001b[0m\u001b[1;33m,\u001b[0m \u001b[0mkeep_raw_vocab\u001b[0m\u001b[1;33m=\u001b[0m\u001b[0mkeep_raw_vocab\u001b[0m\u001b[1;33m,\u001b[0m\u001b[1;33m\u001b[0m\u001b[0m\n\u001b[1;32m--> 536\u001b[1;33m             trim_rule=trim_rule, update=update)\n\u001b[0m\u001b[0;32m    537\u001b[0m         \u001b[0mreport_values\u001b[0m\u001b[1;33m[\u001b[0m\u001b[1;34m'memory'\u001b[0m\u001b[1;33m]\u001b[0m \u001b[1;33m=\u001b[0m \u001b[0mself\u001b[0m\u001b[1;33m.\u001b[0m\u001b[0mestimate_memory\u001b[0m\u001b[1;33m(\u001b[0m\u001b[0mvocab_size\u001b[0m\u001b[1;33m=\u001b[0m\u001b[0mreport_values\u001b[0m\u001b[1;33m[\u001b[0m\u001b[1;34m'num_retained_words'\u001b[0m\u001b[1;33m]\u001b[0m\u001b[1;33m)\u001b[0m\u001b[1;33m\u001b[0m\u001b[0m\n\u001b[0;32m    538\u001b[0m         self.trainables.prepare_weights(\n",
      "\u001b[1;32m~\\AppData\\Local\\Continuum\\anaconda3\\envs\\python3\\lib\\site-packages\\gensim\\models\\word2vec.py\u001b[0m in \u001b[0;36mprepare_vocab\u001b[1;34m(self, hs, negative, wv, update, keep_raw_vocab, trim_rule, min_count, sample, dry_run)\u001b[0m\n\u001b[0;32m   1217\u001b[0m \u001b[1;33m\u001b[0m\u001b[0m\n\u001b[0;32m   1218\u001b[0m             \u001b[1;32mfor\u001b[0m \u001b[0mword\u001b[0m\u001b[1;33m,\u001b[0m \u001b[0mv\u001b[0m \u001b[1;32min\u001b[0m \u001b[0miteritems\u001b[0m\u001b[1;33m(\u001b[0m\u001b[0mself\u001b[0m\u001b[1;33m.\u001b[0m\u001b[0mraw_vocab\u001b[0m\u001b[1;33m)\u001b[0m\u001b[1;33m:\u001b[0m\u001b[1;33m\u001b[0m\u001b[0m\n\u001b[1;32m-> 1219\u001b[1;33m                 \u001b[1;32mif\u001b[0m \u001b[0mkeep_vocab_item\u001b[0m\u001b[1;33m(\u001b[0m\u001b[0mword\u001b[0m\u001b[1;33m,\u001b[0m \u001b[0mv\u001b[0m\u001b[1;33m,\u001b[0m \u001b[0mmin_count\u001b[0m\u001b[1;33m,\u001b[0m \u001b[0mtrim_rule\u001b[0m\u001b[1;33m=\u001b[0m\u001b[0mtrim_rule\u001b[0m\u001b[1;33m)\u001b[0m\u001b[1;33m:\u001b[0m\u001b[1;33m\u001b[0m\u001b[0m\n\u001b[0m\u001b[0;32m   1220\u001b[0m                     \u001b[0mretain_words\u001b[0m\u001b[1;33m.\u001b[0m\u001b[0mappend\u001b[0m\u001b[1;33m(\u001b[0m\u001b[0mword\u001b[0m\u001b[1;33m)\u001b[0m\u001b[1;33m\u001b[0m\u001b[0m\n\u001b[0;32m   1221\u001b[0m                     \u001b[0mretain_total\u001b[0m \u001b[1;33m+=\u001b[0m \u001b[0mv\u001b[0m\u001b[1;33m\u001b[0m\u001b[0m\n",
      "\u001b[1;31mValueError\u001b[0m: The truth value of an array with more than one element is ambiguous. Use a.any() or a.all()"
     ]
    }
   ],
   "source": [
    "model= Word2Vec()\n",
    "model.build_vocab_from_freq(it_embeddings_transformed)"
   ]
  },
  {
   "cell_type": "code",
   "execution_count": null,
   "metadata": {
    "collapsed": true
   },
   "outputs": [],
   "source": [
    "save_word2vec_format(fname, prefix='*dt_', fvocab=None, total_vec=None, binary=False, write_first_line=True)¶\n",
    "Store the input-hidden weight matrix in the same format used by the original C word2vec-tool, for compatibility.\n",
    "\n",
    "Parameters:\t\n",
    "fname (str) – The file path used to save the vectors in.\n",
    "prefix (str) – Uniquely identifies doctags from word vocab, and avoids collision in case of repeated string in doctag and word vocab.\n",
    "fvocab (str) – Optional file path used to save the vocabulary\n",
    "binary (bool) – If True, the data wil be saved in binary word2vec format, else it will be saved in plain text.\n",
    "total_vec (int) – Optional parameter to explicitly specify total no. of vectors (in case word vectors are appended with document vectors afterwards)\n",
    "write_first_line (bool) – Whether to print the first line in the file. Useful when saving doc-vectors after word-vectors."
   ]
  },
  {
   "cell_type": "code",
   "execution_count": null,
   "metadata": {
    "collapsed": true
   },
   "outputs": [],
   "source": [
    "save_word2vec_format(fname, fvocab=None, binary=False, total_vec=None)\n",
    "Store the input-hidden weight matrix in the same format used by the original C word2vec-tool, for compatibility.\n",
    "\n",
    "Parameters:\t\n",
    "fname (str) – The file path used to save the vectors in.\n",
    "fvocab (str) – Optional file path used to save the vocabulary.\n",
    "binary (bool) – If True, the data wil be saved in binary word2vec format, else it will be saved in plain text.\n",
    "total_vec (int) – Optional parameter to explicitly specify total no. of vectors (in case word vectors are appended with document vectors afterwards)."
   ]
  },
  {
   "cell_type": "markdown",
   "metadata": {},
   "source": [
    "### Plot t-sne (2D)"
   ]
  },
  {
   "cell_type": "code",
   "execution_count": null,
   "metadata": {
    "collapsed": true
   },
   "outputs": [],
   "source": [
    "from sklearn.manifold import TSNE\n",
    "import matplotlib.pyplot as plt\n",
    "%matplotlib inline"
   ]
  },
  {
   "cell_type": "code",
   "execution_count": null,
   "metadata": {
    "collapsed": true
   },
   "outputs": [],
   "source": [
    "# Limit number of tokens to be visualized\n",
    "limit = 150\n",
    "vector_dim = 300\n",
    "\n",
    "# Getting tokens and vectors\n",
    "words = []\n",
    "embedding = np.array([])\n",
    "i = 0\n",
    "for word in it_dictionary.vocab:\n",
    "    # Break the loop if limit exceeds \n",
    "    if i == limit: break\n",
    "\n",
    "    # Getting token \n",
    "    words.append(word)\n",
    "\n",
    "    # Appending the vectors \n",
    "    embedding = np.append(embedding, it_dictionary[word])\n",
    "\n",
    "    i += 1\n",
    "\n",
    "# Reshaping the embedding vector \n",
    "embedding = embedding.reshape(limit, vector_dim)\n",
    "\n",
    "\n",
    "def plot_with_labels(low_dim_embs, labels, filename='it_dictionary_tsne.png'):\n",
    "    assert low_dim_embs.shape[0] >= len(labels), \"More labels than embeddings\"\n",
    "    plt.figure(figsize=(18, 18))  # in inches\n",
    "    for i, label in enumerate(labels):\n",
    "        x, y = low_dim_embs[i, :]\n",
    "        plt.scatter(x, y)\n",
    "        plt.annotate(label,\n",
    "                 xy=(x, y),\n",
    "                 xytext=(5, 2),\n",
    "                 textcoords='offset points',\n",
    "                 ha='right',\n",
    "                 va='bottom')\n",
    "    plt.savefig(filename)\n",
    "\n",
    "\n",
    "# Creating the tsne plot\n",
    "tsne = TSNE(perplexity=30.0, n_components=2, init='pca', n_iter=5000)\n",
    "\n",
    "low_dim_embedding = tsne.fit_transform(embedding)\n",
    "\n",
    "# Finally plotting and saving the fig \n",
    "plot_with_labels(low_dim_embedding, words)"
   ]
  },
  {
   "cell_type": "code",
   "execution_count": null,
   "metadata": {
    "collapsed": true
   },
   "outputs": [],
   "source": [
    "# Limit number of tokens to be visualized\n",
    "limit = 500\n",
    "vector_dim = 300\n",
    "\n",
    "# Getting tokens and vectors\n",
    "words = []\n",
    "embedding = np.array([])\n",
    "i = 0\n",
    "for word in eng_dictionary.vocab:\n",
    "    # Break the loop if limit exceeds \n",
    "    if i == limit: break\n",
    "\n",
    "    # Getting token \n",
    "    words.append(word)\n",
    "\n",
    "    # Appending the vectors \n",
    "    embedding = np.append(embedding, eng_dictionary[word])\n",
    "\n",
    "    i += 1\n",
    "\n",
    "# Reshaping the embedding vector \n",
    "embedding = embedding.reshape(limit, vector_dim)\n",
    "\n",
    "def plot_with_labels(low_dim_embs, labels, filename='eng_dictionary_tsne.png'):\n",
    "    assert low_dim_embs.shape[0] >= len(labels), \"More labels than embeddings\"\n",
    "    plt.figure(figsize=(18, 18))  # in inches\n",
    "    for i, label in enumerate(labels):\n",
    "        x, y = low_dim_embs[i, :]\n",
    "        plt.scatter(x, y)\n",
    "        plt.annotate(label,\n",
    "                 xy=(x, y),\n",
    "                 xytext=(5, 2),\n",
    "                 textcoords='offset points',\n",
    "                 ha='right',\n",
    "                 va='bottom')\n",
    "    plt.savefig(filename)\n",
    "\n",
    "# Creating the tsne plot [Warning: will take time]\n",
    "tsne = TSNE(perplexity=30.0, n_components=2, init='pca', n_iter=5000)\n",
    "\n",
    "low_dim_embedding = tsne.fit_transform(embedding)\n",
    "\n",
    "# Finally plotting and saving the fig \n",
    "plot_with_labels(low_dim_embedding, words)"
   ]
  },
  {
   "cell_type": "code",
   "execution_count": null,
   "metadata": {
    "collapsed": true
   },
   "outputs": [],
   "source": [
    "def plot_with_labels(low_dim_embs, labels, filename='it_dictionary_tsne_3d.png'):\n",
    "    assert low_dim_embs.shape[0] >= len(labels), \"More labels than embeddings\"\n",
    "    plt.figure(figsize=(18, 18))  # in inches\n",
    "    for i, label in enumerate(labels):\n",
    "        x, y, z = low_dim_embs[i, :]\n",
    "        plt.scatter(x, y)\n",
    "        plt.annotate(label,\n",
    "                 xy=(x, y),\n",
    "                 xytext=(5, 2),\n",
    "                 textcoords='offset points',\n",
    "                 ha='right',\n",
    "                 va='bottom')\n",
    "    plt.savefig(filename)\n",
    "\n",
    "\n",
    "# Creating the tsne plot [Warning: will take time]\n",
    "tsne = TSNE(perplexity=30.0, n_components=3, init='pca', n_iter=5000)\n",
    "\n",
    "low_dim_embedding = tsne.fit_transform(embedding)\n",
    "\n",
    "# Finally plotting and saving the fig \n",
    "plot_with_labels(low_dim_embedding, words)"
   ]
  }
 ],
 "metadata": {
  "kernelspec": {
   "display_name": "Python 3",
   "language": "python",
   "name": "python3"
  },
  "language_info": {
   "codemirror_mode": {
    "name": "ipython",
    "version": 3
   },
   "file_extension": ".py",
   "mimetype": "text/x-python",
   "name": "python",
   "nbconvert_exporter": "python",
   "pygments_lexer": "ipython3",
   "version": "3.6.4"
  }
 },
 "nbformat": 4,
 "nbformat_minor": 2
}
