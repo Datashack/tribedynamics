{
 "cells": [
  {
   "cell_type": "markdown",
   "metadata": {},
   "source": [
    "# Word Embedding Alignment"
   ]
  },
  {
   "cell_type": "code",
   "execution_count": 2,
   "metadata": {},
   "outputs": [],
   "source": [
    "#import libraries\n",
    "import numpy as np\n",
    "import pandas as pd\n",
    "import random\n",
    "import gensim\n",
    "from gensim.models import KeyedVectors\n",
    "from sklearn.neighbors import NearestNeighbors\n",
    "import matplotlib.pyplot as plt\n",
    "import warnings\n",
    "%matplotlib inline\n",
    "warnings.filterwarnings(\"ignore\")"
   ]
  },
  {
   "cell_type": "markdown",
   "metadata": {},
   "source": [
    "## 1. Read Vocabularies From Emebddings and Subset Bilingual Vocabularies\n",
    "\n",
    "#### Use this code to extract from source and target vocabularies n words that appear in both \n",
    "#### Note: Skip this part if you use the toy data in the folder \"embedding/alignemnt/toy_data\""
   ]
  },
  {
   "cell_type": "code",
   "execution_count": null,
   "metadata": {},
   "outputs": [],
   "source": [
    "# read source vocabulary\n",
    "source_vocabulary_embeddings = KeyedVectors.load_word2vec_format(PATH_EMBEDDING_SOURCE)\n",
    "# read target vocabulary\n",
    "target_vocabulary_embeddings = KeyedVectors.load_word2vec_format(PATH_EMBEDDING_TARGET)"
   ]
  },
  {
   "cell_type": "code",
   "execution_count": null,
   "metadata": {},
   "outputs": [],
   "source": [
    "# get list of tokens from source and target vocabularies (i.e. words in the vocabulary) \n",
    "words_src = []\n",
    "for word_src in source_vocabulary_embeddings.vocab:\n",
    "    words_src.append(word_src)\n",
    "\n",
    "words_trg = []\n",
    "for word_trg in target_vocabulary_embeddings.vocab:\n",
    "    words_trg.append(word_trg)\n",
    "\n",
    "# Summary Source\n",
    "print(\"Number of Tokens in source: {}\".format(len(words_src)))\n",
    "print(\"Dimension of a word vector source embeddings: {}\".format(len(source_vocabulary_embeddings[words[0]])))\n",
    "\n",
    "# Summary Target\n",
    "print(\"Number of Tokens in target: {}\".format(len(words_it)))\n",
    "print(\"Dimension of a word vector target embeddings: {}\".format(len(target_vocabulary_embeddings[words[0]])))"
   ]
  },
  {
   "cell_type": "code",
   "execution_count": null,
   "metadata": {},
   "outputs": [],
   "source": [
    "# Create dictionary with words index\n",
    "# Source\n",
    "word_to_index_en = {}\n",
    "i=0\n",
    "for word, _ in source_vocabulary_embeddings.vocab.items():\n",
    "    word_to_index_en[word] = i\n",
    "    i=i+1\n",
    "print(\"This is the index of the word you are looking int the source: {}\".format(word_to_index_eng[WORD_TO_CHECK_SOURCE]))\n",
    "\n",
    "# Target\n",
    "word_to_index_it = {}\n",
    "i=0\n",
    "for word, _ in target_vocabulary_embeddings.vocab.items():\n",
    "    word_to_index_it[word] = i\n",
    "    i=i+1\n",
    "print(\"This is the index of the word you are looking int the target: {}\".format(word_to_index_eng[WORD_TO_CHECK_TARGET]))"
   ]
  },
  {
   "cell_type": "code",
   "execution_count": null,
   "metadata": {},
   "outputs": [],
   "source": [
    "def toy_data(source_vocabulary, target_vocabulary, n_words):\n",
    "    \"\"\"Function to extract bilingual vocabulary from source and target vocabularies. \n",
    "    It returns two dictionaries (i.e. source and target languages) with same keys.\"\"\"\n",
    "\n",
    "    #create a dictionary of overlapping words\n",
    "    source_words = set(source_vocabulary.index2word)\n",
    "    target_words = set(target_vocabulary.index2word)\n",
    "    overlap = list(source_words & target_words)\n",
    "    bilingual_vocabulary = [(entry, entry) for entry in overlap]\n",
    "    \n",
    "    #select a random number of words from the bilingual dictionary\n",
    "    pair_words = random.sample(bilingual_vocabulary, n_words)\n",
    "    toy_words = [tup[0] for tup in pair_words]\n",
    "    \n",
    "    #store vector for each word in two dictionaries (source and target)\n",
    "    source_dictionary = dict()\n",
    "    target_dictionary = dict()\n",
    "    for word in toy_words:\n",
    "        source_dictionary[word] = source_vocabulary.get_vector(str(word))\n",
    "        target_dictionary[word] = target_vocabulary.get_vector(str(word))\n",
    "    \n",
    "    return source_dictionary, target_dictionary"
   ]
  },
  {
   "cell_type": "code",
   "execution_count": null,
   "metadata": {},
   "outputs": [],
   "source": [
    "# generate toy data eng_pt\n",
    "source_dictionary, target_dictionary = toy_data(source_vocabulary_embeddings, target_vocabulary_embeddings, 20000)\n",
    "# check if lenght among source and target matches\n",
    "print(\"The two subsets have equal number of entries: {}\".format(len(source_dictionary.keys()) == len(target_dictionary.keys())))"
   ]
  },
  {
   "cell_type": "markdown",
   "metadata": {},
   "source": [
    "## 1.a Load Data in the folder \"embedding/alignemnt/toy_data\"\n",
    "\n",
    "#### Use this code to load source and target vocabularies"
   ]
  },
  {
   "cell_type": "code",
   "execution_count": 33,
   "metadata": {},
   "outputs": [
    {
     "name": "stdout",
     "output_type": "stream",
     "text": [
      "The two vocabularies have same number of words: True\n"
     ]
    }
   ],
   "source": [
    "# Read from file\n",
    "vocabulary_source = np.load('toy_data/toy_data_it-eng_20000.npy').item()\n",
    "vocabulary_target = np.load('toy_data/toy_data_eng-it_20000.npy').item()\n",
    "#check if the words are the same in the two vocabulary\n",
    "print(\"The two vocabularies have same number of words: {}\".format(vocabulary_source.keys() == vocabulary_target.keys()))"
   ]
  },
  {
   "cell_type": "markdown",
   "metadata": {},
   "source": [
    "## 2. Split Train and Test Data"
   ]
  },
  {
   "cell_type": "code",
   "execution_count": 4,
   "metadata": {},
   "outputs": [],
   "source": [
    "def split_toy_data_train_test(source_dictionary, target_dictionary, ratio_train_test):\n",
    "    \"\"\"Function to split source and target dictionaries in train and test. \n",
    "    It returns train and test matrices for both source and target languages.\"\"\"\n",
    "    \n",
    "    #prepare the matrix\n",
    "    source_matrix = list(source_dictionary.values())\n",
    "    target_matrix = list(target_dictionary.values())\n",
    "    \n",
    "    #select split ratio and random indices\n",
    "    indices = np.random.permutation(len(source_matrix))\n",
    "    ratio_train_test = ratio_train_test\n",
    "    split_range = int(len(source_matrix) * ratio_train_test)\n",
    "    training_idx, test_idx = indices[:split_range], indices[split_range :]\n",
    "\n",
    "    #select by indices train and test for source and target dictionaries\n",
    "    source_train = np.array([source_matrix [i] for i in training_idx])\n",
    "    source_test = np.array([source_matrix[i] for i in test_idx])\n",
    "    target_train = np.array([target_matrix[i] for i in training_idx])\n",
    "    target_test = np.array([target_matrix[i] for i in test_idx])\n",
    "    \n",
    "    return source_train, source_test, target_train, target_test"
   ]
  },
  {
   "cell_type": "code",
   "execution_count": 14,
   "metadata": {},
   "outputs": [
    {
     "name": "stdout",
     "output_type": "stream",
     "text": [
      "The two vocabularies size are:\n",
      "source_train (14000, 300); source_test (6000, 300); target_train (14000, 300); target_test (6000, 300).\n"
     ]
    }
   ],
   "source": [
    "# split vocabularies in train and test\n",
    "source_train, source_test, target_train, target_test = split_toy_data_train_test(vocabulary_source, vocabulary_target, 0.7)\n",
    "# check vocabularies size\n",
    "print(\"The two vocabularies size are:\\nsource_train {}; source_test {}; target_train {}; target_test {}.\".format(source_train.shape, source_test.shape, target_train.shape, target_test.shape))"
   ]
  },
  {
   "cell_type": "markdown",
   "metadata": {},
   "source": [
    "## 3. Learn Transformation to Align Embeddings"
   ]
  },
  {
   "cell_type": "code",
   "execution_count": 15,
   "metadata": {},
   "outputs": [],
   "source": [
    "def normalized(a, axis=-1, order=2):\n",
    "    \"\"\"Utility function to normalize the rows of a numpy array.\"\"\"\n",
    "    \n",
    "    l2 = np.atleast_1d(np.linalg.norm(a, order, axis))\n",
    "    l2[l2==0] = 1\n",
    "    \n",
    "    return a / np.expand_dims(l2, axis)"
   ]
  },
  {
   "cell_type": "code",
   "execution_count": 16,
   "metadata": {},
   "outputs": [],
   "source": [
    "def learn_transformation(source_matrix, target_matrix, normalize_vectors=True):\n",
    "    \"\"\"\n",
    "    Source and target matrices are numpy arrays, shape\n",
    "    (dictionary_length, embedding_dimension). These contain paired\n",
    "    word vectors from the bilingual dictionary.\n",
    "    \"\"\"\n",
    "    \n",
    "    # normalize the training vectors\n",
    "    if normalize_vectors:\n",
    "        source_matrix = normalized(source_matrix)\n",
    "        target_matrix = normalized(target_matrix)\n",
    "\n",
    "    # perform SVD\n",
    "    product = np.matmul(source_matrix.transpose(), target_matrix)\n",
    "    U, s, V = np.linalg.svd(product)\n",
    "\n",
    "    # return orthogonal transformation which aligns source language to the target\n",
    "    return np.matmul(U, V)"
   ]
  },
  {
   "cell_type": "code",
   "execution_count": 17,
   "metadata": {},
   "outputs": [],
   "source": [
    "def apply_transform(transformation, source_test):\n",
    "    \"\"\" Apply the given transformation to the vector space. \n",
    "    It returns predictions given transformations with embeddings E: E = E * transform \"\"\"\n",
    "    \n",
    "    return np.matmul(source_test, transformation)"
   ]
  },
  {
   "cell_type": "code",
   "execution_count": 18,
   "metadata": {},
   "outputs": [],
   "source": [
    "# learn the transformation\n",
    "transformation = learn_transformation(source_train, target_train, normalize_vectors = True)\n",
    "# apply transformation on the test of the source language\n",
    "source_transformed = apply_transform(transformation, source_test)"
   ]
  },
  {
   "cell_type": "markdown",
   "metadata": {},
   "source": [
    "## 4. Evaluate Transformation"
   ]
  },
  {
   "cell_type": "code",
   "execution_count": 19,
   "metadata": {},
   "outputs": [],
   "source": [
    "def cosine_similarity(vec_a, vec_b):\n",
    "    \"\"\"Compute cosine similarity between vec_a and vec_b\"\"\"\n",
    "    \n",
    "    return np.dot(vec_a, vec_b) / \\\n",
    "        (np.linalg.norm(vec_a) * np.linalg.norm(vec_b))"
   ]
  },
  {
   "cell_type": "code",
   "execution_count": 20,
   "metadata": {},
   "outputs": [],
   "source": [
    "def evaluate_proximity(source_transformed, target_test, close_neighbors, metric):\n",
    "    \"\"\"Compute accuracy, cosine similarity and euclidian distance between the closest transformed vectors.\n",
    "    INPUT:\n",
    "    close_neighbors: choose number of neighbors\n",
    "    metric: 'euclidian' or 'cosine' to compute kNN neighbors\n",
    "    source_tranformed: test set of the source language after transformation\n",
    "    target_test: test set of the target language\n",
    "    \n",
    "    OUTPUT:\n",
    "    accuracy: percentage of matching words, within k neighbors, between source and target language after the alignment\n",
    "    cosine_similarity: angolar distance among matching words\n",
    "    l2_norm_distance: euclidian distance among matching words\"\"\"\n",
    "\n",
    "    distance_embeddings = []\n",
    "    accuracy = []\n",
    "    similarity = []\n",
    "    distance = []\n",
    "\n",
    "    #fit model to find the closest vectors to tranformed one\n",
    "    neighbors = NearestNeighbors(n_neighbors = close_neighbors, metric = metric)\n",
    "    neighbors.fit(target_test)\n",
    "\n",
    "    for i in range(0,source_transformed.shape[0]):\n",
    "        index_transformed = i\n",
    "        #distance between two vocabularies\n",
    "        distance_embeddings.append(np.linalg.norm(source_transformed[i] - target_test[i]))\n",
    "        #find vectors in the target vocabulary\n",
    "        idx_neighbors_target = ((neighbors.kneighbors(source_transformed[index_transformed,:].reshape(1, -1)))[1][0]).tolist()\n",
    "        #evaluate proximity among target and transformed vectors\n",
    "        if index_transformed in idx_neighbors_target:\n",
    "            accuracy.append('True')\n",
    "            similarity.append(cosine_similarity(source_transformed[index_transformed], target_test[index_transformed]))\n",
    "            distance.append(np.linalg.norm(source_transformed[index_transformed] - target_test[index_transformed]))\n",
    "        else:\n",
    "            accuracy.append('False')\n",
    "\n",
    "    return [np.mean(distance_embeddings), round(accuracy.count('True')/len(accuracy)*100,2), np.mean(similarity), np.mean(distance)]"
   ]
  },
  {
   "cell_type": "code",
   "execution_count": 21,
   "metadata": {},
   "outputs": [],
   "source": [
    "def evaluate(source_test, source_transformed, target_test):\n",
    "    \"\"\"Evalaute alignment comparing the source vocabulary and its transformed version with the target vocabulary.\n",
    "    INPUT:\n",
    "    source_test: vocabulary of the source language\n",
    "    source_transformed: test set of the source language after transformation\n",
    "    target_test: test set of the target language\n",
    "    \n",
    "    OUTPUT:\n",
    "    dictionaries evaluating the alignment with different metrics\"\"\"\n",
    "    \n",
    "    sources = [source_test, source_transformed]\n",
    "    metrics = ['cosine', 'euclidean']\n",
    "    neighbors = [1,5,10]\n",
    "    evaluation_before_cosine = dict()\n",
    "    evaluation_before_euclidean = dict()\n",
    "    evaluation_after_cosine = dict()\n",
    "    evaluation_after_euclidean = dict()\n",
    "\n",
    "    for source in sources:\n",
    "        if source[0][0] == source_test[0][0]:\n",
    "            for metric in metrics:\n",
    "                if metric == 'cosine':\n",
    "                    for neighbor in neighbors:\n",
    "                        evaluation_before_cosine[neighbor] = evaluate_proximity(source_test, target_test, neighbor, 'cosine')\n",
    "\n",
    "                else:\n",
    "                    for neighbor in neighbors:\n",
    "                        evaluation_before_euclidean[neighbor] = evaluate_proximity(source_test, target_test, neighbor, 'euclidean')\n",
    "\n",
    "        else:\n",
    "            for metric in metrics:\n",
    "                if metric == 'cosine':\n",
    "                    for neighbor in neighbors:\n",
    "                        evaluation_after_cosine[neighbor] = evaluate_proximity(source_transformed, target_test, neighbor, 'cosine')\n",
    "\n",
    "                else:\n",
    "                    for neighbor in neighbors:\n",
    "                        evaluation_after_euclidean[neighbor] = evaluate_proximity(source_transformed, target_test, neighbor, 'euclidean') \n",
    "\n",
    "    return evaluation_before_cosine, evaluation_before_euclidean, evaluation_after_cosine, evaluation_after_euclidean"
   ]
  },
  {
   "cell_type": "markdown",
   "metadata": {},
   "source": [
    "### 4.a Evaluate Alignment"
   ]
  },
  {
   "cell_type": "code",
   "execution_count": null,
   "metadata": {},
   "outputs": [],
   "source": [
    "#evaluate alignment source target\n",
    "evaluation_before_cosine, evaluation_before_euclidean, evaluation_after_cosine, evaluation_after_euclidean = evaluate(source_test, source_transformed, target_test)"
   ]
  },
  {
   "cell_type": "code",
   "execution_count": null,
   "metadata": {},
   "outputs": [],
   "source": [
    "#set alignment evaluation table\n",
    "index = ['distance_embeddings', 'accuracy', 'cosine_similarity', 'euclidean_distance']\n",
    "\n",
    "#dump evaluation within dataframe\n",
    "df_eng_it = pd.DataFrame({'a': list(evaluation_before_cosine[1]),\n",
    "                          'b': list(evaluation_after_cosine[1]),\n",
    "                          'c': list(evaluation_before_euclidean[1]),\n",
    "                          'd': list(evaluation_after_euclidean[1]),\n",
    "                          \n",
    "                          'e': list(evaluation_before_cosine[5]),\n",
    "                          'f': list(evaluation_after_cosine[5]),\n",
    "                          'g': list(evaluation_before_euclidean[5]),\n",
    "                          'h': list(evaluation_after_euclidean[5]),\n",
    "          \n",
    "                          'i': list(evaluation_before_cosine[10]),\n",
    "                          'l': list(evaluation_after_cosine[10]),\n",
    "                          'm': list(evaluation_before_euclidean[10]),\n",
    "                          'n': list(evaluation_after_euclidean[10])}, index=index)\n",
    "\n",
    "#assign multilevel temporary columns name\n",
    "columns=[('K@1','COSINE', 'a'),  ('K@1','COSINE', 'b'), ('K@1','EUCLIDEAN', 'c'),  ('K@1','EUCLIDEAN', 'd'),\n",
    "   ('K@5','COSINE', 'e'),  ('K@5','COSINE', 'f'), ('K@5','EUCLIDEAN', 'g'),  ('K@5','EUCLIDEAN', 'h'),\n",
    "    ('K@10','COSINE', 'i'),  ('K@10','COSINE', 'l'), ('K@10','EUCLIDEAN', 'm'),  ('K@10','EUCLIDEAN', 'n')]\n",
    "\n",
    "#make multindex\n",
    "df_eng_it.columns= pd.MultiIndex.from_tuples(columns)\n",
    "\n",
    "#change columns names\n",
    "change_columns_name = ['non_tranformed','tranformed','non_tranformed','tranformed', 'non_tranformed','tranformed','non_tranformed','tranformed', 'non_tranformed','tranformed','non_tranformed','tranformed']\n",
    "df_eng_it.columns.set_levels(change_columns_name,level=2,inplace=True)\n",
    "df_eng_it"
   ]
  },
  {
   "cell_type": "markdown",
   "metadata": {},
   "source": [
    "### 4.b Evaluate Rotation"
   ]
  },
  {
   "cell_type": "code",
   "execution_count": 23,
   "metadata": {},
   "outputs": [],
   "source": [
    "def evaluate_rotation(source_test, source_transformed, target_test):\n",
    "    \"\"\"Evalaute rotation comparing: 1) the source vocabulary and its transformed version;\n",
    "                                    2) source vocabulary transformed and the target vocabulary;\n",
    "                                    3) source and target vocabularies;\n",
    "    INPUT:\n",
    "    source_test: vocabulary of the source language\n",
    "    source_transformed: test set of the source language after transformation\n",
    "    target_test: test set of the target language\n",
    "    \n",
    "    OUTPUT:\n",
    "    euclidian distance and cosine similarity for each rotation comparison\"\"\"\n",
    "\n",
    "    distance_source_target = []\n",
    "    distance_source_transformed = []\n",
    "    distance_transformed_target = []\n",
    "    similarity_source_target = []\n",
    "    similarity_source_transformed = []\n",
    "    similarity_transformed_target = []\n",
    "\n",
    "    for i in range(0,source_test.shape[0]):\n",
    "        distance_source_target.append(np.linalg.norm(source_test[i] - target_test[i]))\n",
    "        distance_source_transformed.append(np.linalg.norm(source_test[i] - source_transformed[i]))\n",
    "        distance_transformed_target.append(np.linalg.norm(source_transformed[i] - target_test[i]))\n",
    "\n",
    "        similarity_source_target.append(cosine_similarity(target_test[i],source_test[i]))\n",
    "        similarity_source_transformed.append(cosine_similarity(source_test[i], source_transformed[i]))\n",
    "        similarity_transformed_target.append(cosine_similarity(source_transformed[i], target_test[i]))\n",
    "\n",
    "    return distance_source_target, distance_source_transformed, distance_transformed_target, similarity_source_target, similarity_source_transformed, similarity_transformed_target"
   ]
  },
  {
   "cell_type": "code",
   "execution_count": 24,
   "metadata": {},
   "outputs": [],
   "source": [
    "# evalutate rotation\n",
    "distance_source_target, distance_source_transformed, distance_transformed_target, similarity_source_target, similarity_source_transformed, similarity_transformed_target = evaluate_rotation(source_test, source_transformed, target_test)"
   ]
  },
  {
   "cell_type": "code",
   "execution_count": 25,
   "metadata": {},
   "outputs": [],
   "source": [
    "# store output of the evaluation in a dictionary\n",
    "output_evaluation_rotation = {'distance_source_target':distance_source_target, \n",
    "                              'distance_source_transformed': distance_source_transformed, \n",
    "                              'distance_transformed_target': distance_transformed_target, \n",
    "                              'similarity_source_target': similarity_source_target, \n",
    "                              'similarity_source_transformed': similarity_source_transformed, \n",
    "                              'similarity_transformed_target': similarity_transformed_target}"
   ]
  },
  {
   "cell_type": "code",
   "execution_count": 28,
   "metadata": {},
   "outputs": [
    {
     "data": {
      "image/png": "[encoded data removed]",
      "text/plain": [
       "<Figure size 864x720 with 3 Axes>"
      ]
     },
     "metadata": {},
     "output_type": "display_data"
    }
   ],
   "source": [
    "# Plot euclidian distances comparison before and after alignment\n",
    "fig = plt.figure(figsize=(12, 10))\n",
    "grid = plt.GridSpec(24, 4, hspace=0.5, wspace=0.5)\n",
    "main_ax = fig.add_subplot(grid[:16, 0:])\n",
    "x1_hist = fig.add_subplot(grid[-7:, :2], sharex=main_ax)\n",
    "x2_hist = fig.add_subplot(grid[-7:, 2:], sharex=main_ax)\n",
    "\n",
    "main_ax.hist(distance_source_target, \n",
    "             color = \"lightcoral\", bins=40, alpha=.5, \n",
    "             edgecolor='black', linewidth=1, label='distance_source_target')\n",
    "main_ax.hist(distance_transformed_target, \n",
    "             color = \"lightskyblue\", bins=40, alpha=0.6, \n",
    "             edgecolor='black', linewidth=1, label='distance_transformed_target')\n",
    "main_ax.axvline(np.mean(distance_source_target)-.05, color='black',alpha=0.7, linestyle='dashed', linewidth=1.5)\n",
    "main_ax.axvline(np.mean(distance_transformed_target), color='black',alpha=0.7, linestyle='dashed', linewidth=1.5)\n",
    "\n",
    "x1_hist.hist(distance_source_target, \n",
    "             color = \"lightcoral\", bins=40, alpha=0.4, \n",
    "             edgecolor='black', linewidth=.5) #, label='source_target'\n",
    "x1_hist.hist(distance_source_transformed, \n",
    "             color = \"seagreen\", bins=40, alpha=0.5, \n",
    "             edgecolor='black', linewidth=.5, label='distance_source_transformed')\n",
    "x1_hist.axvline(np.mean(distance_source_target), color='black',alpha=0.5, linestyle='dashed', linewidth=1.3)\n",
    "x1_hist.axvline(np.mean(distance_source_transformed), color='black',alpha=0.5, linestyle='dashed', linewidth=1.3)\n",
    "\n",
    "x2_hist.hist(distance_source_transformed, \n",
    "             color = \"seagreen\", bins=40, alpha=0.5,\n",
    "             edgecolor='black', linewidth=.5) #, label='source_transformed'\n",
    "x2_hist.hist(distance_transformed_target, \n",
    "             color = \"lightskyblue\", bins=40, alpha=0.6, \n",
    "             edgecolor='black', linewidth=.5) #, label='transformed_target'\n",
    "x2_hist.axvline(np.mean(distance_source_transformed), color='black',alpha=0.5, linestyle='dashed', linewidth=1.3)\n",
    "x2_hist.axvline(np.mean(distance_transformed_target), color='black',alpha=0.5, linestyle='dashed', linewidth=1.3)\n",
    "\n",
    "plt.figlegend(loc = 'lower center', ncol=3, labelspacing=0.5) #bbox_to_anchor=(1.1, 1.05)\n",
    "plt.suptitle('Euclidean Distance:\\n before and after alignment\\nSource-Target', fontsize=15);\n",
    "\n",
    "#plt.savefig('Euclidean_Distance_Word_Embeddings.png');"
   ]
  },
  {
   "cell_type": "code",
   "execution_count": 30,
   "metadata": {},
   "outputs": [
    {
     "data": {
      "image/png": "[encoded data removed]",
      "text/plain": [
       "<Figure size 864x720 with 3 Axes>"
      ]
     },
     "metadata": {},
     "output_type": "display_data"
    }
   ],
   "source": [
    "# Plot cosine similarities comparison before and after alignment\n",
    "fig = plt.figure(figsize=(12, 10))\n",
    "grid = plt.GridSpec(24, 4, hspace=0.5, wspace=0.5)\n",
    "main_ax = fig.add_subplot(grid[:16, 0:])\n",
    "x1_hist = fig.add_subplot(grid[-7:, :2], sharex=main_ax)\n",
    "x2_hist = fig.add_subplot(grid[-7:, 2:], sharex=main_ax)\n",
    "\n",
    "main_ax.hist(similarity_source_target, \n",
    "             color = \"lightcoral\", bins=40, alpha=.5, \n",
    "             edgecolor='black', linewidth=1, label='similarity_source_target')\n",
    "main_ax.hist(similarity_transformed_target, \n",
    "             color = \"lightskyblue\", bins=40, alpha=0.6, \n",
    "             edgecolor='black', linewidth=1, label='similarity_transformed_target')\n",
    "main_ax.axvline(np.mean(similarity_source_target)-.05, color='black',alpha=0.7, linestyle='dashed', linewidth=1.5)\n",
    "main_ax.axvline(np.mean(similarity_transformed_target), color='black',alpha=0.7, linestyle='dashed', linewidth=1.5)\n",
    "#main_ax.annotate(str(round(np.mean(distance_transformed_target),2)), xy=(2, 820), xytext=(4.55, 815))\n",
    "\n",
    "x1_hist.hist(similarity_source_target, \n",
    "             color = \"lightcoral\", bins=20, alpha=0.4, \n",
    "             edgecolor='black', linewidth=.5) #, label='source_target'\n",
    "x1_hist.hist(similarity_source_transformed, \n",
    "             color = \"seagreen\", bins=20, alpha=0.5, \n",
    "             edgecolor='black', linewidth=.5, label='similarity_source_transformed')\n",
    "x1_hist.axvline(np.mean(similarity_source_target), color='black',alpha=0.5, linestyle='dashed', linewidth=1.3)\n",
    "x1_hist.axvline(np.mean(similarity_source_transformed), color='black',alpha=0.5, linestyle='dashed', linewidth=1.3)\n",
    "\n",
    "x2_hist.hist(similarity_source_transformed, \n",
    "             color = \"seagreen\", bins=20, alpha=0.5,\n",
    "             edgecolor='black', linewidth=.5) #, label='source_transformed'\n",
    "x2_hist.hist(similarity_transformed_target, \n",
    "             color = \"lightskyblue\", bins=20, alpha=0.6, \n",
    "             edgecolor='black', linewidth=.5) #, label='transformed_target'\n",
    "x2_hist.axvline(np.mean(similarity_source_transformed), color='black',alpha=0.5, linestyle='dashed', linewidth=1.3)\n",
    "x2_hist.axvline(np.mean(similarity_transformed_target), color='black',alpha=0.5, linestyle='dashed', linewidth=1.3)\n",
    "\n",
    "plt.figlegend(loc = 'lower center', ncol=3, labelspacing=0.5) #bbox_to_anchor=(1.1, 1.05)\n",
    "plt.suptitle('Cosine Similarity:\\n before and after alignment comparisons\\nItalian-English', fontsize=15);\n",
    "#plt.savefig('Cosine_Similarity_Word_Embeddings_word2vec_ENG_IT_30k.png');"
   ]
  },
  {
   "cell_type": "markdown",
   "metadata": {},
   "source": [
    "### 5. Apply transformation to the entire source vocabulary dataset"
   ]
  },
  {
   "cell_type": "code",
   "execution_count": 66,
   "metadata": {},
   "outputs": [
    {
     "name": "stdout",
     "output_type": "stream",
     "text": [
      "The source vocabulary shifted: True\n"
     ]
    }
   ],
   "source": [
    "# apply transformation to source vocabulary\n",
    "transformed_source = apply_transform(transformation, np.array(list(vocabulary_source.values())))\n",
    "# check if the first vector shifthed or note\n",
    "print(\"The source vocabulary shifted: {}\".format(transformed_source[0][0] != list(vocabulary_source.items())[0][1][0]))"
   ]
  }
 ],
 "metadata": {
  "kernelspec": {
   "display_name": "Python 3",
   "language": "python",
   "name": "python3"
  },
  "language_info": {
   "codemirror_mode": {
    "name": "ipython",
    "version": 3
   },
   "file_extension": ".py",
   "mimetype": "text/x-python",
   "name": "python",
   "nbconvert_exporter": "python",
   "pygments_lexer": "ipython3",
   "version": "3.6.4"
  }
 },
 "nbformat": 4,
 "nbformat_minor": 2
}
