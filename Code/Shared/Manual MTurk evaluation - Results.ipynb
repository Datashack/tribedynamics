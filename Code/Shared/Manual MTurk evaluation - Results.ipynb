{
 "cells": [
  {
   "cell_type": "code",
   "execution_count": 1,
   "metadata": {},
   "outputs": [],
   "source": [
    "import pandas as pd\n",
    "import numpy as np"
   ]
  },
  {
   "cell_type": "markdown",
   "metadata": {},
   "source": [
    "# Import csv files from each of us"
   ]
  },
  {
   "cell_type": "code",
   "execution_count": 2,
   "metadata": {},
   "outputs": [
    {
     "data": {
      "text/html": [
       "<div>\n",
       "<style scoped>\n",
       "    .dataframe tbody tr th:only-of-type {\n",
       "        vertical-align: middle;\n",
       "    }\n",
       "\n",
       "    .dataframe tbody tr th {\n",
       "        vertical-align: top;\n",
       "    }\n",
       "\n",
       "    .dataframe thead th {\n",
       "        text-align: right;\n",
       "    }\n",
       "</style>\n",
       "<table border=\"1\" class=\"dataframe\">\n",
       "  <thead>\n",
       "    <tr style=\"text-align: right;\">\n",
       "      <th></th>\n",
       "      <th>brand_name</th>\n",
       "      <th>text</th>\n",
       "      <th>lang</th>\n",
       "      <th>link</th>\n",
       "      <th>mturker</th>\n",
       "      <th>model_decision</th>\n",
       "      <th>labels</th>\n",
       "      <th>aggregated_label</th>\n",
       "      <th>capstone_label</th>\n",
       "    </tr>\n",
       "  </thead>\n",
       "  <tbody>\n",
       "    <tr>\n",
       "      <th>0</th>\n",
       "      <td>Lush</td>\n",
       "      <td>da averle morbide, idratate e prive di pellici...</td>\n",
       "      <td>it</td>\n",
       "      <td>https://blog.cliomakeup.com/2017/03/arco-di-cu...</td>\n",
       "      <td>1</td>\n",
       "      <td>NaN</td>\n",
       "      <td>[1, 1]</td>\n",
       "      <td>True</td>\n",
       "      <td>NaN</td>\n",
       "    </tr>\n",
       "  </tbody>\n",
       "</table>\n",
       "</div>"
      ],
      "text/plain": [
       "  brand_name                                               text lang  \\\n",
       "0       Lush  da averle morbide, idratate e prive di pellici...   it   \n",
       "\n",
       "                                                link  mturker  model_decision  \\\n",
       "0  https://blog.cliomakeup.com/2017/03/arco-di-cu...        1             NaN   \n",
       "\n",
       "   labels  aggregated_label  capstone_label  \n",
       "0  [1, 1]              True             NaN  "
      ]
     },
     "execution_count": 2,
     "metadata": {},
     "output_type": "execute_result"
    }
   ],
   "source": [
    "df_alessandro = pd.read_csv('../../Data/csv_for_mturk_eval/alessandro.csv', encoding='utf-8')\n",
    "df_alessandro.head(1)"
   ]
  },
  {
   "cell_type": "code",
   "execution_count": 3,
   "metadata": {},
   "outputs": [
    {
     "data": {
      "text/html": [
       "<div>\n",
       "<style scoped>\n",
       "    .dataframe tbody tr th:only-of-type {\n",
       "        vertical-align: middle;\n",
       "    }\n",
       "\n",
       "    .dataframe tbody tr th {\n",
       "        vertical-align: top;\n",
       "    }\n",
       "\n",
       "    .dataframe thead th {\n",
       "        text-align: right;\n",
       "    }\n",
       "</style>\n",
       "<table border=\"1\" class=\"dataframe\">\n",
       "  <thead>\n",
       "    <tr style=\"text-align: right;\">\n",
       "      <th></th>\n",
       "      <th>brand_name</th>\n",
       "      <th>text</th>\n",
       "      <th>lang</th>\n",
       "      <th>link</th>\n",
       "      <th>mturker</th>\n",
       "      <th>model_decision</th>\n",
       "      <th>labels</th>\n",
       "      <th>aggregated_label</th>\n",
       "      <th>capstone_label</th>\n",
       "    </tr>\n",
       "  </thead>\n",
       "  <tbody>\n",
       "    <tr>\n",
       "      <th>0</th>\n",
       "      <td>Vichy</td>\n",
       "      <td>un momento critico per la nostra pelle, ma con...</td>\n",
       "      <td>it</td>\n",
       "      <td>https://www.instagram.com/p/BSybl-nAlvG/</td>\n",
       "      <td>1</td>\n",
       "      <td>NaN</td>\n",
       "      <td>[1, 1, 1, 1]</td>\n",
       "      <td>True</td>\n",
       "      <td>NaN</td>\n",
       "    </tr>\n",
       "  </tbody>\n",
       "</table>\n",
       "</div>"
      ],
      "text/plain": [
       "  brand_name                                               text lang  \\\n",
       "0      Vichy  un momento critico per la nostra pelle, ma con...   it   \n",
       "\n",
       "                                       link  mturker  model_decision  \\\n",
       "0  https://www.instagram.com/p/BSybl-nAlvG/        1             NaN   \n",
       "\n",
       "         labels  aggregated_label  capstone_label  \n",
       "0  [1, 1, 1, 1]              True             NaN  "
      ]
     },
     "execution_count": 3,
     "metadata": {},
     "output_type": "execute_result"
    }
   ],
   "source": [
    "df_ginevra = pd.read_csv('../../Data/csv_for_mturk_eval/ginevra.csv', encoding='utf-8')\n",
    "df_ginevra.head(1)"
   ]
  },
  {
   "cell_type": "markdown",
   "metadata": {},
   "source": [
    "# Import labels from each of us"
   ]
  },
  {
   "cell_type": "code",
   "execution_count": 4,
   "metadata": {},
   "outputs": [
    {
     "data": {
      "text/html": [
       "<div>\n",
       "<style scoped>\n",
       "    .dataframe tbody tr th:only-of-type {\n",
       "        vertical-align: middle;\n",
       "    }\n",
       "\n",
       "    .dataframe tbody tr th {\n",
       "        vertical-align: top;\n",
       "    }\n",
       "\n",
       "    .dataframe thead th {\n",
       "        text-align: right;\n",
       "    }\n",
       "</style>\n",
       "<table border=\"1\" class=\"dataframe\">\n",
       "  <thead>\n",
       "    <tr style=\"text-align: right;\">\n",
       "      <th></th>\n",
       "      <th>brand_name</th>\n",
       "      <th>text</th>\n",
       "      <th>lang</th>\n",
       "      <th>link</th>\n",
       "      <th>mturker</th>\n",
       "      <th>model_decision</th>\n",
       "      <th>labels</th>\n",
       "      <th>aggregated_label</th>\n",
       "      <th>capstone_label</th>\n",
       "    </tr>\n",
       "  </thead>\n",
       "  <tbody>\n",
       "    <tr>\n",
       "      <th>0</th>\n",
       "      <td>Lush</td>\n",
       "      <td>da averle morbide, idratate e prive di pellici...</td>\n",
       "      <td>it</td>\n",
       "      <td>https://blog.cliomakeup.com/2017/03/arco-di-cu...</td>\n",
       "      <td>1</td>\n",
       "      <td>NaN</td>\n",
       "      <td>[1, 1]</td>\n",
       "      <td>True</td>\n",
       "      <td>True</td>\n",
       "    </tr>\n",
       "  </tbody>\n",
       "</table>\n",
       "</div>"
      ],
      "text/plain": [
       "  brand_name                                               text lang  \\\n",
       "0       Lush  da averle morbide, idratate e prive di pellici...   it   \n",
       "\n",
       "                                                link  mturker  model_decision  \\\n",
       "0  https://blog.cliomakeup.com/2017/03/arco-di-cu...        1             NaN   \n",
       "\n",
       "   labels  aggregated_label  capstone_label  \n",
       "0  [1, 1]              True            True  "
      ]
     },
     "execution_count": 4,
     "metadata": {},
     "output_type": "execute_result"
    }
   ],
   "source": [
    "df_alessandro['capstone_label'] = pd.read_csv('../../Data/csv_for_mturk_eval/labeling_alessandro.csv', encoding='utf-8').capstone_label.values\n",
    "df_alessandro.head(1)"
   ]
  },
  {
   "cell_type": "code",
   "execution_count": 5,
   "metadata": {},
   "outputs": [
    {
     "data": {
      "text/html": [
       "<div>\n",
       "<style scoped>\n",
       "    .dataframe tbody tr th:only-of-type {\n",
       "        vertical-align: middle;\n",
       "    }\n",
       "\n",
       "    .dataframe tbody tr th {\n",
       "        vertical-align: top;\n",
       "    }\n",
       "\n",
       "    .dataframe thead th {\n",
       "        text-align: right;\n",
       "    }\n",
       "</style>\n",
       "<table border=\"1\" class=\"dataframe\">\n",
       "  <thead>\n",
       "    <tr style=\"text-align: right;\">\n",
       "      <th></th>\n",
       "      <th>brand_name</th>\n",
       "      <th>text</th>\n",
       "      <th>lang</th>\n",
       "      <th>link</th>\n",
       "      <th>mturker</th>\n",
       "      <th>model_decision</th>\n",
       "      <th>labels</th>\n",
       "      <th>aggregated_label</th>\n",
       "      <th>capstone_label</th>\n",
       "    </tr>\n",
       "  </thead>\n",
       "  <tbody>\n",
       "    <tr>\n",
       "      <th>0</th>\n",
       "      <td>Vichy</td>\n",
       "      <td>un momento critico per la nostra pelle, ma con...</td>\n",
       "      <td>it</td>\n",
       "      <td>https://www.instagram.com/p/BSybl-nAlvG/</td>\n",
       "      <td>1</td>\n",
       "      <td>NaN</td>\n",
       "      <td>[1, 1, 1, 1]</td>\n",
       "      <td>True</td>\n",
       "      <td>True</td>\n",
       "    </tr>\n",
       "  </tbody>\n",
       "</table>\n",
       "</div>"
      ],
      "text/plain": [
       "  brand_name                                               text lang  \\\n",
       "0      Vichy  un momento critico per la nostra pelle, ma con...   it   \n",
       "\n",
       "                                       link  mturker  model_decision  \\\n",
       "0  https://www.instagram.com/p/BSybl-nAlvG/        1             NaN   \n",
       "\n",
       "         labels  aggregated_label  capstone_label  \n",
       "0  [1, 1, 1, 1]              True            True  "
      ]
     },
     "execution_count": 5,
     "metadata": {},
     "output_type": "execute_result"
    }
   ],
   "source": [
    "df_ginevra['capstone_label'] = pd.read_csv('../../Data/csv_for_mturk_eval/labeling_alessandro.csv', encoding='utf-8').capstone_label.values\n",
    "df_ginevra.head(1)"
   ]
  },
  {
   "cell_type": "markdown",
   "metadata": {},
   "source": [
    "# Concatenate the dataframes to produce final result"
   ]
  },
  {
   "cell_type": "code",
   "execution_count": 6,
   "metadata": {},
   "outputs": [
    {
     "data": {
      "text/html": [
       "<div>\n",
       "<style scoped>\n",
       "    .dataframe tbody tr th:only-of-type {\n",
       "        vertical-align: middle;\n",
       "    }\n",
       "\n",
       "    .dataframe tbody tr th {\n",
       "        vertical-align: top;\n",
       "    }\n",
       "\n",
       "    .dataframe thead th {\n",
       "        text-align: right;\n",
       "    }\n",
       "</style>\n",
       "<table border=\"1\" class=\"dataframe\">\n",
       "  <thead>\n",
       "    <tr style=\"text-align: right;\">\n",
       "      <th></th>\n",
       "      <th>brand_name</th>\n",
       "      <th>text</th>\n",
       "      <th>lang</th>\n",
       "      <th>link</th>\n",
       "      <th>mturker</th>\n",
       "      <th>model_decision</th>\n",
       "      <th>labels</th>\n",
       "      <th>aggregated_label</th>\n",
       "      <th>capstone_label</th>\n",
       "    </tr>\n",
       "  </thead>\n",
       "  <tbody>\n",
       "    <tr>\n",
       "      <th>0</th>\n",
       "      <td>Lush</td>\n",
       "      <td>da averle morbide, idratate e prive di pellici...</td>\n",
       "      <td>it</td>\n",
       "      <td>https://blog.cliomakeup.com/2017/03/arco-di-cu...</td>\n",
       "      <td>1</td>\n",
       "      <td>NaN</td>\n",
       "      <td>[1, 1]</td>\n",
       "      <td>True</td>\n",
       "      <td>True</td>\n",
       "    </tr>\n",
       "    <tr>\n",
       "      <th>1</th>\n",
       "      <td>Dove</td>\n",
       "      <td>Dove son finita Come promesso sono tornata!\\r\\...</td>\n",
       "      <td>it</td>\n",
       "      <td>https://www.youtube.com/watch?v=XItKOoQWY2Q</td>\n",
       "      <td>1</td>\n",
       "      <td>NaN</td>\n",
       "      <td>[1, 1, 1, 0]</td>\n",
       "      <td>True</td>\n",
       "      <td>False</td>\n",
       "    </tr>\n",
       "    <tr>\n",
       "      <th>2</th>\n",
       "      <td>Vichy</td>\n",
       "      <td>un momento critico per la nostra pelle, ma con...</td>\n",
       "      <td>it</td>\n",
       "      <td>https://www.instagram.com/p/BSybl-nAlvG/</td>\n",
       "      <td>1</td>\n",
       "      <td>NaN</td>\n",
       "      <td>[1, 1, 1, 1]</td>\n",
       "      <td>True</td>\n",
       "      <td>True</td>\n",
       "    </tr>\n",
       "    <tr>\n",
       "      <th>3</th>\n",
       "      <td>Lush</td>\n",
       "      <td>MY BEAUTY PROTOCOLE  \\r\\n#pink #girlsnightout ...</td>\n",
       "      <td>it</td>\n",
       "      <td>https://www.instagram.com/p/BSWqwr-BQAt/</td>\n",
       "      <td>1</td>\n",
       "      <td>NaN</td>\n",
       "      <td>[1, 1, 1, 1, 1]</td>\n",
       "      <td>True</td>\n",
       "      <td>True</td>\n",
       "    </tr>\n",
       "    <tr>\n",
       "      <th>4</th>\n",
       "      <td>La Roche-Posay</td>\n",
       "      <td>@avon.italia , Gimme Brow di @benefitcosmetics...</td>\n",
       "      <td>it</td>\n",
       "      <td>https://www.facebook.com/1555633388011833/post...</td>\n",
       "      <td>1</td>\n",
       "      <td>NaN</td>\n",
       "      <td>[1, 1, 1, 1]</td>\n",
       "      <td>True</td>\n",
       "      <td>True</td>\n",
       "    </tr>\n",
       "  </tbody>\n",
       "</table>\n",
       "</div>"
      ],
      "text/plain": [
       "       brand_name                                               text lang  \\\n",
       "0            Lush  da averle morbide, idratate e prive di pellici...   it   \n",
       "1            Dove  Dove son finita Come promesso sono tornata!\\r\\...   it   \n",
       "2           Vichy  un momento critico per la nostra pelle, ma con...   it   \n",
       "3            Lush  MY BEAUTY PROTOCOLE  \\r\\n#pink #girlsnightout ...   it   \n",
       "4  La Roche-Posay  @avon.italia , Gimme Brow di @benefitcosmetics...   it   \n",
       "\n",
       "                                                link  mturker  model_decision  \\\n",
       "0  https://blog.cliomakeup.com/2017/03/arco-di-cu...        1             NaN   \n",
       "1        https://www.youtube.com/watch?v=XItKOoQWY2Q        1             NaN   \n",
       "2           https://www.instagram.com/p/BSybl-nAlvG/        1             NaN   \n",
       "3           https://www.instagram.com/p/BSWqwr-BQAt/        1             NaN   \n",
       "4  https://www.facebook.com/1555633388011833/post...        1             NaN   \n",
       "\n",
       "            labels  aggregated_label  capstone_label  \n",
       "0           [1, 1]              True            True  \n",
       "1     [1, 1, 1, 0]              True           False  \n",
       "2     [1, 1, 1, 1]              True            True  \n",
       "3  [1, 1, 1, 1, 1]              True            True  \n",
       "4     [1, 1, 1, 1]              True            True  "
      ]
     },
     "execution_count": 6,
     "metadata": {},
     "output_type": "execute_result"
    }
   ],
   "source": [
    "df = pd.concat([df_alessandro, df_ginevra])\n",
    "df.head(5)"
   ]
  },
  {
   "cell_type": "code",
   "execution_count": 7,
   "metadata": {},
   "outputs": [
    {
     "data": {
      "text/plain": [
       "(120, 9)"
      ]
     },
     "execution_count": 7,
     "metadata": {},
     "output_type": "execute_result"
    }
   ],
   "source": [
    "df.shape"
   ]
  },
  {
   "cell_type": "markdown",
   "metadata": {},
   "source": [
    "# Compute accuracy of the labeling between us and MTurk"
   ]
  },
  {
   "cell_type": "code",
   "execution_count": 8,
   "metadata": {},
   "outputs": [],
   "source": [
    "y_capstone = df.capstone_label.values.astype(np.bool)\n",
    "y_mturk = df.aggregated_label.values.astype(np.bool)"
   ]
  },
  {
   "cell_type": "code",
   "execution_count": 9,
   "metadata": {},
   "outputs": [
    {
     "name": "stdout",
     "output_type": "stream",
     "text": [
      "Accuracy = 0.917\n"
     ]
    }
   ],
   "source": [
    "from sklearn.metrics import accuracy_score\n",
    "print('Accuracy = {:.3f}'.format(accuracy_score(y_capstone, y_mturk))) "
   ]
  }
 ],
 "metadata": {
  "kernelspec": {
   "display_name": "Python 3",
   "language": "python",
   "name": "python3"
  },
  "language_info": {
   "codemirror_mode": {
    "name": "ipython",
    "version": 3
   },
   "file_extension": ".py",
   "mimetype": "text/x-python",
   "name": "python",
   "nbconvert_exporter": "python",
   "pygments_lexer": "ipython3",
   "version": "3.6.4"
  }
 },
 "nbformat": 4,
 "nbformat_minor": 2
}
