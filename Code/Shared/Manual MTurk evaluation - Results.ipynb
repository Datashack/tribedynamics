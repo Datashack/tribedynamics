{
 "cells": [
  {
   "cell_type": "code",
   "execution_count": 1,
   "metadata": {},
   "outputs": [],
   "source": [
    "import pandas as pd\n",
    "import numpy as np"
   ]
  },
  {
   "cell_type": "markdown",
   "metadata": {},
   "source": [
    "# Import csv files from each of us"
   ]
  },
  {
   "cell_type": "code",
   "execution_count": 2,
   "metadata": {},
   "outputs": [
    {
     "data": {
      "text/html": [
       "<div>\n",
       "<style scoped>\n",
       "    .dataframe tbody tr th:only-of-type {\n",
       "        vertical-align: middle;\n",
       "    }\n",
       "\n",
       "    .dataframe tbody tr th {\n",
       "        vertical-align: top;\n",
       "    }\n",
       "\n",
       "    .dataframe thead th {\n",
       "        text-align: right;\n",
       "    }\n",
       "</style>\n",
       "<table border=\"1\" class=\"dataframe\">\n",
       "  <thead>\n",
       "    <tr style=\"text-align: right;\">\n",
       "      <th></th>\n",
       "      <th>brand_name</th>\n",
       "      <th>text</th>\n",
       "      <th>lang</th>\n",
       "      <th>link</th>\n",
       "      <th>mturker</th>\n",
       "      <th>model_decision</th>\n",
       "      <th>labels</th>\n",
       "      <th>aggregated_label</th>\n",
       "      <th>capstone_label</th>\n",
       "    </tr>\n",
       "  </thead>\n",
       "  <tbody>\n",
       "    <tr>\n",
       "      <th>0</th>\n",
       "      <td>Lush</td>\n",
       "      <td>da averle morbide, idratate e prive di pellici...</td>\n",
       "      <td>it</td>\n",
       "      <td>https://blog.cliomakeup.com/2017/03/arco-di-cu...</td>\n",
       "      <td>1</td>\n",
       "      <td>NaN</td>\n",
       "      <td>[1, 1]</td>\n",
       "      <td>True</td>\n",
       "      <td>NaN</td>\n",
       "    </tr>\n",
       "  </tbody>\n",
       "</table>\n",
       "</div>"
      ],
      "text/plain": [
       "  brand_name                                               text lang  \\\n",
       "0       Lush  da averle morbide, idratate e prive di pellici...   it   \n",
       "\n",
       "                                                link  mturker  model_decision  \\\n",
       "0  https://blog.cliomakeup.com/2017/03/arco-di-cu...        1             NaN   \n",
       "\n",
       "   labels  aggregated_label  capstone_label  \n",
       "0  [1, 1]              True             NaN  "
      ]
     },
     "execution_count": 2,
     "metadata": {},
     "output_type": "execute_result"
    }
   ],
   "source": [
    "df_alessandro = pd.read_csv('../../Data/csv_for_mturk_eval/alessandro.csv', encoding='utf-8')\n",
    "df_alessandro.head(1)"
   ]
  },
  {
   "cell_type": "code",
   "execution_count": 3,
   "metadata": {},
   "outputs": [
    {
     "data": {
      "text/html": [
       "<div>\n",
       "<style scoped>\n",
       "    .dataframe tbody tr th:only-of-type {\n",
       "        vertical-align: middle;\n",
       "    }\n",
       "\n",
       "    .dataframe tbody tr th {\n",
       "        vertical-align: top;\n",
       "    }\n",
       "\n",
       "    .dataframe thead th {\n",
       "        text-align: right;\n",
       "    }\n",
       "</style>\n",
       "<table border=\"1\" class=\"dataframe\">\n",
       "  <thead>\n",
       "    <tr style=\"text-align: right;\">\n",
       "      <th></th>\n",
       "      <th>brand_name</th>\n",
       "      <th>text</th>\n",
       "      <th>lang</th>\n",
       "      <th>link</th>\n",
       "      <th>mturker</th>\n",
       "      <th>model_decision</th>\n",
       "      <th>labels</th>\n",
       "      <th>aggregated_label</th>\n",
       "      <th>capstone_label</th>\n",
       "    </tr>\n",
       "  </thead>\n",
       "  <tbody>\n",
       "    <tr>\n",
       "      <th>0</th>\n",
       "      <td>Vichy</td>\n",
       "      <td>un momento critico per la nostra pelle, ma con...</td>\n",
       "      <td>it</td>\n",
       "      <td>https://www.instagram.com/p/BSybl-nAlvG/</td>\n",
       "      <td>1</td>\n",
       "      <td>NaN</td>\n",
       "      <td>[1, 1, 1, 1]</td>\n",
       "      <td>True</td>\n",
       "      <td>NaN</td>\n",
       "    </tr>\n",
       "  </tbody>\n",
       "</table>\n",
       "</div>"
      ],
      "text/plain": [
       "  brand_name                                               text lang  \\\n",
       "0      Vichy  un momento critico per la nostra pelle, ma con...   it   \n",
       "\n",
       "                                       link  mturker  model_decision  \\\n",
       "0  https://www.instagram.com/p/BSybl-nAlvG/        1             NaN   \n",
       "\n",
       "         labels  aggregated_label  capstone_label  \n",
       "0  [1, 1, 1, 1]              True             NaN  "
      ]
     },
     "execution_count": 3,
     "metadata": {},
     "output_type": "execute_result"
    }
   ],
   "source": [
    "df_ginevra = pd.read_csv('../../Data/csv_for_mturk_eval/ginevra.csv', encoding='utf-8')\n",
    "df_ginevra.head(1)"
   ]
  },
  {
   "cell_type": "code",
   "execution_count": 4,
   "metadata": {},
   "outputs": [
    {
     "data": {
      "text/html": [
       "<div>\n",
       "<style scoped>\n",
       "    .dataframe tbody tr th:only-of-type {\n",
       "        vertical-align: middle;\n",
       "    }\n",
       "\n",
       "    .dataframe tbody tr th {\n",
       "        vertical-align: top;\n",
       "    }\n",
       "\n",
       "    .dataframe thead th {\n",
       "        text-align: right;\n",
       "    }\n",
       "</style>\n",
       "<table border=\"1\" class=\"dataframe\">\n",
       "  <thead>\n",
       "    <tr style=\"text-align: right;\">\n",
       "      <th></th>\n",
       "      <th>brand_name</th>\n",
       "      <th>text</th>\n",
       "      <th>lang</th>\n",
       "      <th>link</th>\n",
       "      <th>mturker</th>\n",
       "      <th>model_decision</th>\n",
       "      <th>labels</th>\n",
       "      <th>aggregated_label</th>\n",
       "      <th>capstone_label</th>\n",
       "    </tr>\n",
       "  </thead>\n",
       "  <tbody>\n",
       "    <tr>\n",
       "      <th>0</th>\n",
       "      <td>La Roche-Posay</td>\n",
       "      <td>Pelle perfetta, libera dalle imperfezioni e a ...</td>\n",
       "      <td>it</td>\n",
       "      <td>https://www.instagram.com/p/BL0UxHploJa/</td>\n",
       "      <td>1</td>\n",
       "      <td>NaN</td>\n",
       "      <td>[1, 1, 1, 1, 1, 1, 1, 1]</td>\n",
       "      <td>True</td>\n",
       "      <td>TRUE</td>\n",
       "    </tr>\n",
       "  </tbody>\n",
       "</table>\n",
       "</div>"
      ],
      "text/plain": [
       "       brand_name                                               text lang  \\\n",
       "0  La Roche-Posay  Pelle perfetta, libera dalle imperfezioni e a ...   it   \n",
       "\n",
       "                                       link  mturker  model_decision  \\\n",
       "0  https://www.instagram.com/p/BL0UxHploJa/        1             NaN   \n",
       "\n",
       "                     labels  aggregated_label capstone_label  \n",
       "0  [1, 1, 1, 1, 1, 1, 1, 1]              True           TRUE  "
      ]
     },
     "execution_count": 4,
     "metadata": {},
     "output_type": "execute_result"
    }
   ],
   "source": [
    "df_andrea = pd.read_csv('../../Data/csv_for_mturk_eval/andrea.csv', encoding='utf-8').drop(['brand_name_is_present',\n",
    "                                                                                           'cosmetic_product_is_present',\n",
    "                                                                                           'Comments'], axis=1)\n",
    "df_andrea.head(1)"
   ]
  },
  {
   "cell_type": "markdown",
   "metadata": {},
   "source": [
    "# Import labels from each of us"
   ]
  },
  {
   "cell_type": "code",
   "execution_count": 5,
   "metadata": {},
   "outputs": [
    {
     "data": {
      "text/html": [
       "<div>\n",
       "<style scoped>\n",
       "    .dataframe tbody tr th:only-of-type {\n",
       "        vertical-align: middle;\n",
       "    }\n",
       "\n",
       "    .dataframe tbody tr th {\n",
       "        vertical-align: top;\n",
       "    }\n",
       "\n",
       "    .dataframe thead th {\n",
       "        text-align: right;\n",
       "    }\n",
       "</style>\n",
       "<table border=\"1\" class=\"dataframe\">\n",
       "  <thead>\n",
       "    <tr style=\"text-align: right;\">\n",
       "      <th></th>\n",
       "      <th>brand_name</th>\n",
       "      <th>text</th>\n",
       "      <th>lang</th>\n",
       "      <th>link</th>\n",
       "      <th>mturker</th>\n",
       "      <th>model_decision</th>\n",
       "      <th>labels</th>\n",
       "      <th>aggregated_label</th>\n",
       "      <th>capstone_label</th>\n",
       "    </tr>\n",
       "  </thead>\n",
       "  <tbody>\n",
       "    <tr>\n",
       "      <th>0</th>\n",
       "      <td>Lush</td>\n",
       "      <td>da averle morbide, idratate e prive di pellici...</td>\n",
       "      <td>it</td>\n",
       "      <td>https://blog.cliomakeup.com/2017/03/arco-di-cu...</td>\n",
       "      <td>1</td>\n",
       "      <td>NaN</td>\n",
       "      <td>[1, 1]</td>\n",
       "      <td>True</td>\n",
       "      <td>True</td>\n",
       "    </tr>\n",
       "  </tbody>\n",
       "</table>\n",
       "</div>"
      ],
      "text/plain": [
       "  brand_name                                               text lang  \\\n",
       "0       Lush  da averle morbide, idratate e prive di pellici...   it   \n",
       "\n",
       "                                                link  mturker  model_decision  \\\n",
       "0  https://blog.cliomakeup.com/2017/03/arco-di-cu...        1             NaN   \n",
       "\n",
       "   labels  aggregated_label  capstone_label  \n",
       "0  [1, 1]              True            True  "
      ]
     },
     "execution_count": 5,
     "metadata": {},
     "output_type": "execute_result"
    }
   ],
   "source": [
    "df_alessandro['capstone_label'] = pd.read_csv('../../Data/csv_for_mturk_eval/labeling_alessandro.csv', encoding='utf-8').capstone_label.values\n",
    "df_alessandro.head(1)"
   ]
  },
  {
   "cell_type": "code",
   "execution_count": 6,
   "metadata": {},
   "outputs": [
    {
     "data": {
      "text/html": [
       "<div>\n",
       "<style scoped>\n",
       "    .dataframe tbody tr th:only-of-type {\n",
       "        vertical-align: middle;\n",
       "    }\n",
       "\n",
       "    .dataframe tbody tr th {\n",
       "        vertical-align: top;\n",
       "    }\n",
       "\n",
       "    .dataframe thead th {\n",
       "        text-align: right;\n",
       "    }\n",
       "</style>\n",
       "<table border=\"1\" class=\"dataframe\">\n",
       "  <thead>\n",
       "    <tr style=\"text-align: right;\">\n",
       "      <th></th>\n",
       "      <th>brand_name</th>\n",
       "      <th>text</th>\n",
       "      <th>lang</th>\n",
       "      <th>link</th>\n",
       "      <th>mturker</th>\n",
       "      <th>model_decision</th>\n",
       "      <th>labels</th>\n",
       "      <th>aggregated_label</th>\n",
       "      <th>capstone_label</th>\n",
       "    </tr>\n",
       "  </thead>\n",
       "  <tbody>\n",
       "    <tr>\n",
       "      <th>0</th>\n",
       "      <td>Vichy</td>\n",
       "      <td>un momento critico per la nostra pelle, ma con...</td>\n",
       "      <td>it</td>\n",
       "      <td>https://www.instagram.com/p/BSybl-nAlvG/</td>\n",
       "      <td>1</td>\n",
       "      <td>NaN</td>\n",
       "      <td>[1, 1, 1, 1]</td>\n",
       "      <td>True</td>\n",
       "      <td>True</td>\n",
       "    </tr>\n",
       "  </tbody>\n",
       "</table>\n",
       "</div>"
      ],
      "text/plain": [
       "  brand_name                                               text lang  \\\n",
       "0      Vichy  un momento critico per la nostra pelle, ma con...   it   \n",
       "\n",
       "                                       link  mturker  model_decision  \\\n",
       "0  https://www.instagram.com/p/BSybl-nAlvG/        1             NaN   \n",
       "\n",
       "         labels  aggregated_label  capstone_label  \n",
       "0  [1, 1, 1, 1]              True            True  "
      ]
     },
     "execution_count": 6,
     "metadata": {},
     "output_type": "execute_result"
    }
   ],
   "source": [
    "df_ginevra['capstone_label'] = pd.read_csv('../../Data/csv_for_mturk_eval/labeling_alessandro.csv', encoding='utf-8').capstone_label.values\n",
    "df_ginevra.head(1)"
   ]
  },
  {
   "cell_type": "code",
   "execution_count": 7,
   "metadata": {},
   "outputs": [],
   "source": [
    "y = df_andrea.capstone_label.values\n",
    "\n",
    "y_andrea = []\n",
    "for label in y:\n",
    "    if (label=='TRUE'):\n",
    "        y_andrea.append(True)\n",
    "    else: # (label=='FALSE' || label=='FALSE ')\n",
    "        y_andrea.append(False)\n",
    "        \n",
    "y_andrea = np.array(y_andrea)"
   ]
  },
  {
   "cell_type": "code",
   "execution_count": 8,
   "metadata": {},
   "outputs": [
    {
     "data": {
      "text/html": [
       "<div>\n",
       "<style scoped>\n",
       "    .dataframe tbody tr th:only-of-type {\n",
       "        vertical-align: middle;\n",
       "    }\n",
       "\n",
       "    .dataframe tbody tr th {\n",
       "        vertical-align: top;\n",
       "    }\n",
       "\n",
       "    .dataframe thead th {\n",
       "        text-align: right;\n",
       "    }\n",
       "</style>\n",
       "<table border=\"1\" class=\"dataframe\">\n",
       "  <thead>\n",
       "    <tr style=\"text-align: right;\">\n",
       "      <th></th>\n",
       "      <th>brand_name</th>\n",
       "      <th>text</th>\n",
       "      <th>lang</th>\n",
       "      <th>link</th>\n",
       "      <th>mturker</th>\n",
       "      <th>model_decision</th>\n",
       "      <th>labels</th>\n",
       "      <th>aggregated_label</th>\n",
       "      <th>capstone_label</th>\n",
       "    </tr>\n",
       "  </thead>\n",
       "  <tbody>\n",
       "    <tr>\n",
       "      <th>0</th>\n",
       "      <td>La Roche-Posay</td>\n",
       "      <td>Pelle perfetta, libera dalle imperfezioni e a ...</td>\n",
       "      <td>it</td>\n",
       "      <td>https://www.instagram.com/p/BL0UxHploJa/</td>\n",
       "      <td>1</td>\n",
       "      <td>NaN</td>\n",
       "      <td>[1, 1, 1, 1, 1, 1, 1, 1]</td>\n",
       "      <td>True</td>\n",
       "      <td>True</td>\n",
       "    </tr>\n",
       "  </tbody>\n",
       "</table>\n",
       "</div>"
      ],
      "text/plain": [
       "       brand_name                                               text lang  \\\n",
       "0  La Roche-Posay  Pelle perfetta, libera dalle imperfezioni e a ...   it   \n",
       "\n",
       "                                       link  mturker  model_decision  \\\n",
       "0  https://www.instagram.com/p/BL0UxHploJa/        1             NaN   \n",
       "\n",
       "                     labels  aggregated_label  capstone_label  \n",
       "0  [1, 1, 1, 1, 1, 1, 1, 1]              True            True  "
      ]
     },
     "execution_count": 8,
     "metadata": {},
     "output_type": "execute_result"
    }
   ],
   "source": [
    "df_andrea['capstone_label'] = y_andrea\n",
    "df_andrea.head(1)"
   ]
  },
  {
   "cell_type": "markdown",
   "metadata": {},
   "source": [
    "# Concatenate the dataframes to produce final result"
   ]
  },
  {
   "cell_type": "code",
   "execution_count": 9,
   "metadata": {},
   "outputs": [
    {
     "data": {
      "text/html": [
       "<div>\n",
       "<style scoped>\n",
       "    .dataframe tbody tr th:only-of-type {\n",
       "        vertical-align: middle;\n",
       "    }\n",
       "\n",
       "    .dataframe tbody tr th {\n",
       "        vertical-align: top;\n",
       "    }\n",
       "\n",
       "    .dataframe thead th {\n",
       "        text-align: right;\n",
       "    }\n",
       "</style>\n",
       "<table border=\"1\" class=\"dataframe\">\n",
       "  <thead>\n",
       "    <tr style=\"text-align: right;\">\n",
       "      <th></th>\n",
       "      <th>brand_name</th>\n",
       "      <th>text</th>\n",
       "      <th>lang</th>\n",
       "      <th>link</th>\n",
       "      <th>mturker</th>\n",
       "      <th>model_decision</th>\n",
       "      <th>labels</th>\n",
       "      <th>aggregated_label</th>\n",
       "      <th>capstone_label</th>\n",
       "    </tr>\n",
       "  </thead>\n",
       "  <tbody>\n",
       "    <tr>\n",
       "      <th>0</th>\n",
       "      <td>Lush</td>\n",
       "      <td>da averle morbide, idratate e prive di pellici...</td>\n",
       "      <td>it</td>\n",
       "      <td>https://blog.cliomakeup.com/2017/03/arco-di-cu...</td>\n",
       "      <td>1</td>\n",
       "      <td>NaN</td>\n",
       "      <td>[1, 1]</td>\n",
       "      <td>True</td>\n",
       "      <td>True</td>\n",
       "    </tr>\n",
       "    <tr>\n",
       "      <th>1</th>\n",
       "      <td>Dove</td>\n",
       "      <td>Dove son finita Come promesso sono tornata!\\r\\...</td>\n",
       "      <td>it</td>\n",
       "      <td>https://www.youtube.com/watch?v=XItKOoQWY2Q</td>\n",
       "      <td>1</td>\n",
       "      <td>NaN</td>\n",
       "      <td>[1, 1, 1, 0]</td>\n",
       "      <td>True</td>\n",
       "      <td>False</td>\n",
       "    </tr>\n",
       "    <tr>\n",
       "      <th>2</th>\n",
       "      <td>Vichy</td>\n",
       "      <td>un momento critico per la nostra pelle, ma con...</td>\n",
       "      <td>it</td>\n",
       "      <td>https://www.instagram.com/p/BSybl-nAlvG/</td>\n",
       "      <td>1</td>\n",
       "      <td>NaN</td>\n",
       "      <td>[1, 1, 1, 1]</td>\n",
       "      <td>True</td>\n",
       "      <td>True</td>\n",
       "    </tr>\n",
       "    <tr>\n",
       "      <th>3</th>\n",
       "      <td>Lush</td>\n",
       "      <td>MY BEAUTY PROTOCOLE  \\r\\n#pink #girlsnightout ...</td>\n",
       "      <td>it</td>\n",
       "      <td>https://www.instagram.com/p/BSWqwr-BQAt/</td>\n",
       "      <td>1</td>\n",
       "      <td>NaN</td>\n",
       "      <td>[1, 1, 1, 1, 1]</td>\n",
       "      <td>True</td>\n",
       "      <td>True</td>\n",
       "    </tr>\n",
       "    <tr>\n",
       "      <th>4</th>\n",
       "      <td>La Roche-Posay</td>\n",
       "      <td>@avon.italia , Gimme Brow di @benefitcosmetics...</td>\n",
       "      <td>it</td>\n",
       "      <td>https://www.facebook.com/1555633388011833/post...</td>\n",
       "      <td>1</td>\n",
       "      <td>NaN</td>\n",
       "      <td>[1, 1, 1, 1]</td>\n",
       "      <td>True</td>\n",
       "      <td>True</td>\n",
       "    </tr>\n",
       "  </tbody>\n",
       "</table>\n",
       "</div>"
      ],
      "text/plain": [
       "       brand_name                                               text lang  \\\n",
       "0            Lush  da averle morbide, idratate e prive di pellici...   it   \n",
       "1            Dove  Dove son finita Come promesso sono tornata!\\r\\...   it   \n",
       "2           Vichy  un momento critico per la nostra pelle, ma con...   it   \n",
       "3            Lush  MY BEAUTY PROTOCOLE  \\r\\n#pink #girlsnightout ...   it   \n",
       "4  La Roche-Posay  @avon.italia , Gimme Brow di @benefitcosmetics...   it   \n",
       "\n",
       "                                                link  mturker  model_decision  \\\n",
       "0  https://blog.cliomakeup.com/2017/03/arco-di-cu...        1             NaN   \n",
       "1        https://www.youtube.com/watch?v=XItKOoQWY2Q        1             NaN   \n",
       "2           https://www.instagram.com/p/BSybl-nAlvG/        1             NaN   \n",
       "3           https://www.instagram.com/p/BSWqwr-BQAt/        1             NaN   \n",
       "4  https://www.facebook.com/1555633388011833/post...        1             NaN   \n",
       "\n",
       "            labels  aggregated_label  capstone_label  \n",
       "0           [1, 1]              True            True  \n",
       "1     [1, 1, 1, 0]              True           False  \n",
       "2     [1, 1, 1, 1]              True            True  \n",
       "3  [1, 1, 1, 1, 1]              True            True  \n",
       "4     [1, 1, 1, 1]              True            True  "
      ]
     },
     "execution_count": 9,
     "metadata": {},
     "output_type": "execute_result"
    }
   ],
   "source": [
    "df = pd.concat([df_alessandro, df_ginevra, df_andrea])\n",
    "df.head(5)"
   ]
  },
  {
   "cell_type": "code",
   "execution_count": 10,
   "metadata": {},
   "outputs": [
    {
     "data": {
      "text/plain": [
       "(180, 9)"
      ]
     },
     "execution_count": 10,
     "metadata": {},
     "output_type": "execute_result"
    }
   ],
   "source": [
    "df.shape"
   ]
  },
  {
   "cell_type": "markdown",
   "metadata": {},
   "source": [
    "# Confusion matrix"
   ]
  },
  {
   "cell_type": "code",
   "execution_count": 11,
   "metadata": {},
   "outputs": [],
   "source": [
    "y_capstone = df.capstone_label.values.astype(np.bool)\n",
    "y_mturk = df.aggregated_label.values.astype(np.bool)"
   ]
  },
  {
   "cell_type": "code",
   "execution_count": 12,
   "metadata": {},
   "outputs": [
    {
     "name": "stdout",
     "output_type": "stream",
     "text": [
      "Confusion matrix, without normalization\n",
      "[[81  5]\n",
      " [ 9 85]]\n",
      "Normalized confusion matrix\n",
      "[[0.94 0.06]\n",
      " [0.1  0.9 ]]\n"
     ]
    },
    {
     "data": {
      "image/png": "[encoded data removed]",
      "text/plain": [
       "<matplotlib.figure.Figure at 0x2a60cbc1080>"
      ]
     },
     "metadata": {},
     "output_type": "display_data"
    },
    {
     "data": {
      "image/png": "[encoded data removed]",
      "text/plain": [
       "<matplotlib.figure.Figure at 0x2a60cc15eb8>"
      ]
     },
     "metadata": {},
     "output_type": "display_data"
    }
   ],
   "source": [
    "%matplotlib inline\n",
    "import itertools\n",
    "import matplotlib.pyplot as plt\n",
    "from sklearn.metrics import confusion_matrix\n",
    "\n",
    "class_names = [False, True]\n",
    "\n",
    "def plot_confusion_matrix(cm, classes,\n",
    "                          normalize=False,\n",
    "                          title='Confusion matrix',\n",
    "                          cmap=plt.cm.Blues):\n",
    "    \"\"\"\n",
    "    This function prints and plots the confusion matrix.\n",
    "    Normalization can be applied by setting `normalize=True`.\n",
    "    \"\"\"\n",
    "    if normalize:\n",
    "        cm = cm.astype('float') / cm.sum(axis=1)[:, np.newaxis]\n",
    "        print(\"Normalized confusion matrix\")\n",
    "    else:\n",
    "        print('Confusion matrix, without normalization')\n",
    "\n",
    "    print(cm)\n",
    "\n",
    "    plt.imshow(cm, interpolation='nearest', cmap=cmap)\n",
    "    plt.title(title)\n",
    "    plt.colorbar()\n",
    "    tick_marks = np.arange(len(classes))\n",
    "    plt.xticks(tick_marks, classes, rotation=45)\n",
    "    plt.yticks(tick_marks, classes)\n",
    "\n",
    "    fmt = '.3f' if normalize else 'd'\n",
    "    thresh = cm.max() / 2.\n",
    "    for i, j in itertools.product(range(cm.shape[0]), range(cm.shape[1])):\n",
    "        plt.text(j, i, format(cm[i, j], fmt),\n",
    "                 horizontalalignment=\"center\",\n",
    "                 color=\"white\" if cm[i, j] > thresh else \"black\")\n",
    "\n",
    "    plt.tight_layout()\n",
    "    plt.ylabel('Capstone label')\n",
    "    plt.xlabel('MTurk label')\n",
    "\n",
    "# Compute confusion matrix\n",
    "cnf_matrix = confusion_matrix(y_capstone, y_mturk) #confusion_matrix(y_test, y_pred)\n",
    "np.set_printoptions(precision=2)\n",
    "\n",
    "# Plot non-normalized confusion matrix\n",
    "plt.figure()\n",
    "plot_confusion_matrix(cnf_matrix, classes=class_names,\n",
    "                      title='Confusion matrix, without normalization')\n",
    "\n",
    "# Plot normalized confusion matrix\n",
    "plt.figure()\n",
    "plot_confusion_matrix(cnf_matrix, classes=class_names, normalize=True,\n",
    "                      title='Normalized confusion matrix')\n",
    "\n",
    "plt.show()"
   ]
  },
  {
   "cell_type": "markdown",
   "metadata": {},
   "source": [
    "# Compute accuracy of the labeling between us and MTurk"
   ]
  },
  {
   "cell_type": "code",
   "execution_count": 13,
   "metadata": {
    "scrolled": true
   },
   "outputs": [
    {
     "name": "stdout",
     "output_type": "stream",
     "text": [
      "Accuracy overall = 0.922\n",
      "Correct overall = 166\n",
      "Wrong overall = 14\n"
     ]
    }
   ],
   "source": [
    "from sklearn.metrics import accuracy_score\n",
    "print('Accuracy overall = {:.3f}'.format(accuracy_score(y_capstone, y_mturk)))\n",
    "print('Correct overall = {}'.format(accuracy_score(y_capstone, y_mturk, normalize=False)))\n",
    "print('Wrong overall = {}'.format(df.shape[0] - accuracy_score(y_capstone, y_mturk, normalize=False)))"
   ]
  },
  {
   "cell_type": "markdown",
   "metadata": {},
   "source": [
    "## Overall per language"
   ]
  },
  {
   "cell_type": "markdown",
   "metadata": {},
   "source": [
    "### Italian"
   ]
  },
  {
   "cell_type": "code",
   "execution_count": 14,
   "metadata": {},
   "outputs": [],
   "source": [
    "df_mturk_it = df.loc[df['lang'] == 'it']"
   ]
  },
  {
   "cell_type": "code",
   "execution_count": 15,
   "metadata": {},
   "outputs": [],
   "source": [
    "y_capstone = df_mturk_it.capstone_label.values.astype(np.bool)\n",
    "y_mturk = df_mturk_it.aggregated_label.values.astype(np.bool)"
   ]
  },
  {
   "cell_type": "code",
   "execution_count": 16,
   "metadata": {},
   "outputs": [
    {
     "name": "stdout",
     "output_type": "stream",
     "text": [
      "Accuracy Italian = 0.900\n",
      "Correct in Italian = 54\n",
      "Wrong in French = 6\n"
     ]
    }
   ],
   "source": [
    "print('Accuracy Italian = {:.3f}'.format(accuracy_score(y_capstone, y_mturk)))\n",
    "print('Correct in Italian = {}'.format(accuracy_score(y_capstone, y_mturk, normalize=False)))\n",
    "print('Wrong in French = {}'.format(df_mturk_it.shape[0] - accuracy_score(y_capstone, y_mturk, normalize=False)))"
   ]
  },
  {
   "cell_type": "markdown",
   "metadata": {},
   "source": [
    "### Spanish"
   ]
  },
  {
   "cell_type": "code",
   "execution_count": 17,
   "metadata": {},
   "outputs": [],
   "source": [
    "df_mturk_es = df.loc[df['lang'] == 'es']"
   ]
  },
  {
   "cell_type": "code",
   "execution_count": 18,
   "metadata": {},
   "outputs": [],
   "source": [
    "y_capstone = df_mturk_es.capstone_label.values.astype(np.bool)\n",
    "y_mturk = df_mturk_es.aggregated_label.values.astype(np.bool)"
   ]
  },
  {
   "cell_type": "code",
   "execution_count": 19,
   "metadata": {},
   "outputs": [
    {
     "name": "stdout",
     "output_type": "stream",
     "text": [
      "Accuracy Spanish = 0.950\n",
      "Correct in Spanish = 57\n",
      "Wrong in Spanish = 3\n"
     ]
    }
   ],
   "source": [
    "print('Accuracy Spanish = {:.3f}'.format(accuracy_score(y_capstone, y_mturk)))\n",
    "print('Correct in Spanish = {}'.format(accuracy_score(y_capstone, y_mturk, normalize=False)))\n",
    "print('Wrong in Spanish = {}'.format(df_mturk_es.shape[0] - accuracy_score(y_capstone, y_mturk, normalize=False)))"
   ]
  },
  {
   "cell_type": "markdown",
   "metadata": {},
   "source": [
    "### French"
   ]
  },
  {
   "cell_type": "code",
   "execution_count": 20,
   "metadata": {},
   "outputs": [],
   "source": [
    "df_mturk_fr = df.loc[df['lang'] == 'fr']"
   ]
  },
  {
   "cell_type": "code",
   "execution_count": 21,
   "metadata": {},
   "outputs": [],
   "source": [
    "y_capstone = df_mturk_fr.capstone_label.values.astype(np.bool)\n",
    "y_mturk = df_mturk_fr.aggregated_label.values.astype(np.bool)"
   ]
  },
  {
   "cell_type": "code",
   "execution_count": 22,
   "metadata": {},
   "outputs": [
    {
     "name": "stdout",
     "output_type": "stream",
     "text": [
      "Accuracy French = 0.917\n",
      "Correct in French = 55\n",
      "Wrong in French = 5\n"
     ]
    }
   ],
   "source": [
    "print('Accuracy French = {:.3f}'.format(accuracy_score(y_capstone, y_mturk)))\n",
    "print('Correct in French = {}'.format(accuracy_score(y_capstone, y_mturk, normalize=False)))\n",
    "print('Wrong in French = {}'.format(df_mturk_fr.shape[0] - accuracy_score(y_capstone, y_mturk, normalize=False)))"
   ]
  }
 ],
 "metadata": {
  "kernelspec": {
   "display_name": "Python 3",
   "language": "python",
   "name": "python3"
  },
  "language_info": {
   "codemirror_mode": {
    "name": "ipython",
    "version": 3
   },
   "file_extension": ".py",
   "mimetype": "text/x-python",
   "name": "python",
   "nbconvert_exporter": "python",
   "pygments_lexer": "ipython3",
   "version": "3.6.4"
  }
 },
 "nbformat": 4,
 "nbformat_minor": 2
}
