{
 "cells": [
  {
   "cell_type": "code",
   "execution_count": 1,
   "metadata": {
    "collapsed": true
   },
   "outputs": [],
   "source": [
    "import pandas as pd\n",
    "\n",
    "from collections import Counter"
   ]
  },
  {
   "cell_type": "code",
   "execution_count": 2,
   "metadata": {
    "collapsed": true
   },
   "outputs": [],
   "source": [
    "# Change here the brand_id according to json file naming\n",
    "brand_id = '8009'"
   ]
  },
  {
   "cell_type": "code",
   "execution_count": 3,
   "metadata": {
    "collapsed": true
   },
   "outputs": [],
   "source": [
    "# Import json files (data and metadata)\n",
    "import codecs, json\n",
    "\n",
    "with codecs.open('Data/CSE_20180215/' + brand_id + '_data.json', 'r', 'utf-8') as f_data:\n",
    "    tweets_dict_list = json.load(f_data, encoding='utf-8')\n",
    "    \n",
    "with codecs.open('Data/CSE_20180215/' + brand_id + '_metadata.json') as f_metadata:\n",
    "    metadata_dict = json.load(f_metadata, encoding='utf-8')"
   ]
  },
  {
   "cell_type": "code",
   "execution_count": 4,
   "metadata": {
    "scrolled": true
   },
   "outputs": [
    {
     "data": {
      "text/plain": [
       "{'brand_id': 8009,\n",
       " 'brand_name': 'Caudalie',\n",
       " 'search_terms': ['#caudaliecanada',\n",
       "  '#caudalielovesdus',\n",
       "  '#caudaliemy',\n",
       "  '#caudalieparis',\n",
       "  '#caudalierussia',\n",
       "  '#caudaliexjasonwu',\n",
       "  '#jasonwuforcaudalie',\n",
       "  '#jasonwuxcaudalie',\n",
       "  '#lessourcesdecaudalie',\n",
       "  '#кодали',\n",
       "  '@caudalieparis',\n",
       "  '@caudalieuk',\n",
       "  '@lessourcesdecaudalie',\n",
       "  'caudalie',\n",
       "  'caudalieespana',\n",
       "  'caudalieespaña',\n",
       "  'caudalieusa',\n",
       "  'caudelie',\n",
       "  '꼬달리']}"
      ]
     },
     "execution_count": 4,
     "metadata": {},
     "output_type": "execute_result"
    }
   ],
   "source": [
    "# Brand information\n",
    "metadata_dict"
   ]
  },
  {
   "cell_type": "code",
   "execution_count": 5,
   "metadata": {},
   "outputs": [
    {
     "name": "stdout",
     "output_type": "stream",
     "text": [
      "Example of one tweet:\n"
     ]
    },
    {
     "data": {
      "text/plain": [
       "{'labels': [1, 1, 1, 1],\n",
       " 'lang': 'en',\n",
       " 'link': 'http://www.thebeautyisle.com/2015/01/sephora-ulta-haul.html',\n",
       " 'model_decision': None,\n",
       " 'mturker': 1,\n",
       " 'text': 'Favorites Summer Crushes - $30This is another great deal because it was $45 regular price.\\xa0 This set includes sample sizes of:-Caudalie Divine Oil - Vita Liberata pHenomenal 2-3 Week Tan Mousse in Medium - Mini tanning mitt - Bumble and bumble'}"
      ]
     },
     "execution_count": 5,
     "metadata": {},
     "output_type": "execute_result"
    }
   ],
   "source": [
    "tweet_index = 0\n",
    "print ('Example of one tweet:')\n",
    "tweets_dict_list[tweet_index]"
   ]
  },
  {
   "cell_type": "code",
   "execution_count": 6,
   "metadata": {},
   "outputs": [
    {
     "data": {
      "text/html": [
       "<div>\n",
       "<style>\n",
       "    .dataframe thead tr:only-child th {\n",
       "        text-align: right;\n",
       "    }\n",
       "\n",
       "    .dataframe thead th {\n",
       "        text-align: left;\n",
       "    }\n",
       "\n",
       "    .dataframe tbody tr th {\n",
       "        vertical-align: top;\n",
       "    }\n",
       "</style>\n",
       "<table border=\"1\" class=\"dataframe\">\n",
       "  <thead>\n",
       "    <tr style=\"text-align: right;\">\n",
       "      <th></th>\n",
       "      <th>text</th>\n",
       "      <th>lang</th>\n",
       "      <th>model_decision</th>\n",
       "      <th>labels</th>\n",
       "      <th>mturker</th>\n",
       "      <th>link</th>\n",
       "    </tr>\n",
       "  </thead>\n",
       "  <tbody>\n",
       "    <tr>\n",
       "      <th>0</th>\n",
       "      <td>Favorites Summer Crushes - $30This is another ...</td>\n",
       "      <td>en</td>\n",
       "      <td>None</td>\n",
       "      <td>[1, 1, 1, 1]</td>\n",
       "      <td>1</td>\n",
       "      <td>http://www.thebeautyisle.com/2015/01/sephora-u...</td>\n",
       "    </tr>\n",
       "    <tr>\n",
       "      <th>1</th>\n",
       "      <td>.@CaudalieUSA’s new C15 line takes charge of o...</td>\n",
       "      <td>en</td>\n",
       "      <td>None</td>\n",
       "      <td>[1, 1, 1, 1]</td>\n",
       "      <td>1</td>\n",
       "      <td>https://www.twitter.com/Sephora/statuses/46565...</td>\n",
       "    </tr>\n",
       "    <tr>\n",
       "      <th>2</th>\n",
       "      <td>I love a simple, cheap and easy to find produc...</td>\n",
       "      <td>en</td>\n",
       "      <td>None</td>\n",
       "      <td>[1, 1]</td>\n",
       "      <td>1</td>\n",
       "      <td>http://www.la-fille-en-rose.com/2012/10/dry-sk...</td>\n",
       "    </tr>\n",
       "    <tr>\n",
       "      <th>3</th>\n",
       "      <td>Yay it's @CaudalieUSA turn #sephora #weareseph...</td>\n",
       "      <td>en</td>\n",
       "      <td>None</td>\n",
       "      <td>[1, 1, 1, 1]</td>\n",
       "      <td>1</td>\n",
       "      <td>https://www.twitter.com/CaitlinAPearl/statuses...</td>\n",
       "    </tr>\n",
       "    <tr>\n",
       "      <th>4</th>\n",
       "      <td>@LadyAndTheLook I started using a face oil fro...</td>\n",
       "      <td>en</td>\n",
       "      <td>None</td>\n",
       "      <td>[1, 1, 1, 1]</td>\n",
       "      <td>1</td>\n",
       "      <td>https://www.twitter.com/stylecontext/statuses/...</td>\n",
       "    </tr>\n",
       "  </tbody>\n",
       "</table>\n",
       "</div>"
      ],
      "text/plain": [
       "                                                text lang model_decision  \\\n",
       "0  Favorites Summer Crushes - $30This is another ...   en           None   \n",
       "1  .@CaudalieUSA’s new C15 line takes charge of o...   en           None   \n",
       "2  I love a simple, cheap and easy to find produc...   en           None   \n",
       "3  Yay it's @CaudalieUSA turn #sephora #weareseph...   en           None   \n",
       "4  @LadyAndTheLook I started using a face oil fro...   en           None   \n",
       "\n",
       "         labels  mturker                                               link  \n",
       "0  [1, 1, 1, 1]        1  http://www.thebeautyisle.com/2015/01/sephora-u...  \n",
       "1  [1, 1, 1, 1]        1  https://www.twitter.com/Sephora/statuses/46565...  \n",
       "2        [1, 1]        1  http://www.la-fille-en-rose.com/2012/10/dry-sk...  \n",
       "3  [1, 1, 1, 1]        1  https://www.twitter.com/CaitlinAPearl/statuses...  \n",
       "4  [1, 1, 1, 1]        1  https://www.twitter.com/stylecontext/statuses/...  "
      ]
     },
     "execution_count": 6,
     "metadata": {},
     "output_type": "execute_result"
    }
   ],
   "source": [
    "df_full = pd.DataFrame.from_dict(tweets_dict_list)\n",
    "# Repositioning columns order\n",
    "df_full = df_full[['text','lang','model_decision','labels','mturker', 'link']]\n",
    "df_full.head(5)"
   ]
  },
  {
   "cell_type": "code",
   "execution_count": 7,
   "metadata": {},
   "outputs": [
    {
     "name": "stdout",
     "output_type": "stream",
     "text": [
      "Number of samples: 1188\n"
     ]
    }
   ],
   "source": [
    "print(\"Number of samples: {}\".format(df_full.shape[0]))"
   ]
  },
  {
   "cell_type": "code",
   "execution_count": 8,
   "metadata": {
    "scrolled": true
   },
   "outputs": [
    {
     "data": {
      "text/plain": [
       "Counter({'en': 706,\n",
       "         'de': 102,\n",
       "         'fr': 96,\n",
       "         'es': 71,\n",
       "         'no': 1,\n",
       "         None: 5,\n",
       "         'ru': 17,\n",
       "         'pt': 62,\n",
       "         'it': 57,\n",
       "         'ar': 2,\n",
       "         'ja': 2,\n",
       "         'ko': 63,\n",
       "         'zh': 1,\n",
       "         'fa': 2,\n",
       "         'af': 1})"
      ]
     },
     "execution_count": 8,
     "metadata": {},
     "output_type": "execute_result"
    }
   ],
   "source": [
    "# Languages count\n",
    "Counter(df_full.lang.values)"
   ]
  },
  {
   "cell_type": "code",
   "execution_count": 9,
   "metadata": {},
   "outputs": [
    {
     "data": {
      "text/plain": [
       "Counter({None: 1188})"
      ]
     },
     "execution_count": 9,
     "metadata": {},
     "output_type": "execute_result"
    }
   ],
   "source": [
    "# Model decision count\n",
    "Counter(df_full.model_decision.values)"
   ]
  },
  {
   "cell_type": "code",
   "execution_count": 10,
   "metadata": {},
   "outputs": [
    {
     "name": "stdout",
     "output_type": "stream",
     "text": [
      "0 = Tribe employee | 1 = MTurk labeler\n"
     ]
    },
    {
     "data": {
      "text/plain": [
       "Counter({0: 720, 1: 468})"
      ]
     },
     "execution_count": 10,
     "metadata": {},
     "output_type": "execute_result"
    }
   ],
   "source": [
    "# MTurk count\n",
    "print('0 = Tribe employee | 1 = MTurk labeler')\n",
    "Counter(df_full.mturker.values)"
   ]
  }
 ],
 "metadata": {
  "kernelspec": {
   "display_name": "Python 3",
   "language": "python",
   "name": "python3"
  },
  "language_info": {
   "codemirror_mode": {
    "name": "ipython",
    "version": 3
   },
   "file_extension": ".py",
   "mimetype": "text/x-python",
   "name": "python",
   "nbconvert_exporter": "python",
   "pygments_lexer": "ipython3",
   "version": "3.6.3"
  }
 },
 "nbformat": 4,
 "nbformat_minor": 2
}
